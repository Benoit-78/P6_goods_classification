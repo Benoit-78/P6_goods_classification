{
 "cells": [
  {
   "cell_type": "markdown",
   "source": [
    "# **I. Introduction**"
   ],
   "metadata": {
    "collapsed": false,
    "id": "i6nyxG2kSluv"
   }
  },
  {
   "cell_type": "markdown",
   "source": [
    "## A. Needs"
   ],
   "metadata": {
    "collapsed": false,
    "id": "ItElGfJySluw"
   }
  },
  {
   "cell_type": "code",
   "execution_count": 110,
   "outputs": [],
   "source": [
    "# Clustering need, with texte data and pictures data."
   ],
   "metadata": {
    "pycharm": {
     "name": "#%%\n"
    },
    "id": "Iwnrd_7cSlux",
    "executionInfo": {
     "status": "ok",
     "timestamp": 1641981024141,
     "user_tz": -60,
     "elapsed": 246,
     "user": {
      "displayName": "Benoît DELORME",
      "photoUrl": "https://lh3.googleusercontent.com/a/default-user=s64",
      "userId": "03178733258717085125"
     }
    }
   }
  },
  {
   "cell_type": "code",
   "source": [
    "from google.colab import drive\n",
    "drive.mount('/content/drive')"
   ],
   "metadata": {
    "colab": {
     "base_uri": "https://localhost:8080/"
    },
    "id": "2hhxpCxCiFpb",
    "executionInfo": {
     "status": "ok",
     "timestamp": 1641981026663,
     "user_tz": -60,
     "elapsed": 1954,
     "user": {
      "displayName": "Benoît DELORME",
      "photoUrl": "https://lh3.googleusercontent.com/a/default-user=s64",
      "userId": "03178733258717085125"
     }
    },
    "outputId": "b91515bc-f323-48c9-cd7d-c337bb19a5c5"
   },
   "execution_count": 111,
   "outputs": [
    {
     "output_type": "stream",
     "name": "stdout",
     "text": [
      "Drive already mounted at /content/drive; to attempt to forcibly remount, call drive.mount(\"/content/drive\", force_remount=True).\n"
     ]
    }
   ]
  },
  {
   "cell_type": "markdown",
   "source": [
    "## B. Imports"
   ],
   "metadata": {
    "collapsed": false,
    "id": "CoOjasG6Slux"
   }
  },
  {
   "cell_type": "markdown",
   "source": [
    "### 0 pre-imports"
   ],
   "metadata": {
    "collapsed": false,
    "id": "qTshm_7jSluy"
   }
  },
  {
   "cell_type": "code",
   "execution_count": 112,
   "outputs": [
    {
     "output_type": "stream",
     "name": "stdout",
     "text": [
      "Requirement already satisfied: opencv-python-headless==4.1.2.30 in /usr/local/lib/python3.7/dist-packages (4.1.2.30)\n",
      "Requirement already satisfied: numpy>=1.14.5 in /usr/local/lib/python3.7/dist-packages (from opencv-python-headless==4.1.2.30) (1.19.5)\n"
     ]
    }
   ],
   "source": [
    "!pip install opencv-python-headless==4.1.2.30"
   ],
   "metadata": {
    "pycharm": {
     "name": "#%%\n"
    },
    "colab": {
     "base_uri": "https://localhost:8080/"
    },
    "id": "3Bxr9varSluy",
    "executionInfo": {
     "status": "ok",
     "timestamp": 1641981030054,
     "user_tz": -60,
     "elapsed": 3395,
     "user": {
      "displayName": "Benoît DELORME",
      "photoUrl": "https://lh3.googleusercontent.com/a/default-user=s64",
      "userId": "03178733258717085125"
     }
    },
    "outputId": "1c9a7aac-189a-4a1d-bfb6-ba1f9517af91"
   }
  },
  {
   "cell_type": "markdown",
   "source": [
    "### 1 Complete imports"
   ],
   "metadata": {
    "collapsed": false,
    "id": "QTvcX6KASluz"
   }
  },
  {
   "cell_type": "code",
   "execution_count": 113,
   "outputs": [],
   "source": [
    "import cv2\n",
    "import datetime as dt\n",
    "import itertools\n",
    "import math\n",
    "import matplotlib.pyplot as plt\n",
    "import nltk\n",
    "import numpy as np\n",
    "import pandas as pd\n",
    "import re\n",
    "import seaborn as sns\n",
    "import statistics as stat\n",
    "import time"
   ],
   "metadata": {
    "pycharm": {
     "name": "#%%\n"
    },
    "id": "-xNOK3wGSluz",
    "executionInfo": {
     "status": "ok",
     "timestamp": 1641981030055,
     "user_tz": -60,
     "elapsed": 15,
     "user": {
      "displayName": "Benoît DELORME",
      "photoUrl": "https://lh3.googleusercontent.com/a/default-user=s64",
      "userId": "03178733258717085125"
     }
    }
   }
  },
  {
   "cell_type": "markdown",
   "source": [
    "### 2 Partial imports"
   ],
   "metadata": {
    "collapsed": false,
    "id": "5-9z7HVhSlu0"
   }
  },
  {
   "cell_type": "code",
   "execution_count": 114,
   "outputs": [],
   "source": [
    "# Classical libraries\n",
    "from collections import Counter\n",
    "from difflib import SequenceMatcher\n",
    "\n",
    "# Data science libraries\n",
    "from google.colab.patches import cv2_imshow\n",
    "\n",
    "from keras.applications.vgg16 import VGG16, preprocess_input, decode_predictions\n",
    "from keras.preprocessing.image import load_img, img_to_array\n",
    "\n",
    "from nltk.stem import WordNetLemmatizer\n",
    "from nltk.stem.snowball import EnglishStemmer\n",
    "\n",
    "from PIL import Image, ImageFilter, ImageOps\n",
    "\n",
    "from scipy import ndimage as ndi\n",
    "\n",
    "from skimage import feature\n",
    "from skimage import filters\n",
    "from skimage.io import imread\n",
    "from skimage.color import rgb2gray\n",
    "from skimage.util import random_noise\n",
    "\n",
    "from sklearn.cluster import KMeans, DBSCAN\n",
    "from sklearn.decomposition import PCA, LatentDirichletAllocation\n",
    "from sklearn.feature_extraction.text import CountVectorizer, TfidfVectorizer, TfidfTransformer\n",
    "from sklearn import metrics\n",
    "from sklearn.metrics import davies_bouldin_score, pairwise_distances\n",
    "from sklearn.manifold import TSNE, LocallyLinearEmbedding, MDS\n",
    "from sklearn.model_selection import KFold, RandomizedSearchCV\n",
    "from sklearn.preprocessing import OneHotEncoder\n",
    "from yellowbrick.text import TSNEVisualizer"
   ],
   "metadata": {
    "pycharm": {
     "name": "#%%\n"
    },
    "id": "Ixbx2g7zSlu1",
    "executionInfo": {
     "status": "ok",
     "timestamp": 1641981030056,
     "user_tz": -60,
     "elapsed": 13,
     "user": {
      "displayName": "Benoît DELORME",
      "photoUrl": "https://lh3.googleusercontent.com/a/default-user=s64",
      "userId": "03178733258717085125"
     }
    }
   }
  },
  {
   "cell_type": "markdown",
   "source": [
    "### 3 Options"
   ],
   "metadata": {
    "collapsed": false,
    "id": "EJ9l11BaSlu3"
   }
  },
  {
   "cell_type": "code",
   "execution_count": 115,
   "outputs": [
    {
     "output_type": "stream",
     "name": "stdout",
     "text": [
      "[nltk_data] Downloading package stopwords to /root/nltk_data...\n",
      "[nltk_data]   Package stopwords is already up-to-date!\n"
     ]
    }
   ],
   "source": [
    "# NLTK\n",
    "nltk.download('stopwords')\n",
    "pd.options.display.max_info_columns = 50\n",
    "pd.options.display.precision = 5\n",
    "sns.set_theme(style=\"darkgrid\")"
   ],
   "metadata": {
    "pycharm": {
     "name": "#%%\n"
    },
    "colab": {
     "base_uri": "https://localhost:8080/"
    },
    "id": "pBvclpL8Slu3",
    "executionInfo": {
     "status": "ok",
     "timestamp": 1641981030056,
     "user_tz": -60,
     "elapsed": 11,
     "user": {
      "displayName": "Benoît DELORME",
      "photoUrl": "https://lh3.googleusercontent.com/a/default-user=s64",
      "userId": "03178733258717085125"
     }
    },
    "outputId": "c114a277-d065-43fc-fbe8-f13640a53907"
   }
  },
  {
   "cell_type": "markdown",
   "source": [
    "## C. Uploading"
   ],
   "metadata": {
    "collapsed": false,
    "id": "qvohxrHTSlu3"
   }
  },
  {
   "cell_type": "markdown",
   "source": [
    "### 0 Functions"
   ],
   "metadata": {
    "collapsed": false,
    "id": "W5Qd1XffSlu4"
   }
  },
  {
   "cell_type": "code",
   "execution_count": 116,
   "outputs": [],
   "source": [
    "def upload_csv(path, file, df, df_name):\n",
    "    ''' Functions that read a csv file and returns a pandas dataframe.'''\n",
    "    df = pd.read_csv(path + file, sep=',')\n",
    "    df.name = df_name\n",
    "    return df"
   ],
   "metadata": {
    "pycharm": {
     "name": "#%%\n"
    },
    "id": "giAat3fqSlu4",
    "executionInfo": {
     "status": "ok",
     "timestamp": 1641981030056,
     "user_tz": -60,
     "elapsed": 8,
     "user": {
      "displayName": "Benoît DELORME",
      "photoUrl": "https://lh3.googleusercontent.com/a/default-user=s64",
      "userId": "03178733258717085125"
     }
    }
   }
  },
  {
   "cell_type": "markdown",
   "source": [
    "### 1 Uploading"
   ],
   "metadata": {
    "collapsed": false,
    "id": "FUswFvIvSlu4"
   }
  },
  {
   "cell_type": "code",
   "execution_count": 117,
   "outputs": [],
   "source": [
    "# Constants\n",
    "PATH = 'drive/My Drive/Colab Notebooks/ocr_data_scientist/P6 Classification automatique/'\n",
    "PATH_TEXT = PATH + 'Flipkart/'\n",
    "FILE_TEXT = 'flipkart_com-ecommerce_sample_1050.csv'\n",
    "PATH_PICTURE = PATH + 'Flipkart/Images/'\n",
    "\n",
    "# CSV data extraction\n",
    "items_df = upload_csv(path=PATH_TEXT, file=FILE_TEXT,\n",
    "                      df='items_df', df_name='Items')"
   ],
   "metadata": {
    "pycharm": {
     "name": "#%%\n"
    },
    "id": "zxlb5AvWSlu5",
    "executionInfo": {
     "status": "ok",
     "timestamp": 1641981030539,
     "user_tz": -60,
     "elapsed": 491,
     "user": {
      "displayName": "Benoît DELORME",
      "photoUrl": "https://lh3.googleusercontent.com/a/default-user=s64",
      "userId": "03178733258717085125"
     }
    }
   }
  },
  {
   "cell_type": "code",
   "execution_count": 118,
   "outputs": [
    {
     "output_type": "stream",
     "name": "stdout",
     "text": [
      "Requirement already satisfied: pipreqs in /usr/local/lib/python3.7/dist-packages (0.4.11)\n",
      "Requirement already satisfied: yarg in /usr/local/lib/python3.7/dist-packages (from pipreqs) (0.1.9)\n",
      "Requirement already satisfied: docopt in /usr/local/lib/python3.7/dist-packages (from pipreqs) (0.6.2)\n",
      "Requirement already satisfied: requests in /usr/local/lib/python3.7/dist-packages (from yarg->pipreqs) (2.23.0)\n",
      "Requirement already satisfied: chardet<4,>=3.0.2 in /usr/local/lib/python3.7/dist-packages (from requests->yarg->pipreqs) (3.0.4)\n",
      "Requirement already satisfied: certifi>=2017.4.17 in /usr/local/lib/python3.7/dist-packages (from requests->yarg->pipreqs) (2021.10.8)\n",
      "Requirement already satisfied: idna<3,>=2.5 in /usr/local/lib/python3.7/dist-packages (from requests->yarg->pipreqs) (2.10)\n",
      "Requirement already satisfied: urllib3!=1.25.0,!=1.25.1,<1.26,>=1.21.1 in /usr/local/lib/python3.7/dist-packages (from requests->yarg->pipreqs) (1.24.3)\n",
      "Usage:\n",
      "    pipreqs [options] [<path>]\n"
     ]
    }
   ],
   "source": [
    "!pip install pipreqs\n",
    "!pipreqs /drive/My Drive/Colab Notebooks/ocr_data_scientist/P6 Classification automatique/"
   ],
   "metadata": {
    "pycharm": {
     "name": "#%%\n"
    },
    "colab": {
     "base_uri": "https://localhost:8080/"
    },
    "id": "bn1zH8IQSlu5",
    "executionInfo": {
     "status": "ok",
     "timestamp": 1641981033619,
     "user_tz": -60,
     "elapsed": 3084,
     "user": {
      "displayName": "Benoît DELORME",
      "photoUrl": "https://lh3.googleusercontent.com/a/default-user=s64",
      "userId": "03178733258717085125"
     }
    },
    "outputId": "46877d10-789e-4bb9-8e6b-c46066b215cc"
   }
  },
  {
   "cell_type": "code",
   "execution_count": 119,
   "outputs": [
    {
     "output_type": "stream",
     "name": "stdout",
     "text": [
      "\u001B[31mERROR: Could not open requirements file: [Errno 2] No such file or directory: 'requirements.txt'\u001B[0m\n"
     ]
    }
   ],
   "source": [
    "!pip install -r requirements.txt"
   ],
   "metadata": {
    "pycharm": {
     "name": "#%%\n"
    },
    "colab": {
     "base_uri": "https://localhost:8080/"
    },
    "id": "wLnrWBQnSlu5",
    "executionInfo": {
     "status": "ok",
     "timestamp": 1641981034532,
     "user_tz": -60,
     "elapsed": 917,
     "user": {
      "displayName": "Benoît DELORME",
      "photoUrl": "https://lh3.googleusercontent.com/a/default-user=s64",
      "userId": "03178733258717085125"
     }
    },
    "outputId": "fd4fa0d5-c3d5-4108-9a9f-9ca29558cbfe"
   }
  },
  {
   "cell_type": "code",
   "execution_count": 120,
   "outputs": [],
   "source": [
    "!pip freeze > PATH+requirements.txt"
   ],
   "metadata": {
    "pycharm": {
     "name": "#%%\n"
    },
    "id": "DnErHNWrSlu6",
    "executionInfo": {
     "status": "ok",
     "timestamp": 1641981035373,
     "user_tz": -60,
     "elapsed": 847,
     "user": {
      "displayName": "Benoît DELORME",
      "photoUrl": "https://lh3.googleusercontent.com/a/default-user=s64",
      "userId": "03178733258717085125"
     }
    }
   }
  },
  {
   "cell_type": "markdown",
   "source": [
    "# **II. EDA**"
   ],
   "metadata": {
    "collapsed": false,
    "id": "mmkDUmGLSlu6"
   }
  },
  {
   "cell_type": "markdown",
   "source": [
    "## A. Exploration"
   ],
   "metadata": {
    "collapsed": false,
    "id": "Be5humeASlu6"
   }
  },
  {
   "cell_type": "markdown",
   "source": [
    "### 0 Functions"
   ],
   "metadata": {
    "collapsed": false,
    "id": "iA8cNr6NSlu6"
   }
  },
  {
   "cell_type": "code",
   "execution_count": 121,
   "outputs": [],
   "source": [
    "def nan_proportion(df):\n",
    "    ''' Returns the proportion of NaN values in the whole dataframe.'''\n",
    "    nan_proportion_ = df.isna().sum().sum() / (df.shape[0]*df.shape[1]) * 100\n",
    "    return nan_proportion_"
   ],
   "metadata": {
    "pycharm": {
     "name": "#%%\n"
    },
    "id": "ddwsz4ZDSlu7",
    "executionInfo": {
     "status": "ok",
     "timestamp": 1641981035374,
     "user_tz": -60,
     "elapsed": 12,
     "user": {
      "displayName": "Benoît DELORME",
      "photoUrl": "https://lh3.googleusercontent.com/a/default-user=s64",
      "userId": "03178733258717085125"
     }
    }
   }
  },
  {
   "cell_type": "code",
   "execution_count": 122,
   "outputs": [],
   "source": [
    "def get_pareto(df, column, filter=10, y_inf=0, y_sup=3500, x_inf=0, x_sup=1000):\n",
    "    '''Function that takes a list and returns a bar graph of the most common elements of the list.'''\n",
    "    ratio = math.sqrt(my_filter * 2)\n",
    "    if df[column].dtype != object:\n",
    "        plt.figure( figsize=(ratio, ratio))\n",
    "        ax = plt.axes()\n",
    "        ax.yaxis.grid()\n",
    "        plt.xlim((x_inf, x_sup))\n",
    "        plt.ylim((y_inf, y_sup))\n",
    "        plt.title('{} - {}'.format(column, df.name))\n",
    "        plt.hist(df[column],\n",
    "                 bins=int(df.shape[0]/50),\n",
    "                 color='blue', edgecolor='black')\n",
    "    #\n",
    "    temp_counter = Counter(df[column]).most_common(filter)\n",
    "    categories, frequencies = zip(*temp_counter)\n",
    "    frequencies = [value/df.shape[1]*100 for value in frequencies]\n",
    "    temp_df = pd.DataFrame({'Categories':categories, 'Frequencies':frequencies}).dropna()\n",
    "    categories = [element for element in temp_df['Categories']]\n",
    "    frequencies= [element for element in temp_df['Frequencies']]\n",
    "    #\n",
    "    plt.figure(figsize=(ratio, ratio))\n",
    "    plt.title('Fréquence d\\'apparition des {}. {} '\n",
    "              'premiers éléments'.format(column, filter))\n",
    "    if max(frequencies) > 5:\n",
    "        plt.xlim((0, 110))\n",
    "    else:\n",
    "        plt.xlim((0, max(frequencies)*1.1))\n",
    "    plt.xlabel('Occurrences en % de la taille de l\\'échantillon')\n",
    "    plt.ylabel('Catégories')\n",
    "    ax = plt.axes()\n",
    "    ax.xaxis.grid()\n",
    "    try:\n",
    "        plt.barh(categories, frequencies,\n",
    "                 color='orange', edgecolor='k')\n",
    "    except TypeError:\n",
    "        return categories, frequencies"
   ],
   "metadata": {
    "pycharm": {
     "name": "#%%\n"
    },
    "id": "VQFAMX93Slu8",
    "executionInfo": {
     "status": "ok",
     "timestamp": 1641981035374,
     "user_tz": -60,
     "elapsed": 10,
     "user": {
      "displayName": "Benoît DELORME",
      "photoUrl": "https://lh3.googleusercontent.com/a/default-user=s64",
      "userId": "03178733258717085125"
     }
    }
   }
  },
  {
   "cell_type": "code",
   "execution_count": 123,
   "outputs": [],
   "source": [
    "def get_non_nan(df, df_name=''):\n",
    "    '''Représenter les données non-NaN pour chaque colonne.'''\n",
    "    # Proportion of non-Nan values\n",
    "    for column in df.columns:\n",
    "        temp_dict[column] = df[column].notna().sum()\n",
    "    tuples_list = sorted(temp_dict.items(),\n",
    "                         key=lambda item: item[1],\n",
    "                         reverse=False)\n",
    "    t_keys = [item[0] for item in tuples_list]\n",
    "    t_values = [item[1]/df.shape[0]*100 for item in tuples_list]\n",
    "    # Determine the color of the bars according to the type of the data\n",
    "    try:\n",
    "        if df[column].dtype != object:\n",
    "            color_ = 'blue'\n",
    "            title_ = 'Proportion de données non-Nan quantitatives ' + df_name\n",
    "        else:\n",
    "            color_ = 'orange'\n",
    "            title_ = 'Proportion de données non-Nan qualitatives ' + df_name\n",
    "    except UnboundLocalError:\n",
    "        return print('Dataframe vide')\n",
    "    # Plot\n",
    "    plt.figure(figsize=(5, math.sqrt(3*len(t_keys))))\n",
    "    plt.xlim((0, 110))\n",
    "    ax = plt.axes()\n",
    "    ax.xaxis.grid()\n",
    "    plt.title('{} ({})'.format(title_, len(tuples_list)))\n",
    "    plt.barh(t_keys, t_values,\n",
    "             color=color_, edgecolor='k')\n",
    "\n"
   ],
   "metadata": {
    "pycharm": {
     "name": "#%%\n"
    },
    "id": "8M7aIpb6Slu8",
    "executionInfo": {
     "status": "ok",
     "timestamp": 1641981035375,
     "user_tz": -60,
     "elapsed": 10,
     "user": {
      "displayName": "Benoît DELORME",
      "photoUrl": "https://lh3.googleusercontent.com/a/default-user=s64",
      "userId": "03178733258717085125"
     }
    }
   }
  },
  {
   "cell_type": "code",
   "execution_count": 124,
   "outputs": [],
   "source": [
    "def control_chart(df, year, x_feature, y_feature, y_min, y_max,\n",
    "                  per_week=True, per_month=False, quantiles=False):\n",
    "    df = merge_df[[x_feature, y_feature]]\n",
    "    # Outliers\n",
    "    if quantiles:\n",
    "        df = df[df[y_feature] < df[y_feature].quantile(.99)]\n",
    "        df = df[df[y_feature] > df[y_feature].quantile(.01)]\n",
    "    df = df.groupby([x_feature]).mean()\n",
    "    df = df.reset_index()\n",
    "    df[x_feature] = pd.to_datetime(df[x_feature])\n",
    "    if year:\n",
    "        mask = df[x_feature].dt.year == int(year)\n",
    "        df = df[mask]\n",
    "    # Groupby\n",
    "    if per_week:\n",
    "        df[x_feature] = [element.isocalendar()[1] for element\n",
    "                                   in df[x_feature]]\n",
    "        df = df.groupby([x_feature]).mean()\n",
    "        df = df.reset_index()\n",
    "    if per_month:\n",
    "        df[x_feature] = df[x_feature].dt.month\n",
    "        df = df.groupby([x_feature]).mean()\n",
    "        df = df.reset_index()\n",
    "    # Average and control lines\n",
    "    feature_mean = df[y_feature].mean()\n",
    "    df['feature_mean'] = [feature_mean] * len(df)\n",
    "    feature_stdev = df[y_feature].std()\n",
    "    df['feature_ucl'] = df['feature_mean'] + 3 * feature_stdev\n",
    "    df['feature_lcl'] = df['feature_mean'] - 3 * feature_stdev\n",
    "    # Plot\n",
    "    f, ax = plt.subplots(figsize=(8, 8))\n",
    "    plt.title('{}, année {}'.format(y_feature, year))\n",
    "    plt.xlabel('Semaines calendaires')\n",
    "    plt.ylabel(y_feature)\n",
    "    plt.ylim(y_min, y_max)\n",
    "    plot_feature = plt.plot(df[x_feature], df[y_feature],\n",
    "                            'c', linewidth=1, marker='o', color='k', markerfacecolor='orange', markersize=8)\n",
    "    plot_mean = plt.plot(df[x_feature], df['feature_mean'],\n",
    "                         'k', linewidth=3)\n",
    "    plot_ucl = plt.plot(df[x_feature], df['feature_ucl'],\n",
    "                        '--', color='k')\n",
    "    plot_lcl = plt.plot(df[x_feature], df['feature_lcl'],\n",
    "                        '--', color='k')\n",
    "    plt.show()\n",
    "\n"
   ],
   "metadata": {
    "pycharm": {
     "name": "#%%\n"
    },
    "id": "6xrAzDc3Slu9",
    "executionInfo": {
     "status": "ok",
     "timestamp": 1641981035375,
     "user_tz": -60,
     "elapsed": 10,
     "user": {
      "displayName": "Benoît DELORME",
      "photoUrl": "https://lh3.googleusercontent.com/a/default-user=s64",
      "userId": "03178733258717085125"
     }
    }
   }
  },
  {
   "cell_type": "code",
   "execution_count": 125,
   "outputs": [],
   "source": [
    "def column_most_common_words(df, column, threshold=20):\n",
    "    product_names = []\n",
    "    for element in df[column].unique():\n",
    "        if type(element) == str:\n",
    "            for word in element.split(' '):\n",
    "                product_names.append(word)\n",
    "    # Stopwords\n",
    "    sw = set()\n",
    "    sw.update('stopwords')\n",
    "    sw.update(tuple(nltk.corpus.stopwords.words('english')))\n",
    "    product_names = [element.lower() for element in product_names\n",
    "                    if element.lower() not in sw\n",
    "                    and element.isalpha() == True]\n",
    "    counter = Counter(product_names)\n",
    "    product_names_df = pd.DataFrame({'word':dict(counter).keys(),\n",
    "                                     'count':dict(counter).values()})\n",
    "    product_names_df.sort_values(by='count', inplace=True, ascending=False)\n",
    "    # Plot\n",
    "    plt.title('Most 20 common unigrams in {}'.format(column))\n",
    "    plt.barh(product_names_df['word'][:threshold],\n",
    "             product_names_df['count'][:threshold])"
   ],
   "metadata": {
    "pycharm": {
     "name": "#%%\n"
    },
    "id": "9NqzpWW2Slu9",
    "executionInfo": {
     "status": "ok",
     "timestamp": 1641981035375,
     "user_tz": -60,
     "elapsed": 9,
     "user": {
      "displayName": "Benoît DELORME",
      "photoUrl": "https://lh3.googleusercontent.com/a/default-user=s64",
      "userId": "03178733258717085125"
     }
    }
   }
  },
  {
   "cell_type": "markdown",
   "source": [
    "### 1 General"
   ],
   "metadata": {
    "collapsed": false,
    "id": "TxL2dl8XSlu-"
   }
  },
  {
   "cell_type": "code",
   "execution_count": 126,
   "outputs": [
    {
     "output_type": "stream",
     "name": "stdout",
     "text": [
      "<class 'pandas.core.frame.DataFrame'>\n",
      "RangeIndex: 1050 entries, 0 to 1049\n",
      "Data columns (total 15 columns):\n",
      " #   Column                   Non-Null Count  Dtype  \n",
      "---  ------                   --------------  -----  \n",
      " 0   uniq_id                  1050 non-null   object \n",
      " 1   crawl_timestamp          1050 non-null   object \n",
      " 2   product_url              1050 non-null   object \n",
      " 3   product_name             1050 non-null   object \n",
      " 4   product_category_tree    1050 non-null   object \n",
      " 5   pid                      1050 non-null   object \n",
      " 6   retail_price             1049 non-null   float64\n",
      " 7   discounted_price         1049 non-null   float64\n",
      " 8   image                    1050 non-null   object \n",
      " 9   is_FK_Advantage_product  1050 non-null   bool   \n",
      " 10  description              1050 non-null   object \n",
      " 11  product_rating           1050 non-null   object \n",
      " 12  overall_rating           1050 non-null   object \n",
      " 13  brand                    712 non-null    object \n",
      " 14  product_specifications   1049 non-null   object \n",
      "dtypes: bool(1), float64(2), object(12)\n",
      "memory usage: 116.0+ KB\n"
     ]
    }
   ],
   "source": [
    "items_df.info()"
   ],
   "metadata": {
    "pycharm": {
     "name": "#%%\n"
    },
    "colab": {
     "base_uri": "https://localhost:8080/"
    },
    "id": "GFFd-gIrSlu-",
    "executionInfo": {
     "status": "ok",
     "timestamp": 1641981035376,
     "user_tz": -60,
     "elapsed": 9,
     "user": {
      "displayName": "Benoît DELORME",
      "photoUrl": "https://lh3.googleusercontent.com/a/default-user=s64",
      "userId": "03178733258717085125"
     }
    },
    "outputId": "3c2e986b-2023-4895-b40d-35277c41261a"
   }
  },
  {
   "cell_type": "code",
   "execution_count": 127,
   "outputs": [
    {
     "output_type": "execute_result",
     "data": {
      "text/html": [
       "\n",
       "  <div id=\"df-12625fb9-6d7b-4dc1-aa5b-8f1ccb474e90\">\n",
       "    <div class=\"colab-df-container\">\n",
       "      <div>\n",
       "<style scoped>\n",
       "    .dataframe tbody tr th:only-of-type {\n",
       "        vertical-align: middle;\n",
       "    }\n",
       "\n",
       "    .dataframe tbody tr th {\n",
       "        vertical-align: top;\n",
       "    }\n",
       "\n",
       "    .dataframe thead th {\n",
       "        text-align: right;\n",
       "    }\n",
       "</style>\n",
       "<table border=\"1\" class=\"dataframe\">\n",
       "  <thead>\n",
       "    <tr style=\"text-align: right;\">\n",
       "      <th></th>\n",
       "      <th>uniq_id</th>\n",
       "      <th>crawl_timestamp</th>\n",
       "      <th>product_url</th>\n",
       "      <th>product_name</th>\n",
       "      <th>product_category_tree</th>\n",
       "      <th>pid</th>\n",
       "      <th>retail_price</th>\n",
       "      <th>discounted_price</th>\n",
       "      <th>image</th>\n",
       "      <th>is_FK_Advantage_product</th>\n",
       "      <th>description</th>\n",
       "      <th>product_rating</th>\n",
       "      <th>overall_rating</th>\n",
       "      <th>brand</th>\n",
       "      <th>product_specifications</th>\n",
       "    </tr>\n",
       "  </thead>\n",
       "  <tbody>\n",
       "    <tr>\n",
       "      <th>0</th>\n",
       "      <td>55b85ea15a1536d46b7190ad6fff8ce7</td>\n",
       "      <td>2016-04-30 03:22:56 +0000</td>\n",
       "      <td>http://www.flipkart.com/elegance-polyester-mul...</td>\n",
       "      <td>Elegance Polyester Multicolor Abstract Eyelet ...</td>\n",
       "      <td>[\"Home Furnishing &gt;&gt; Curtains &amp; Accessories &gt;&gt;...</td>\n",
       "      <td>CRNEG7BKMFFYHQ8Z</td>\n",
       "      <td>1899.0</td>\n",
       "      <td>899.0</td>\n",
       "      <td>55b85ea15a1536d46b7190ad6fff8ce7.jpg</td>\n",
       "      <td>False</td>\n",
       "      <td>Key Features of Elegance Polyester Multicolor ...</td>\n",
       "      <td>No rating available</td>\n",
       "      <td>No rating available</td>\n",
       "      <td>Elegance</td>\n",
       "      <td>{\"product_specification\"=&gt;[{\"key\"=&gt;\"Brand\", \"v...</td>\n",
       "    </tr>\n",
       "    <tr>\n",
       "      <th>1</th>\n",
       "      <td>7b72c92c2f6c40268628ec5f14c6d590</td>\n",
       "      <td>2016-04-30 03:22:56 +0000</td>\n",
       "      <td>http://www.flipkart.com/sathiyas-cotton-bath-t...</td>\n",
       "      <td>Sathiyas Cotton Bath Towel</td>\n",
       "      <td>[\"Baby Care &gt;&gt; Baby Bath &amp; Skin &gt;&gt; Baby Bath T...</td>\n",
       "      <td>BTWEGFZHGBXPHZUH</td>\n",
       "      <td>600.0</td>\n",
       "      <td>449.0</td>\n",
       "      <td>7b72c92c2f6c40268628ec5f14c6d590.jpg</td>\n",
       "      <td>False</td>\n",
       "      <td>Specifications of Sathiyas Cotton Bath Towel (...</td>\n",
       "      <td>No rating available</td>\n",
       "      <td>No rating available</td>\n",
       "      <td>Sathiyas</td>\n",
       "      <td>{\"product_specification\"=&gt;[{\"key\"=&gt;\"Machine Wa...</td>\n",
       "    </tr>\n",
       "    <tr>\n",
       "      <th>2</th>\n",
       "      <td>64d5d4a258243731dc7bbb1eef49ad74</td>\n",
       "      <td>2016-04-30 03:22:56 +0000</td>\n",
       "      <td>http://www.flipkart.com/eurospa-cotton-terry-f...</td>\n",
       "      <td>Eurospa Cotton Terry Face Towel Set</td>\n",
       "      <td>[\"Baby Care &gt;&gt; Baby Bath &amp; Skin &gt;&gt; Baby Bath T...</td>\n",
       "      <td>BTWEG6SHXTDB2A2Y</td>\n",
       "      <td>NaN</td>\n",
       "      <td>NaN</td>\n",
       "      <td>64d5d4a258243731dc7bbb1eef49ad74.jpg</td>\n",
       "      <td>False</td>\n",
       "      <td>Key Features of Eurospa Cotton Terry Face Towe...</td>\n",
       "      <td>No rating available</td>\n",
       "      <td>No rating available</td>\n",
       "      <td>Eurospa</td>\n",
       "      <td>{\"product_specification\"=&gt;[{\"key\"=&gt;\"Material\",...</td>\n",
       "    </tr>\n",
       "  </tbody>\n",
       "</table>\n",
       "</div>\n",
       "      <button class=\"colab-df-convert\" onclick=\"convertToInteractive('df-12625fb9-6d7b-4dc1-aa5b-8f1ccb474e90')\"\n",
       "              title=\"Convert this dataframe to an interactive table.\"\n",
       "              style=\"display:none;\">\n",
       "        \n",
       "  <svg xmlns=\"http://www.w3.org/2000/svg\" height=\"24px\"viewBox=\"0 0 24 24\"\n",
       "       width=\"24px\">\n",
       "    <path d=\"M0 0h24v24H0V0z\" fill=\"none\"/>\n",
       "    <path d=\"M18.56 5.44l.94 2.06.94-2.06 2.06-.94-2.06-.94-.94-2.06-.94 2.06-2.06.94zm-11 1L8.5 8.5l.94-2.06 2.06-.94-2.06-.94L8.5 2.5l-.94 2.06-2.06.94zm10 10l.94 2.06.94-2.06 2.06-.94-2.06-.94-.94-2.06-.94 2.06-2.06.94z\"/><path d=\"M17.41 7.96l-1.37-1.37c-.4-.4-.92-.59-1.43-.59-.52 0-1.04.2-1.43.59L10.3 9.45l-7.72 7.72c-.78.78-.78 2.05 0 2.83L4 21.41c.39.39.9.59 1.41.59.51 0 1.02-.2 1.41-.59l7.78-7.78 2.81-2.81c.8-.78.8-2.07 0-2.86zM5.41 20L4 18.59l7.72-7.72 1.47 1.35L5.41 20z\"/>\n",
       "  </svg>\n",
       "      </button>\n",
       "      \n",
       "  <style>\n",
       "    .colab-df-container {\n",
       "      display:flex;\n",
       "      flex-wrap:wrap;\n",
       "      gap: 12px;\n",
       "    }\n",
       "\n",
       "    .colab-df-convert {\n",
       "      background-color: #E8F0FE;\n",
       "      border: none;\n",
       "      border-radius: 50%;\n",
       "      cursor: pointer;\n",
       "      display: none;\n",
       "      fill: #1967D2;\n",
       "      height: 32px;\n",
       "      padding: 0 0 0 0;\n",
       "      width: 32px;\n",
       "    }\n",
       "\n",
       "    .colab-df-convert:hover {\n",
       "      background-color: #E2EBFA;\n",
       "      box-shadow: 0px 1px 2px rgba(60, 64, 67, 0.3), 0px 1px 3px 1px rgba(60, 64, 67, 0.15);\n",
       "      fill: #174EA6;\n",
       "    }\n",
       "\n",
       "    [theme=dark] .colab-df-convert {\n",
       "      background-color: #3B4455;\n",
       "      fill: #D2E3FC;\n",
       "    }\n",
       "\n",
       "    [theme=dark] .colab-df-convert:hover {\n",
       "      background-color: #434B5C;\n",
       "      box-shadow: 0px 1px 3px 1px rgba(0, 0, 0, 0.15);\n",
       "      filter: drop-shadow(0px 1px 2px rgba(0, 0, 0, 0.3));\n",
       "      fill: #FFFFFF;\n",
       "    }\n",
       "  </style>\n",
       "\n",
       "      <script>\n",
       "        const buttonEl =\n",
       "          document.querySelector('#df-12625fb9-6d7b-4dc1-aa5b-8f1ccb474e90 button.colab-df-convert');\n",
       "        buttonEl.style.display =\n",
       "          google.colab.kernel.accessAllowed ? 'block' : 'none';\n",
       "\n",
       "        async function convertToInteractive(key) {\n",
       "          const element = document.querySelector('#df-12625fb9-6d7b-4dc1-aa5b-8f1ccb474e90');\n",
       "          const dataTable =\n",
       "            await google.colab.kernel.invokeFunction('convertToInteractive',\n",
       "                                                     [key], {});\n",
       "          if (!dataTable) return;\n",
       "\n",
       "          const docLinkHtml = 'Like what you see? Visit the ' +\n",
       "            '<a target=\"_blank\" href=https://colab.research.google.com/notebooks/data_table.ipynb>data table notebook</a>'\n",
       "            + ' to learn more about interactive tables.';\n",
       "          element.innerHTML = '';\n",
       "          dataTable['output_type'] = 'display_data';\n",
       "          await google.colab.output.renderOutput(dataTable, element);\n",
       "          const docLink = document.createElement('div');\n",
       "          docLink.innerHTML = docLinkHtml;\n",
       "          element.appendChild(docLink);\n",
       "        }\n",
       "      </script>\n",
       "    </div>\n",
       "  </div>\n",
       "  "
      ],
      "text/plain": [
       "                            uniq_id  ...                             product_specifications\n",
       "0  55b85ea15a1536d46b7190ad6fff8ce7  ...  {\"product_specification\"=>[{\"key\"=>\"Brand\", \"v...\n",
       "1  7b72c92c2f6c40268628ec5f14c6d590  ...  {\"product_specification\"=>[{\"key\"=>\"Machine Wa...\n",
       "2  64d5d4a258243731dc7bbb1eef49ad74  ...  {\"product_specification\"=>[{\"key\"=>\"Material\",...\n",
       "\n",
       "[3 rows x 15 columns]"
      ]
     },
     "metadata": {},
     "execution_count": 127
    }
   ],
   "source": [
    "items_df.head(3)"
   ],
   "metadata": {
    "pycharm": {
     "name": "#%%\n"
    },
    "colab": {
     "base_uri": "https://localhost:8080/",
     "height": 381
    },
    "id": "fTexu_Z3Slu-",
    "executionInfo": {
     "status": "ok",
     "timestamp": 1641981035714,
     "user_tz": -60,
     "elapsed": 10,
     "user": {
      "displayName": "Benoît DELORME",
      "photoUrl": "https://lh3.googleusercontent.com/a/default-user=s64",
      "userId": "03178733258717085125"
     }
    },
    "outputId": "234a2ef0-a664-4cc7-bee3-fd5f0a4ea71b"
   }
  },
  {
   "cell_type": "code",
   "execution_count": 128,
   "outputs": [
    {
     "output_type": "execute_result",
     "data": {
      "text/html": [
       "\n",
       "  <div id=\"df-27091159-7195-40e9-964a-b0240712119d\">\n",
       "    <div class=\"colab-df-container\">\n",
       "      <div>\n",
       "<style scoped>\n",
       "    .dataframe tbody tr th:only-of-type {\n",
       "        vertical-align: middle;\n",
       "    }\n",
       "\n",
       "    .dataframe tbody tr th {\n",
       "        vertical-align: top;\n",
       "    }\n",
       "\n",
       "    .dataframe thead th {\n",
       "        text-align: right;\n",
       "    }\n",
       "</style>\n",
       "<table border=\"1\" class=\"dataframe\">\n",
       "  <thead>\n",
       "    <tr style=\"text-align: right;\">\n",
       "      <th></th>\n",
       "      <th>crawl_timestamp</th>\n",
       "      <th>product_name</th>\n",
       "      <th>product_category_tree</th>\n",
       "      <th>retail_price</th>\n",
       "      <th>discounted_price</th>\n",
       "      <th>description</th>\n",
       "      <th>brand</th>\n",
       "      <th>product_specifications</th>\n",
       "    </tr>\n",
       "  </thead>\n",
       "  <tbody>\n",
       "    <tr>\n",
       "      <th>0</th>\n",
       "      <td>2016-04-30 03:22:56 +0000</td>\n",
       "      <td>Elegance Polyester Multicolor Abstract Eyelet ...</td>\n",
       "      <td>[\"Home Furnishing &gt;&gt; Curtains &amp; Accessories &gt;&gt;...</td>\n",
       "      <td>1899.0</td>\n",
       "      <td>899.0</td>\n",
       "      <td>Key Features of Elegance Polyester Multicolor ...</td>\n",
       "      <td>Elegance</td>\n",
       "      <td>{\"product_specification\"=&gt;[{\"key\"=&gt;\"Brand\", \"v...</td>\n",
       "    </tr>\n",
       "    <tr>\n",
       "      <th>1</th>\n",
       "      <td>2016-04-30 03:22:56 +0000</td>\n",
       "      <td>Sathiyas Cotton Bath Towel</td>\n",
       "      <td>[\"Baby Care &gt;&gt; Baby Bath &amp; Skin &gt;&gt; Baby Bath T...</td>\n",
       "      <td>600.0</td>\n",
       "      <td>449.0</td>\n",
       "      <td>Specifications of Sathiyas Cotton Bath Towel (...</td>\n",
       "      <td>Sathiyas</td>\n",
       "      <td>{\"product_specification\"=&gt;[{\"key\"=&gt;\"Machine Wa...</td>\n",
       "    </tr>\n",
       "    <tr>\n",
       "      <th>2</th>\n",
       "      <td>2016-04-30 03:22:56 +0000</td>\n",
       "      <td>Eurospa Cotton Terry Face Towel Set</td>\n",
       "      <td>[\"Baby Care &gt;&gt; Baby Bath &amp; Skin &gt;&gt; Baby Bath T...</td>\n",
       "      <td>NaN</td>\n",
       "      <td>NaN</td>\n",
       "      <td>Key Features of Eurospa Cotton Terry Face Towe...</td>\n",
       "      <td>Eurospa</td>\n",
       "      <td>{\"product_specification\"=&gt;[{\"key\"=&gt;\"Material\",...</td>\n",
       "    </tr>\n",
       "    <tr>\n",
       "      <th>3</th>\n",
       "      <td>2016-06-20 08:49:52 +0000</td>\n",
       "      <td>SANTOSH ROYAL FASHION Cotton Printed King size...</td>\n",
       "      <td>[\"Home Furnishing &gt;&gt; Bed Linen &gt;&gt; Bedsheets &gt;&gt;...</td>\n",
       "      <td>2699.0</td>\n",
       "      <td>1299.0</td>\n",
       "      <td>Key Features of SANTOSH ROYAL FASHION Cotton P...</td>\n",
       "      <td>SANTOSH ROYAL FASHION</td>\n",
       "      <td>{\"product_specification\"=&gt;[{\"key\"=&gt;\"Brand\", \"v...</td>\n",
       "    </tr>\n",
       "    <tr>\n",
       "      <th>4</th>\n",
       "      <td>2016-06-20 08:49:52 +0000</td>\n",
       "      <td>Jaipur Print Cotton Floral King sized Double B...</td>\n",
       "      <td>[\"Home Furnishing &gt;&gt; Bed Linen &gt;&gt; Bedsheets &gt;&gt;...</td>\n",
       "      <td>2599.0</td>\n",
       "      <td>698.0</td>\n",
       "      <td>Key Features of Jaipur Print Cotton Floral Kin...</td>\n",
       "      <td>Jaipur Print</td>\n",
       "      <td>{\"product_specification\"=&gt;[{\"key\"=&gt;\"Machine Wa...</td>\n",
       "    </tr>\n",
       "    <tr>\n",
       "      <th>5</th>\n",
       "      <td>2015-12-04 07:25:36 +0000</td>\n",
       "      <td>Maserati Time R8851116001 Analog Watch  - For ...</td>\n",
       "      <td>[\"Watches &gt;&gt; Wrist Watches &gt;&gt; Maserati Time Wr...</td>\n",
       "      <td>24400.0</td>\n",
       "      <td>24400.0</td>\n",
       "      <td>Maserati Time R8851116001 Analog Watch  - For ...</td>\n",
       "      <td>NaN</td>\n",
       "      <td>{\"product_specification\"=&gt;[{\"key\"=&gt;\"Chronograp...</td>\n",
       "    </tr>\n",
       "    <tr>\n",
       "      <th>6</th>\n",
       "      <td>2015-12-04 07:25:36 +0000</td>\n",
       "      <td>Camerii WM64 Elegance Analog Watch  - For Men,...</td>\n",
       "      <td>[\"Watches &gt;&gt; Wrist Watches &gt;&gt; Camerii Wrist Wa...</td>\n",
       "      <td>1099.0</td>\n",
       "      <td>449.0</td>\n",
       "      <td>Camerii WM64 Elegance Analog Watch  - For Men,...</td>\n",
       "      <td>NaN</td>\n",
       "      <td>{\"product_specification\"=&gt;[{\"key\"=&gt;\"Chronograp...</td>\n",
       "    </tr>\n",
       "    <tr>\n",
       "      <th>7</th>\n",
       "      <td>2015-12-04 07:25:36 +0000</td>\n",
       "      <td>T STAR UFT-TSW-005-BK-BR Analog Watch  - For Boys</td>\n",
       "      <td>[\"Watches &gt;&gt; Wrist Watches &gt;&gt; T STAR Wrist Wat...</td>\n",
       "      <td>999.0</td>\n",
       "      <td>399.0</td>\n",
       "      <td>T STAR UFT-TSW-005-BK-BR Analog Watch  - For B...</td>\n",
       "      <td>NaN</td>\n",
       "      <td>{\"product_specification\"=&gt;[{\"key\"=&gt;\"Chronograp...</td>\n",
       "    </tr>\n",
       "    <tr>\n",
       "      <th>8</th>\n",
       "      <td>2015-12-04 07:25:36 +0000</td>\n",
       "      <td>Alfajr WY16B Youth Digital Watch  - For Men, Boys</td>\n",
       "      <td>[\"Watches &gt;&gt; Wrist Watches &gt;&gt; Alfajr Wrist Wat...</td>\n",
       "      <td>5495.0</td>\n",
       "      <td>4995.0</td>\n",
       "      <td>Alfajr WY16B Youth Digital Watch  - For Men, B...</td>\n",
       "      <td>NaN</td>\n",
       "      <td>{\"product_specification\"=&gt;[{\"key\"=&gt;\"Chronograp...</td>\n",
       "    </tr>\n",
       "    <tr>\n",
       "      <th>9</th>\n",
       "      <td>2015-12-04 07:25:36 +0000</td>\n",
       "      <td>TAG Heuer CAU1116.BA0858 Formula 1 Analog Watc...</td>\n",
       "      <td>[\"Watches &gt;&gt; Wrist Watches &gt;&gt; TAG Heuer Wrist ...</td>\n",
       "      <td>107750.0</td>\n",
       "      <td>107750.0</td>\n",
       "      <td>TAG Heuer CAU1116.BA0858 Formula 1 Analog Watc...</td>\n",
       "      <td>NaN</td>\n",
       "      <td>{\"product_specification\"=&gt;[{\"key\"=&gt;\"Chronograp...</td>\n",
       "    </tr>\n",
       "  </tbody>\n",
       "</table>\n",
       "</div>\n",
       "      <button class=\"colab-df-convert\" onclick=\"convertToInteractive('df-27091159-7195-40e9-964a-b0240712119d')\"\n",
       "              title=\"Convert this dataframe to an interactive table.\"\n",
       "              style=\"display:none;\">\n",
       "        \n",
       "  <svg xmlns=\"http://www.w3.org/2000/svg\" height=\"24px\"viewBox=\"0 0 24 24\"\n",
       "       width=\"24px\">\n",
       "    <path d=\"M0 0h24v24H0V0z\" fill=\"none\"/>\n",
       "    <path d=\"M18.56 5.44l.94 2.06.94-2.06 2.06-.94-2.06-.94-.94-2.06-.94 2.06-2.06.94zm-11 1L8.5 8.5l.94-2.06 2.06-.94-2.06-.94L8.5 2.5l-.94 2.06-2.06.94zm10 10l.94 2.06.94-2.06 2.06-.94-2.06-.94-.94-2.06-.94 2.06-2.06.94z\"/><path d=\"M17.41 7.96l-1.37-1.37c-.4-.4-.92-.59-1.43-.59-.52 0-1.04.2-1.43.59L10.3 9.45l-7.72 7.72c-.78.78-.78 2.05 0 2.83L4 21.41c.39.39.9.59 1.41.59.51 0 1.02-.2 1.41-.59l7.78-7.78 2.81-2.81c.8-.78.8-2.07 0-2.86zM5.41 20L4 18.59l7.72-7.72 1.47 1.35L5.41 20z\"/>\n",
       "  </svg>\n",
       "      </button>\n",
       "      \n",
       "  <style>\n",
       "    .colab-df-container {\n",
       "      display:flex;\n",
       "      flex-wrap:wrap;\n",
       "      gap: 12px;\n",
       "    }\n",
       "\n",
       "    .colab-df-convert {\n",
       "      background-color: #E8F0FE;\n",
       "      border: none;\n",
       "      border-radius: 50%;\n",
       "      cursor: pointer;\n",
       "      display: none;\n",
       "      fill: #1967D2;\n",
       "      height: 32px;\n",
       "      padding: 0 0 0 0;\n",
       "      width: 32px;\n",
       "    }\n",
       "\n",
       "    .colab-df-convert:hover {\n",
       "      background-color: #E2EBFA;\n",
       "      box-shadow: 0px 1px 2px rgba(60, 64, 67, 0.3), 0px 1px 3px 1px rgba(60, 64, 67, 0.15);\n",
       "      fill: #174EA6;\n",
       "    }\n",
       "\n",
       "    [theme=dark] .colab-df-convert {\n",
       "      background-color: #3B4455;\n",
       "      fill: #D2E3FC;\n",
       "    }\n",
       "\n",
       "    [theme=dark] .colab-df-convert:hover {\n",
       "      background-color: #434B5C;\n",
       "      box-shadow: 0px 1px 3px 1px rgba(0, 0, 0, 0.15);\n",
       "      filter: drop-shadow(0px 1px 2px rgba(0, 0, 0, 0.3));\n",
       "      fill: #FFFFFF;\n",
       "    }\n",
       "  </style>\n",
       "\n",
       "      <script>\n",
       "        const buttonEl =\n",
       "          document.querySelector('#df-27091159-7195-40e9-964a-b0240712119d button.colab-df-convert');\n",
       "        buttonEl.style.display =\n",
       "          google.colab.kernel.accessAllowed ? 'block' : 'none';\n",
       "\n",
       "        async function convertToInteractive(key) {\n",
       "          const element = document.querySelector('#df-27091159-7195-40e9-964a-b0240712119d');\n",
       "          const dataTable =\n",
       "            await google.colab.kernel.invokeFunction('convertToInteractive',\n",
       "                                                     [key], {});\n",
       "          if (!dataTable) return;\n",
       "\n",
       "          const docLinkHtml = 'Like what you see? Visit the ' +\n",
       "            '<a target=\"_blank\" href=https://colab.research.google.com/notebooks/data_table.ipynb>data table notebook</a>'\n",
       "            + ' to learn more about interactive tables.';\n",
       "          element.innerHTML = '';\n",
       "          dataTable['output_type'] = 'display_data';\n",
       "          await google.colab.output.renderOutput(dataTable, element);\n",
       "          const docLink = document.createElement('div');\n",
       "          docLink.innerHTML = docLinkHtml;\n",
       "          element.appendChild(docLink);\n",
       "        }\n",
       "      </script>\n",
       "    </div>\n",
       "  </div>\n",
       "  "
      ],
      "text/plain": [
       "             crawl_timestamp  ...                             product_specifications\n",
       "0  2016-04-30 03:22:56 +0000  ...  {\"product_specification\"=>[{\"key\"=>\"Brand\", \"v...\n",
       "1  2016-04-30 03:22:56 +0000  ...  {\"product_specification\"=>[{\"key\"=>\"Machine Wa...\n",
       "2  2016-04-30 03:22:56 +0000  ...  {\"product_specification\"=>[{\"key\"=>\"Material\",...\n",
       "3  2016-06-20 08:49:52 +0000  ...  {\"product_specification\"=>[{\"key\"=>\"Brand\", \"v...\n",
       "4  2016-06-20 08:49:52 +0000  ...  {\"product_specification\"=>[{\"key\"=>\"Machine Wa...\n",
       "5  2015-12-04 07:25:36 +0000  ...  {\"product_specification\"=>[{\"key\"=>\"Chronograp...\n",
       "6  2015-12-04 07:25:36 +0000  ...  {\"product_specification\"=>[{\"key\"=>\"Chronograp...\n",
       "7  2015-12-04 07:25:36 +0000  ...  {\"product_specification\"=>[{\"key\"=>\"Chronograp...\n",
       "8  2015-12-04 07:25:36 +0000  ...  {\"product_specification\"=>[{\"key\"=>\"Chronograp...\n",
       "9  2015-12-04 07:25:36 +0000  ...  {\"product_specification\"=>[{\"key\"=>\"Chronograp...\n",
       "\n",
       "[10 rows x 8 columns]"
      ]
     },
     "metadata": {},
     "execution_count": 128
    }
   ],
   "source": [
    "items_df[['crawl_timestamp', 'product_name', 'product_category_tree',\n",
    "          'retail_price', 'discounted_price', 'description', 'brand',\n",
    "          'product_specifications']].head(10)"
   ],
   "metadata": {
    "pycharm": {
     "name": "#%%\n"
    },
    "colab": {
     "base_uri": "https://localhost:8080/",
     "height": 930
    },
    "id": "tEh_6asFSlu-",
    "executionInfo": {
     "status": "ok",
     "timestamp": 1641981035714,
     "user_tz": -60,
     "elapsed": 7,
     "user": {
      "displayName": "Benoît DELORME",
      "photoUrl": "https://lh3.googleusercontent.com/a/default-user=s64",
      "userId": "03178733258717085125"
     }
    },
    "outputId": "a54077ba-c49e-44aa-eccd-47cf035d8f26"
   }
  },
  {
   "cell_type": "markdown",
   "source": [
    "### 2 retail_price"
   ],
   "metadata": {
    "collapsed": false,
    "id": "iN7i08FHSlu-"
   }
  },
  {
   "cell_type": "code",
   "execution_count": 129,
   "outputs": [
    {
     "output_type": "execute_result",
     "data": {
      "text/plain": [
       "<matplotlib.axes._subplots.AxesSubplot at 0x7f44700a64d0>"
      ]
     },
     "metadata": {},
     "execution_count": 129
    },
    {
     "output_type": "display_data",
     "data": {
      "image/png": "[encoded data removed]",
      "text/plain": [
       "<Figure size 576x396 with 1 Axes>"
      ]
     },
     "metadata": {}
    }
   ],
   "source": [
    "plt.xlim((0, 10000))\n",
    "plt.ylim((0, 400))\n",
    "plt.title('Retail price distribution')\n",
    "sns.histplot(items_df['retail_price'])"
   ],
   "metadata": {
    "pycharm": {
     "name": "#%%\n"
    },
    "colab": {
     "base_uri": "https://localhost:8080/",
     "height": 72
    },
    "id": "43vaoxuKSlu_",
    "executionInfo": {
     "status": "ok",
     "timestamp": 1641981038203,
     "user_tz": -60,
     "elapsed": 2496,
     "user": {
      "displayName": "Benoît DELORME",
      "photoUrl": "https://lh3.googleusercontent.com/a/default-user=s64",
      "userId": "03178733258717085125"
     }
    },
    "outputId": "57cd5e0e-ff5d-4d39-e6c6-972668d64464"
   }
  },
  {
   "cell_type": "markdown",
   "source": [
    "### 3 discounted_price"
   ],
   "metadata": {
    "collapsed": false,
    "id": "BTESCUQpSlu_"
   }
  },
  {
   "cell_type": "code",
   "execution_count": 130,
   "outputs": [
    {
     "output_type": "execute_result",
     "data": {
      "text/plain": [
       "<matplotlib.axes._subplots.AxesSubplot at 0x7f447257c250>"
      ]
     },
     "metadata": {},
     "execution_count": 130
    },
    {
     "output_type": "display_data",
     "data": {
      "image/png": "[encoded data removed]",
      "text/plain": [
       "<Figure size 576x396 with 1 Axes>"
      ]
     },
     "metadata": {}
    }
   ],
   "source": [
    "plt.xlim((0, 10000))\n",
    "plt.ylim((0, 400))\n",
    "plt.title('Discounted price distribution')\n",
    "sns.histplot(items_df['discounted_price'])"
   ],
   "metadata": {
    "pycharm": {
     "name": "#%%\n"
    },
    "colab": {
     "base_uri": "https://localhost:8080/",
     "height": 72
    },
    "id": "0xJGIybaSlu_",
    "executionInfo": {
     "status": "ok",
     "timestamp": 1641981040939,
     "user_tz": -60,
     "elapsed": 2742,
     "user": {
      "displayName": "Benoît DELORME",
      "photoUrl": "https://lh3.googleusercontent.com/a/default-user=s64",
      "userId": "03178733258717085125"
     }
    },
    "outputId": "4ccd82c2-522f-44fa-e95f-1febbabd3c94"
   }
  },
  {
   "cell_type": "code",
   "execution_count": 131,
   "outputs": [
    {
     "output_type": "execute_result",
     "data": {
      "text/plain": [
       "<matplotlib.axes._subplots.AxesSubplot at 0x7f446a3e79d0>"
      ]
     },
     "metadata": {},
     "execution_count": 131
    },
    {
     "output_type": "display_data",
     "data": {
      "image/png": "[encoded data removed]",
      "text/plain": [
       "<Figure size 576x396 with 1 Axes>"
      ]
     },
     "metadata": {}
    }
   ],
   "source": [
    "plt.xlim((0, 10000))\n",
    "plt.ylim((0, 400))\n",
    "plt.title('Discount distribution')\n",
    "sns.histplot(items_df['retail_price']-items_df['discounted_price'])"
   ],
   "metadata": {
    "pycharm": {
     "name": "#%%\n"
    },
    "colab": {
     "base_uri": "https://localhost:8080/",
     "height": 72
    },
    "id": "pnI0jmP5Slu_",
    "executionInfo": {
     "status": "ok",
     "timestamp": 1641981041918,
     "user_tz": -60,
     "elapsed": 984,
     "user": {
      "displayName": "Benoît DELORME",
      "photoUrl": "https://lh3.googleusercontent.com/a/default-user=s64",
      "userId": "03178733258717085125"
     }
    },
    "outputId": "8c558216-ac15-469d-8951-3c229e64fd82"
   }
  },
  {
   "cell_type": "code",
   "execution_count": 132,
   "outputs": [
    {
     "output_type": "execute_result",
     "data": {
      "text/html": [
       "\n",
       "  <div id=\"df-8ec4c5e7-90f2-489c-881e-49e9672a218b\">\n",
       "    <div class=\"colab-df-container\">\n",
       "      <div>\n",
       "<style scoped>\n",
       "    .dataframe tbody tr th:only-of-type {\n",
       "        vertical-align: middle;\n",
       "    }\n",
       "\n",
       "    .dataframe tbody tr th {\n",
       "        vertical-align: top;\n",
       "    }\n",
       "\n",
       "    .dataframe thead th {\n",
       "        text-align: right;\n",
       "    }\n",
       "</style>\n",
       "<table border=\"1\" class=\"dataframe\">\n",
       "  <thead>\n",
       "    <tr style=\"text-align: right;\">\n",
       "      <th></th>\n",
       "      <th>uniq_id</th>\n",
       "      <th>crawl_timestamp</th>\n",
       "      <th>product_url</th>\n",
       "      <th>product_name</th>\n",
       "      <th>product_category_tree</th>\n",
       "      <th>pid</th>\n",
       "      <th>retail_price</th>\n",
       "      <th>discounted_price</th>\n",
       "      <th>image</th>\n",
       "      <th>is_FK_Advantage_product</th>\n",
       "      <th>description</th>\n",
       "      <th>product_rating</th>\n",
       "      <th>overall_rating</th>\n",
       "      <th>brand</th>\n",
       "      <th>product_specifications</th>\n",
       "    </tr>\n",
       "  </thead>\n",
       "  <tbody>\n",
       "    <tr>\n",
       "      <th>0</th>\n",
       "      <td>55b85ea15a1536d46b7190ad6fff8ce7</td>\n",
       "      <td>2016-04-30 03:22:56 +0000</td>\n",
       "      <td>http://www.flipkart.com/elegance-polyester-mul...</td>\n",
       "      <td>Elegance Polyester Multicolor Abstract Eyelet ...</td>\n",
       "      <td>[\"Home Furnishing &gt;&gt; Curtains &amp; Accessories &gt;&gt;...</td>\n",
       "      <td>CRNEG7BKMFFYHQ8Z</td>\n",
       "      <td>1899.0</td>\n",
       "      <td>899.0</td>\n",
       "      <td>55b85ea15a1536d46b7190ad6fff8ce7.jpg</td>\n",
       "      <td>False</td>\n",
       "      <td>Key Features of Elegance Polyester Multicolor ...</td>\n",
       "      <td>No rating available</td>\n",
       "      <td>No rating available</td>\n",
       "      <td>Elegance</td>\n",
       "      <td>{\"product_specification\"=&gt;[{\"key\"=&gt;\"Brand\", \"v...</td>\n",
       "    </tr>\n",
       "    <tr>\n",
       "      <th>1</th>\n",
       "      <td>7b72c92c2f6c40268628ec5f14c6d590</td>\n",
       "      <td>2016-04-30 03:22:56 +0000</td>\n",
       "      <td>http://www.flipkart.com/sathiyas-cotton-bath-t...</td>\n",
       "      <td>Sathiyas Cotton Bath Towel</td>\n",
       "      <td>[\"Baby Care &gt;&gt; Baby Bath &amp; Skin &gt;&gt; Baby Bath T...</td>\n",
       "      <td>BTWEGFZHGBXPHZUH</td>\n",
       "      <td>600.0</td>\n",
       "      <td>449.0</td>\n",
       "      <td>7b72c92c2f6c40268628ec5f14c6d590.jpg</td>\n",
       "      <td>False</td>\n",
       "      <td>Specifications of Sathiyas Cotton Bath Towel (...</td>\n",
       "      <td>No rating available</td>\n",
       "      <td>No rating available</td>\n",
       "      <td>Sathiyas</td>\n",
       "      <td>{\"product_specification\"=&gt;[{\"key\"=&gt;\"Machine Wa...</td>\n",
       "    </tr>\n",
       "    <tr>\n",
       "      <th>2</th>\n",
       "      <td>64d5d4a258243731dc7bbb1eef49ad74</td>\n",
       "      <td>2016-04-30 03:22:56 +0000</td>\n",
       "      <td>http://www.flipkart.com/eurospa-cotton-terry-f...</td>\n",
       "      <td>Eurospa Cotton Terry Face Towel Set</td>\n",
       "      <td>[\"Baby Care &gt;&gt; Baby Bath &amp; Skin &gt;&gt; Baby Bath T...</td>\n",
       "      <td>BTWEG6SHXTDB2A2Y</td>\n",
       "      <td>NaN</td>\n",
       "      <td>NaN</td>\n",
       "      <td>64d5d4a258243731dc7bbb1eef49ad74.jpg</td>\n",
       "      <td>False</td>\n",
       "      <td>Key Features of Eurospa Cotton Terry Face Towe...</td>\n",
       "      <td>No rating available</td>\n",
       "      <td>No rating available</td>\n",
       "      <td>Eurospa</td>\n",
       "      <td>{\"product_specification\"=&gt;[{\"key\"=&gt;\"Material\",...</td>\n",
       "    </tr>\n",
       "  </tbody>\n",
       "</table>\n",
       "</div>\n",
       "      <button class=\"colab-df-convert\" onclick=\"convertToInteractive('df-8ec4c5e7-90f2-489c-881e-49e9672a218b')\"\n",
       "              title=\"Convert this dataframe to an interactive table.\"\n",
       "              style=\"display:none;\">\n",
       "        \n",
       "  <svg xmlns=\"http://www.w3.org/2000/svg\" height=\"24px\"viewBox=\"0 0 24 24\"\n",
       "       width=\"24px\">\n",
       "    <path d=\"M0 0h24v24H0V0z\" fill=\"none\"/>\n",
       "    <path d=\"M18.56 5.44l.94 2.06.94-2.06 2.06-.94-2.06-.94-.94-2.06-.94 2.06-2.06.94zm-11 1L8.5 8.5l.94-2.06 2.06-.94-2.06-.94L8.5 2.5l-.94 2.06-2.06.94zm10 10l.94 2.06.94-2.06 2.06-.94-2.06-.94-.94-2.06-.94 2.06-2.06.94z\"/><path d=\"M17.41 7.96l-1.37-1.37c-.4-.4-.92-.59-1.43-.59-.52 0-1.04.2-1.43.59L10.3 9.45l-7.72 7.72c-.78.78-.78 2.05 0 2.83L4 21.41c.39.39.9.59 1.41.59.51 0 1.02-.2 1.41-.59l7.78-7.78 2.81-2.81c.8-.78.8-2.07 0-2.86zM5.41 20L4 18.59l7.72-7.72 1.47 1.35L5.41 20z\"/>\n",
       "  </svg>\n",
       "      </button>\n",
       "      \n",
       "  <style>\n",
       "    .colab-df-container {\n",
       "      display:flex;\n",
       "      flex-wrap:wrap;\n",
       "      gap: 12px;\n",
       "    }\n",
       "\n",
       "    .colab-df-convert {\n",
       "      background-color: #E8F0FE;\n",
       "      border: none;\n",
       "      border-radius: 50%;\n",
       "      cursor: pointer;\n",
       "      display: none;\n",
       "      fill: #1967D2;\n",
       "      height: 32px;\n",
       "      padding: 0 0 0 0;\n",
       "      width: 32px;\n",
       "    }\n",
       "\n",
       "    .colab-df-convert:hover {\n",
       "      background-color: #E2EBFA;\n",
       "      box-shadow: 0px 1px 2px rgba(60, 64, 67, 0.3), 0px 1px 3px 1px rgba(60, 64, 67, 0.15);\n",
       "      fill: #174EA6;\n",
       "    }\n",
       "\n",
       "    [theme=dark] .colab-df-convert {\n",
       "      background-color: #3B4455;\n",
       "      fill: #D2E3FC;\n",
       "    }\n",
       "\n",
       "    [theme=dark] .colab-df-convert:hover {\n",
       "      background-color: #434B5C;\n",
       "      box-shadow: 0px 1px 3px 1px rgba(0, 0, 0, 0.15);\n",
       "      filter: drop-shadow(0px 1px 2px rgba(0, 0, 0, 0.3));\n",
       "      fill: #FFFFFF;\n",
       "    }\n",
       "  </style>\n",
       "\n",
       "      <script>\n",
       "        const buttonEl =\n",
       "          document.querySelector('#df-8ec4c5e7-90f2-489c-881e-49e9672a218b button.colab-df-convert');\n",
       "        buttonEl.style.display =\n",
       "          google.colab.kernel.accessAllowed ? 'block' : 'none';\n",
       "\n",
       "        async function convertToInteractive(key) {\n",
       "          const element = document.querySelector('#df-8ec4c5e7-90f2-489c-881e-49e9672a218b');\n",
       "          const dataTable =\n",
       "            await google.colab.kernel.invokeFunction('convertToInteractive',\n",
       "                                                     [key], {});\n",
       "          if (!dataTable) return;\n",
       "\n",
       "          const docLinkHtml = 'Like what you see? Visit the ' +\n",
       "            '<a target=\"_blank\" href=https://colab.research.google.com/notebooks/data_table.ipynb>data table notebook</a>'\n",
       "            + ' to learn more about interactive tables.';\n",
       "          element.innerHTML = '';\n",
       "          dataTable['output_type'] = 'display_data';\n",
       "          await google.colab.output.renderOutput(dataTable, element);\n",
       "          const docLink = document.createElement('div');\n",
       "          docLink.innerHTML = docLinkHtml;\n",
       "          element.appendChild(docLink);\n",
       "        }\n",
       "      </script>\n",
       "    </div>\n",
       "  </div>\n",
       "  "
      ],
      "text/plain": [
       "                            uniq_id  ...                             product_specifications\n",
       "0  55b85ea15a1536d46b7190ad6fff8ce7  ...  {\"product_specification\"=>[{\"key\"=>\"Brand\", \"v...\n",
       "1  7b72c92c2f6c40268628ec5f14c6d590  ...  {\"product_specification\"=>[{\"key\"=>\"Machine Wa...\n",
       "2  64d5d4a258243731dc7bbb1eef49ad74  ...  {\"product_specification\"=>[{\"key\"=>\"Material\",...\n",
       "\n",
       "[3 rows x 15 columns]"
      ]
     },
     "metadata": {},
     "execution_count": 132
    }
   ],
   "source": [
    "items_df.head(3)"
   ],
   "metadata": {
    "pycharm": {
     "name": "#%%\n"
    },
    "id": "t0RdfBI-Slu_",
    "executionInfo": {
     "status": "ok",
     "timestamp": 1641981041919,
     "user_tz": -60,
     "elapsed": 11,
     "user": {
      "displayName": "Benoît DELORME",
      "photoUrl": "https://lh3.googleusercontent.com/a/default-user=s64",
      "userId": "03178733258717085125"
     }
    },
    "colab": {
     "base_uri": "https://localhost:8080/",
     "height": 381
    },
    "outputId": "cbc3967d-6af7-4de4-c992-6115d43db787"
   }
  },
  {
   "cell_type": "markdown",
   "source": [
    "### 4 crawl_timestamp"
   ],
   "metadata": {
    "collapsed": false,
    "id": "-GzxrDbzSlu_"
   }
  },
  {
   "cell_type": "code",
   "execution_count": 133,
   "outputs": [],
   "source": [
    "data = pd.to_datetime(items_df['crawl_timestamp'])"
   ],
   "metadata": {
    "pycharm": {
     "name": "#%%\n"
    },
    "id": "XIExgBoaSlvA",
    "executionInfo": {
     "status": "ok",
     "timestamp": 1641981041920,
     "user_tz": -60,
     "elapsed": 9,
     "user": {
      "displayName": "Benoît DELORME",
      "photoUrl": "https://lh3.googleusercontent.com/a/default-user=s64",
      "userId": "03178733258717085125"
     }
    }
   }
  },
  {
   "cell_type": "code",
   "execution_count": 134,
   "outputs": [
    {
     "output_type": "execute_result",
     "data": {
      "text/plain": [
       "<matplotlib.axes._subplots.AxesSubplot at 0x7f446a1f44d0>"
      ]
     },
     "metadata": {},
     "execution_count": 134
    },
    {
     "output_type": "display_data",
     "data": {
      "image/png": "[encoded data removed]",
      "text/plain": [
       "<Figure size 576x396 with 1 Axes>"
      ]
     },
     "metadata": {}
    }
   ],
   "source": [
    "plt.title('Distribution de crawl_timestamp')\n",
    "plt.grid(axis='x')\n",
    "sns.histplot(data, bins=int(len(data)/20))"
   ],
   "metadata": {
    "pycharm": {
     "name": "#%%\n"
    },
    "colab": {
     "base_uri": "https://localhost:8080/",
     "height": 72
    },
    "id": "uod6ZUnvSlvA",
    "executionInfo": {
     "status": "ok",
     "timestamp": 1641981043609,
     "user_tz": -60,
     "elapsed": 1697,
     "user": {
      "displayName": "Benoît DELORME",
      "photoUrl": "https://lh3.googleusercontent.com/a/default-user=s64",
      "userId": "03178733258717085125"
     }
    },
    "outputId": "d6b67d72-bbad-45c5-f0d1-021d211aabe6"
   }
  },
  {
   "cell_type": "code",
   "execution_count": 135,
   "outputs": [
    {
     "output_type": "execute_result",
     "data": {
      "text/plain": [
       "(array([ 19.,   0.,   1.,   0.,  14.,   0.,  13.,   0.,   0.,  13.,   0.,\n",
       "        156.,   0., 161.,   0.,  39.,   0.,   0.,  50.,   0.,  65.,   0.,\n",
       "         32.,   0., 102.,   0.,   0., 161.,   0.,  49.,   0.,  27.,   0.,\n",
       "          7.,   0.,   0.,  12.,   0.,  11.,   0.,  21.,   0.,  59.,   0.,\n",
       "          0.,   6.,   0.,  10.,   0.,   8.,   0.,  14.]),\n",
       " array([ 0.        ,  0.44230769,  0.88461538,  1.32692308,  1.76923077,\n",
       "         2.21153846,  2.65384615,  3.09615385,  3.53846154,  3.98076923,\n",
       "         4.42307692,  4.86538462,  5.30769231,  5.75      ,  6.19230769,\n",
       "         6.63461538,  7.07692308,  7.51923077,  7.96153846,  8.40384615,\n",
       "         8.84615385,  9.28846154,  9.73076923, 10.17307692, 10.61538462,\n",
       "        11.05769231, 11.5       , 11.94230769, 12.38461538, 12.82692308,\n",
       "        13.26923077, 13.71153846, 14.15384615, 14.59615385, 15.03846154,\n",
       "        15.48076923, 15.92307692, 16.36538462, 16.80769231, 17.25      ,\n",
       "        17.69230769, 18.13461538, 18.57692308, 19.01923077, 19.46153846,\n",
       "        19.90384615, 20.34615385, 20.78846154, 21.23076923, 21.67307692,\n",
       "        22.11538462, 22.55769231, 23.        ]),\n",
       " <a list of 52 Patch objects>)"
      ]
     },
     "metadata": {},
     "execution_count": 135
    },
    {
     "output_type": "display_data",
     "data": {
      "image/png": "[encoded data removed]",
      "text/plain": [
       "<Figure size 576x396 with 1 Axes>"
      ]
     },
     "metadata": {}
    }
   ],
   "source": [
    "hours_serie = pd.to_datetime(items_df['crawl_timestamp']).dt.hour\n",
    "plt.title('Distribution de crawl_timestamp')\n",
    "plt.xticks(range(0, 24))\n",
    "plt.grid(axis='x')\n",
    "plt.hist(hours_serie,\n",
    "         bins=int(len(data)/20))"
   ],
   "metadata": {
    "pycharm": {
     "name": "#%%\n"
    },
    "colab": {
     "base_uri": "https://localhost:8080/",
     "height": 350
    },
    "id": "aRBwXIALSlvA",
    "executionInfo": {
     "status": "ok",
     "timestamp": 1641981044178,
     "user_tz": -60,
     "elapsed": 574,
     "user": {
      "displayName": "Benoît DELORME",
      "photoUrl": "https://lh3.googleusercontent.com/a/default-user=s64",
      "userId": "03178733258717085125"
     }
    },
    "outputId": "ac5793c1-9395-4833-b81c-e5a54bd08f62"
   }
  },
  {
   "cell_type": "code",
   "execution_count": 136,
   "outputs": [
    {
     "output_type": "stream",
     "name": "stderr",
     "text": [
      "/usr/local/lib/python3.7/dist-packages/ipykernel_launcher.py:2: SettingWithCopyWarning: \n",
      "A value is trying to be set on a copy of a slice from a DataFrame.\n",
      "Try using .loc[row_indexer,col_indexer] = value instead\n",
      "\n",
      "See the caveats in the documentation: https://pandas.pydata.org/pandas-docs/stable/user_guide/indexing.html#returning-a-view-versus-a-copy\n",
      "  \n"
     ]
    },
    {
     "output_type": "execute_result",
     "data": {
      "text/plain": [
       "<BarContainer object of 31 artists>"
      ]
     },
     "metadata": {},
     "execution_count": 136
    },
    {
     "output_type": "display_data",
     "data": {
      "image/png": "[encoded data removed]",
      "text/plain": [
       "<Figure size 576x396 with 1 Axes>"
      ]
     },
     "metadata": {}
    }
   ],
   "source": [
    "temp_df = items_df[['crawl_timestamp', 'retail_price']]\n",
    "temp_df['crawl_timestamp'] = pd.to_datetime(temp_df['crawl_timestamp']).dt.day\n",
    "temp_df = temp_df.groupby(by='crawl_timestamp', axis=0).sum().reset_index()\n",
    "plt.title('Number of purchases according the day of the month')\n",
    "plt.xlabel('Days in a month')\n",
    "plt.ylabel('Number of purchases')\n",
    "plt.bar(temp_df['crawl_timestamp'],\n",
    "        temp_df['retail_price'])"
   ],
   "metadata": {
    "pycharm": {
     "name": "#%%\n"
    },
    "colab": {
     "base_uri": "https://localhost:8080/",
     "height": 176
    },
    "id": "hmJ0h1daSlvA",
    "executionInfo": {
     "status": "ok",
     "timestamp": 1641981044180,
     "user_tz": -60,
     "elapsed": 24,
     "user": {
      "displayName": "Benoît DELORME",
      "photoUrl": "https://lh3.googleusercontent.com/a/default-user=s64",
      "userId": "03178733258717085125"
     }
    },
    "outputId": "f57eb26f-8178-44dc-a7e7-b45d72915d5f"
   }
  },
  {
   "cell_type": "markdown",
   "source": [
    "### 5 product_url"
   ],
   "metadata": {
    "collapsed": false,
    "id": "A0uS1HidSlvA"
   }
  },
  {
   "cell_type": "code",
   "execution_count": 137,
   "outputs": [
    {
     "output_type": "execute_result",
     "data": {
      "application/vnd.google.colaboratory.intrinsic+json": {
       "type": "string"
      },
      "text/plain": [
       "'http://www.flipkart.com/elegance-polyester-multicolor-abstract-eyelet-door-curtain/p/itmeg7bkzdgthcts?pid=CRNEG7BKMFFYHQ8Z'"
      ]
     },
     "metadata": {},
     "execution_count": 137
    }
   ],
   "source": [
    "items_df['product_url'][0]"
   ],
   "metadata": {
    "pycharm": {
     "name": "#%%\n"
    },
    "colab": {
     "base_uri": "https://localhost:8080/",
     "height": 1000
    },
    "id": "VPDC2f1ISlvB",
    "executionInfo": {
     "status": "ok",
     "timestamp": 1641981044181,
     "user_tz": -60,
     "elapsed": 19,
     "user": {
      "displayName": "Benoît DELORME",
      "photoUrl": "https://lh3.googleusercontent.com/a/default-user=s64",
      "userId": "03178733258717085125"
     }
    },
    "outputId": "d40bb199-6c3e-431e-b448-6433cb44c45d"
   }
  },
  {
   "cell_type": "code",
   "execution_count": 138,
   "outputs": [],
   "source": [
    "items_df.drop('product_url', axis=1, inplace=True)"
   ],
   "metadata": {
    "pycharm": {
     "name": "#%%\n"
    },
    "id": "NPPaq3ksSlvB",
    "executionInfo": {
     "status": "ok",
     "timestamp": 1641981044182,
     "user_tz": -60,
     "elapsed": 18,
     "user": {
      "displayName": "Benoît DELORME",
      "photoUrl": "https://lh3.googleusercontent.com/a/default-user=s64",
      "userId": "03178733258717085125"
     }
    }
   }
  },
  {
   "cell_type": "markdown",
   "source": [
    "### 6 product_name"
   ],
   "metadata": {
    "collapsed": false,
    "id": "RJidyCfESlvB"
   }
  },
  {
   "cell_type": "code",
   "execution_count": 139,
   "outputs": [
    {
     "output_type": "display_data",
     "data": {
      "image/png": "[encoded data removed]",
      "text/plain": [
       "<Figure size 576x396 with 1 Axes>"
      ]
     },
     "metadata": {}
    }
   ],
   "source": [
    "# Analysis of 1-gram words\n",
    "column_most_common_words(items_df, 'product_name')"
   ],
   "metadata": {
    "pycharm": {
     "name": "#%%\n"
    },
    "colab": {
     "base_uri": "https://localhost:8080/",
     "height": 54
    },
    "id": "2O39ajsESlvD",
    "executionInfo": {
     "status": "ok",
     "timestamp": 1641981044183,
     "user_tz": -60,
     "elapsed": 18,
     "user": {
      "displayName": "Benoît DELORME",
      "photoUrl": "https://lh3.googleusercontent.com/a/default-user=s64",
      "userId": "03178733258717085125"
     }
    },
    "outputId": "1a89c001-70a0-4991-b8b5-a06b4d3ebfaf"
   }
  },
  {
   "cell_type": "code",
   "execution_count": 140,
   "outputs": [
    {
     "output_type": "display_data",
     "data": {
      "image/png": "[encoded data removed]",
      "text/plain": [
       "<Figure size 576x396 with 1 Axes>"
      ]
     },
     "metadata": {}
    }
   ],
   "source": [
    "# Analysis of 2-gram words\n",
    "def two_gram_words_pareto(df, column, threshold):\n",
    "    sw = set()\n",
    "    sw.update('stopwords')\n",
    "    sw.update(tuple(nltk.corpus.stopwords.words('english')))\n",
    "    # Clean data\n",
    "    two_gram_words = []\n",
    "    for product_name in df[column]:\n",
    "        words = product_name.split(' ')\n",
    "        words = [word.lower() for word in words\n",
    "                 if len(word)>2\n",
    "                 and word.lower() not in sw\n",
    "                 and word.isalpha() == True]\n",
    "        for combination in itertools.combinations(words, 2):\n",
    "            two_gram_words.append(combination)\n",
    "    words_counter = Counter(two_gram_words).most_common(threshold)\n",
    "    words_df = pd.DataFrame(data=[words[1] for words in words_counter],\n",
    "                           index=[words[0] for words in words_counter]).T\n",
    "    my_keys = [str(column) for column in words_df.columns]\n",
    "    my_values = list(words_df.iloc[0])\n",
    "    # Plot\n",
    "    plt.title('Most common bigrams in product_name')\n",
    "    plt.barh(my_keys,\n",
    "             my_values)\n",
    "\n",
    "two_gram_words_pareto(items_df, 'product_name', 20)"
   ],
   "metadata": {
    "pycharm": {
     "name": "#%%\n"
    },
    "colab": {
     "base_uri": "https://localhost:8080/",
     "height": 54
    },
    "id": "asRHsLptSlvF",
    "executionInfo": {
     "status": "ok",
     "timestamp": 1641981044709,
     "user_tz": -60,
     "elapsed": 542,
     "user": {
      "displayName": "Benoît DELORME",
      "photoUrl": "https://lh3.googleusercontent.com/a/default-user=s64",
      "userId": "03178733258717085125"
     }
    },
    "outputId": "72dadaa3-1497-45fb-fc32-baa878386a23"
   }
  },
  {
   "cell_type": "markdown",
   "source": [
    "### 7 product_category_tree"
   ],
   "metadata": {
    "collapsed": false,
    "id": "WfJGHMIxSlvF"
   }
  },
  {
   "cell_type": "code",
   "execution_count": 141,
   "outputs": [
    {
     "output_type": "display_data",
     "data": {
      "image/png": "[encoded data removed]",
      "text/plain": [
       "<Figure size 576x396 with 1 Axes>"
      ]
     },
     "metadata": {}
    }
   ],
   "source": [
    "def main_product_categories_df(df, column, threshold):\n",
    "    product_counter = Counter(df[column])\n",
    "    product_df = pd.DataFrame({'word':dict(product_counter).keys(),\n",
    "                               'count':dict(product_counter).values()})\n",
    "    product_df.sort_values(by='count', inplace=True, ascending=False)\n",
    "    plt.title('Most common branches in {}'.format(column))\n",
    "    plt.barh(product_df['word'][:threshold],\n",
    "             product_df['count'][:threshold])\n",
    "\n",
    "\n",
    "main_product_categories_df(items_df, 'product_category_tree', 20)"
   ],
   "metadata": {
    "pycharm": {
     "name": "#%%\n"
    },
    "colab": {
     "base_uri": "https://localhost:8080/",
     "height": 54
    },
    "id": "2TBirCiVSlvF",
    "executionInfo": {
     "status": "ok",
     "timestamp": 1641981045380,
     "user_tz": -60,
     "elapsed": 676,
     "user": {
      "displayName": "Benoît DELORME",
      "photoUrl": "https://lh3.googleusercontent.com/a/default-user=s64",
      "userId": "03178733258717085125"
     }
    },
    "outputId": "d3ea0557-a4d4-4c49-93eb-2762aaf2a315"
   }
  },
  {
   "cell_type": "code",
   "execution_count": 142,
   "outputs": [
    {
     "output_type": "display_data",
     "data": {
      "image/png": "[encoded data removed]",
      "text/plain": [
       "<Figure size 576x396 with 1 Axes>"
      ]
     },
     "metadata": {}
    }
   ],
   "source": [
    "def tree_depths(df, column, threshold, separator):\n",
    "    product_counter = Counter(df[column])\n",
    "    product_df = pd.DataFrame({'word': dict(product_counter).keys(),\n",
    "                               'count': dict(product_counter).values()})\n",
    "    tree_length = [len(element.split(separator)) for element in product_df['word']]\n",
    "    tree_length_counter = Counter(tree_length)\n",
    "    categories_df = pd.DataFrame({'word':dict(tree_length_counter).keys(),\n",
    "                                 'count':dict(tree_length_counter).values()})\n",
    "    categories_df.sort_values(by='count', inplace=True, ascending=False)\n",
    "    plt.title('Tree length {}'.format(column))\n",
    "    plt.barh(categories_df['word'][:threshold],\n",
    "             categories_df['count'][:threshold])\n",
    "\n",
    "\n",
    "tree_depths(items_df, 'product_category_tree', 20, '>>')"
   ],
   "metadata": {
    "pycharm": {
     "name": "#%%\n"
    },
    "colab": {
     "base_uri": "https://localhost:8080/",
     "height": 54
    },
    "id": "9cmnlnwrSlvF",
    "executionInfo": {
     "status": "ok",
     "timestamp": 1641981045752,
     "user_tz": -60,
     "elapsed": 376,
     "user": {
      "displayName": "Benoît DELORME",
      "photoUrl": "https://lh3.googleusercontent.com/a/default-user=s64",
      "userId": "03178733258717085125"
     }
    },
    "outputId": "073bac44-d0c6-4268-9980-69efc1342859"
   }
  },
  {
   "cell_type": "code",
   "execution_count": 143,
   "outputs": [
    {
     "output_type": "display_data",
     "data": {
      "image/png": "[encoded data removed]",
      "text/plain": [
       "<Figure size 576x396 with 1 Axes>"
      ]
     },
     "metadata": {}
    }
   ],
   "source": [
    "# Most common categories of 1st- and 2nd-level\n",
    "def most_common_categories(df, column, threshold, separator, level):\n",
    "    product_counter = Counter(df[column])\n",
    "    product_df = pd.DataFrame({'word': dict(product_counter).keys(),\n",
    "                               'count': dict(product_counter).values()})\n",
    "    main_categories = [element.split(separator)[level-1] for element in product_df['word']]\n",
    "    main_categories = [element[2:] for element in main_categories]\n",
    "    categories_counter = Counter(main_categories)\n",
    "    cat_names_df = pd.DataFrame({'category':dict(categories_counter).keys(),\n",
    "                                 'count':dict(categories_counter).values()})\n",
    "    cat_names_df.sort_values(by='count', inplace=True, ascending=False)\n",
    "    plt.title('Most common level-{} categories in {}'.format(level, column))\n",
    "    plt.barh(cat_names_df['category'],\n",
    "             cat_names_df['count'])\n",
    "\n",
    "\n",
    "most_common_categories(items_df, 'product_category_tree', 20, '>>', 1)"
   ],
   "metadata": {
    "pycharm": {
     "name": "#%%\n"
    },
    "colab": {
     "base_uri": "https://localhost:8080/",
     "height": 54
    },
    "id": "K7EDt-d5SlvF",
    "executionInfo": {
     "status": "ok",
     "timestamp": 1641981046165,
     "user_tz": -60,
     "elapsed": 417,
     "user": {
      "displayName": "Benoît DELORME",
      "photoUrl": "https://lh3.googleusercontent.com/a/default-user=s64",
      "userId": "03178733258717085125"
     }
    },
    "outputId": "9c153122-8765-4193-df2a-16786eb25fe5"
   }
  },
  {
   "cell_type": "code",
   "execution_count": 144,
   "outputs": [
    {
     "output_type": "execute_result",
     "data": {
      "text/html": [
       "\n",
       "  <div id=\"df-08fe9625-340e-4ba9-ab76-fbec4d26d34e\">\n",
       "    <div class=\"colab-df-container\">\n",
       "      <div>\n",
       "<style scoped>\n",
       "    .dataframe tbody tr th:only-of-type {\n",
       "        vertical-align: middle;\n",
       "    }\n",
       "\n",
       "    .dataframe tbody tr th {\n",
       "        vertical-align: top;\n",
       "    }\n",
       "\n",
       "    .dataframe thead th {\n",
       "        text-align: right;\n",
       "    }\n",
       "</style>\n",
       "<table border=\"1\" class=\"dataframe\">\n",
       "  <thead>\n",
       "    <tr style=\"text-align: right;\">\n",
       "      <th></th>\n",
       "      <th>uniq_id</th>\n",
       "      <th>crawl_timestamp</th>\n",
       "      <th>product_name</th>\n",
       "      <th>pid</th>\n",
       "      <th>retail_price</th>\n",
       "      <th>discounted_price</th>\n",
       "      <th>image</th>\n",
       "      <th>is_FK_Advantage_product</th>\n",
       "      <th>description</th>\n",
       "      <th>product_rating</th>\n",
       "      <th>overall_rating</th>\n",
       "      <th>brand</th>\n",
       "      <th>product_specifications</th>\n",
       "      <th>cat_tree_1st</th>\n",
       "      <th>cat_tree_2nd</th>\n",
       "    </tr>\n",
       "  </thead>\n",
       "  <tbody>\n",
       "    <tr>\n",
       "      <th>0</th>\n",
       "      <td>55b85ea15a1536d46b7190ad6fff8ce7</td>\n",
       "      <td>2016-04-30 03:22:56 +0000</td>\n",
       "      <td>Elegance Polyester Multicolor Abstract Eyelet ...</td>\n",
       "      <td>CRNEG7BKMFFYHQ8Z</td>\n",
       "      <td>1899.0</td>\n",
       "      <td>899.0</td>\n",
       "      <td>55b85ea15a1536d46b7190ad6fff8ce7.jpg</td>\n",
       "      <td>False</td>\n",
       "      <td>Key Features of Elegance Polyester Multicolor ...</td>\n",
       "      <td>No rating available</td>\n",
       "      <td>No rating available</td>\n",
       "      <td>Elegance</td>\n",
       "      <td>{\"product_specification\"=&gt;[{\"key\"=&gt;\"Brand\", \"v...</td>\n",
       "      <td>Home Furnishing</td>\n",
       "      <td>Curtains &amp; Accessories</td>\n",
       "    </tr>\n",
       "    <tr>\n",
       "      <th>1</th>\n",
       "      <td>7b72c92c2f6c40268628ec5f14c6d590</td>\n",
       "      <td>2016-04-30 03:22:56 +0000</td>\n",
       "      <td>Sathiyas Cotton Bath Towel</td>\n",
       "      <td>BTWEGFZHGBXPHZUH</td>\n",
       "      <td>600.0</td>\n",
       "      <td>449.0</td>\n",
       "      <td>7b72c92c2f6c40268628ec5f14c6d590.jpg</td>\n",
       "      <td>False</td>\n",
       "      <td>Specifications of Sathiyas Cotton Bath Towel (...</td>\n",
       "      <td>No rating available</td>\n",
       "      <td>No rating available</td>\n",
       "      <td>Sathiyas</td>\n",
       "      <td>{\"product_specification\"=&gt;[{\"key\"=&gt;\"Machine Wa...</td>\n",
       "      <td>Baby Care</td>\n",
       "      <td>Baby Bath &amp; Skin</td>\n",
       "    </tr>\n",
       "    <tr>\n",
       "      <th>2</th>\n",
       "      <td>64d5d4a258243731dc7bbb1eef49ad74</td>\n",
       "      <td>2016-04-30 03:22:56 +0000</td>\n",
       "      <td>Eurospa Cotton Terry Face Towel Set</td>\n",
       "      <td>BTWEG6SHXTDB2A2Y</td>\n",
       "      <td>NaN</td>\n",
       "      <td>NaN</td>\n",
       "      <td>64d5d4a258243731dc7bbb1eef49ad74.jpg</td>\n",
       "      <td>False</td>\n",
       "      <td>Key Features of Eurospa Cotton Terry Face Towe...</td>\n",
       "      <td>No rating available</td>\n",
       "      <td>No rating available</td>\n",
       "      <td>Eurospa</td>\n",
       "      <td>{\"product_specification\"=&gt;[{\"key\"=&gt;\"Material\",...</td>\n",
       "      <td>Baby Care</td>\n",
       "      <td>Baby Bath &amp; Skin</td>\n",
       "    </tr>\n",
       "  </tbody>\n",
       "</table>\n",
       "</div>\n",
       "      <button class=\"colab-df-convert\" onclick=\"convertToInteractive('df-08fe9625-340e-4ba9-ab76-fbec4d26d34e')\"\n",
       "              title=\"Convert this dataframe to an interactive table.\"\n",
       "              style=\"display:none;\">\n",
       "        \n",
       "  <svg xmlns=\"http://www.w3.org/2000/svg\" height=\"24px\"viewBox=\"0 0 24 24\"\n",
       "       width=\"24px\">\n",
       "    <path d=\"M0 0h24v24H0V0z\" fill=\"none\"/>\n",
       "    <path d=\"M18.56 5.44l.94 2.06.94-2.06 2.06-.94-2.06-.94-.94-2.06-.94 2.06-2.06.94zm-11 1L8.5 8.5l.94-2.06 2.06-.94-2.06-.94L8.5 2.5l-.94 2.06-2.06.94zm10 10l.94 2.06.94-2.06 2.06-.94-2.06-.94-.94-2.06-.94 2.06-2.06.94z\"/><path d=\"M17.41 7.96l-1.37-1.37c-.4-.4-.92-.59-1.43-.59-.52 0-1.04.2-1.43.59L10.3 9.45l-7.72 7.72c-.78.78-.78 2.05 0 2.83L4 21.41c.39.39.9.59 1.41.59.51 0 1.02-.2 1.41-.59l7.78-7.78 2.81-2.81c.8-.78.8-2.07 0-2.86zM5.41 20L4 18.59l7.72-7.72 1.47 1.35L5.41 20z\"/>\n",
       "  </svg>\n",
       "      </button>\n",
       "      \n",
       "  <style>\n",
       "    .colab-df-container {\n",
       "      display:flex;\n",
       "      flex-wrap:wrap;\n",
       "      gap: 12px;\n",
       "    }\n",
       "\n",
       "    .colab-df-convert {\n",
       "      background-color: #E8F0FE;\n",
       "      border: none;\n",
       "      border-radius: 50%;\n",
       "      cursor: pointer;\n",
       "      display: none;\n",
       "      fill: #1967D2;\n",
       "      height: 32px;\n",
       "      padding: 0 0 0 0;\n",
       "      width: 32px;\n",
       "    }\n",
       "\n",
       "    .colab-df-convert:hover {\n",
       "      background-color: #E2EBFA;\n",
       "      box-shadow: 0px 1px 2px rgba(60, 64, 67, 0.3), 0px 1px 3px 1px rgba(60, 64, 67, 0.15);\n",
       "      fill: #174EA6;\n",
       "    }\n",
       "\n",
       "    [theme=dark] .colab-df-convert {\n",
       "      background-color: #3B4455;\n",
       "      fill: #D2E3FC;\n",
       "    }\n",
       "\n",
       "    [theme=dark] .colab-df-convert:hover {\n",
       "      background-color: #434B5C;\n",
       "      box-shadow: 0px 1px 3px 1px rgba(0, 0, 0, 0.15);\n",
       "      filter: drop-shadow(0px 1px 2px rgba(0, 0, 0, 0.3));\n",
       "      fill: #FFFFFF;\n",
       "    }\n",
       "  </style>\n",
       "\n",
       "      <script>\n",
       "        const buttonEl =\n",
       "          document.querySelector('#df-08fe9625-340e-4ba9-ab76-fbec4d26d34e button.colab-df-convert');\n",
       "        buttonEl.style.display =\n",
       "          google.colab.kernel.accessAllowed ? 'block' : 'none';\n",
       "\n",
       "        async function convertToInteractive(key) {\n",
       "          const element = document.querySelector('#df-08fe9625-340e-4ba9-ab76-fbec4d26d34e');\n",
       "          const dataTable =\n",
       "            await google.colab.kernel.invokeFunction('convertToInteractive',\n",
       "                                                     [key], {});\n",
       "          if (!dataTable) return;\n",
       "\n",
       "          const docLinkHtml = 'Like what you see? Visit the ' +\n",
       "            '<a target=\"_blank\" href=https://colab.research.google.com/notebooks/data_table.ipynb>data table notebook</a>'\n",
       "            + ' to learn more about interactive tables.';\n",
       "          element.innerHTML = '';\n",
       "          dataTable['output_type'] = 'display_data';\n",
       "          await google.colab.output.renderOutput(dataTable, element);\n",
       "          const docLink = document.createElement('div');\n",
       "          docLink.innerHTML = docLinkHtml;\n",
       "          element.appendChild(docLink);\n",
       "        }\n",
       "      </script>\n",
       "    </div>\n",
       "  </div>\n",
       "  "
      ],
      "text/plain": [
       "                            uniq_id  ...            cat_tree_2nd\n",
       "0  55b85ea15a1536d46b7190ad6fff8ce7  ...  Curtains & Accessories\n",
       "1  7b72c92c2f6c40268628ec5f14c6d590  ...        Baby Bath & Skin\n",
       "2  64d5d4a258243731dc7bbb1eef49ad74  ...        Baby Bath & Skin\n",
       "\n",
       "[3 rows x 15 columns]"
      ]
     },
     "metadata": {},
     "execution_count": 144
    }
   ],
   "source": [
    "def extract_main_categories(df, column, separator):\n",
    "    items_df['cat_tree_1st'] = [element.split(separator)[0][2:-1] for element in df[column]]\n",
    "    items_df['cat_tree_2nd'] = [element.split(separator)[1][1:-1] for element in df[column]]\n",
    "    return items_df.drop('product_category_tree', axis=1)\n",
    "\n",
    "items_df = extract_main_categories(items_df, 'product_category_tree', '>>')\n",
    "\n",
    "items_df.head(3)"
   ],
   "metadata": {
    "pycharm": {
     "name": "#%%\n"
    },
    "id": "sk667TP2SlvF",
    "executionInfo": {
     "status": "ok",
     "timestamp": 1641981046166,
     "user_tz": -60,
     "elapsed": 15,
     "user": {
      "displayName": "Benoît DELORME",
      "photoUrl": "https://lh3.googleusercontent.com/a/default-user=s64",
      "userId": "03178733258717085125"
     }
    },
    "colab": {
     "base_uri": "https://localhost:8080/",
     "height": 381
    },
    "outputId": "967daf46-e37f-4be6-b21e-8786614fe728"
   }
  },
  {
   "cell_type": "markdown",
   "source": [
    "### 8 is_FK_Advantage_product"
   ],
   "metadata": {
    "collapsed": false,
    "id": "Qh10nqFcSlvG"
   }
  },
  {
   "cell_type": "code",
   "execution_count": 145,
   "outputs": [
    {
     "output_type": "display_data",
     "data": {
      "image/png": "[encoded data removed]",
      "text/plain": [
       "<Figure size 576x396 with 1 Axes>"
      ]
     },
     "metadata": {}
    }
   ],
   "source": [
    "def plot_fk_davantage_product(df, column, threshold):\n",
    "    fk_counter = Counter(df[column])\n",
    "    product_df = pd.DataFrame({'word':dict(fk_counter).keys(),\n",
    "                               'count':dict(fk_counter).values()})\n",
    "    product_df.sort_values(by='count', inplace=True, ascending=False)\n",
    "    plt.title(column)\n",
    "    plt.pie(product_df['count'][:threshold],\n",
    "            labels=product_df['word'][:threshold])\n",
    "\n",
    "\n",
    "plot_fk_davantage_product(items_df, 'is_FK_Advantage_product', 20)"
   ],
   "metadata": {
    "pycharm": {
     "name": "#%%\n"
    },
    "colab": {
     "base_uri": "https://localhost:8080/",
     "height": 54
    },
    "id": "HQ9XhJ_USlvG",
    "executionInfo": {
     "status": "ok",
     "timestamp": 1641981046167,
     "user_tz": -60,
     "elapsed": 13,
     "user": {
      "displayName": "Benoît DELORME",
      "photoUrl": "https://lh3.googleusercontent.com/a/default-user=s64",
      "userId": "03178733258717085125"
     }
    },
    "outputId": "0ccbd5d0-c44a-4784-d822-3f0b18508d34"
   }
  },
  {
   "cell_type": "code",
   "execution_count": 146,
   "outputs": [],
   "source": [
    "items_df.rename(columns={'is_FK_Advantage_product':'fk_adv_prod'}, inplace=True)\n",
    "items_df['fk_adv_prod'].replace({False:0, True:1}, inplace=True)"
   ],
   "metadata": {
    "pycharm": {
     "name": "#%%\n"
    },
    "id": "RX719o8hSlvG",
    "executionInfo": {
     "status": "ok",
     "timestamp": 1641981046168,
     "user_tz": -60,
     "elapsed": 12,
     "user": {
      "displayName": "Benoît DELORME",
      "photoUrl": "https://lh3.googleusercontent.com/a/default-user=s64",
      "userId": "03178733258717085125"
     }
    }
   }
  },
  {
   "cell_type": "markdown",
   "source": [
    "### 9 description"
   ],
   "metadata": {
    "collapsed": false,
    "id": "DLKRUl69SlvH"
   }
  },
  {
   "cell_type": "code",
   "execution_count": 147,
   "outputs": [
    {
     "output_type": "display_data",
     "data": {
      "image/png": "[encoded data removed]",
      "text/plain": [
       "<Figure size 576x396 with 1 Axes>"
      ]
     },
     "metadata": {}
    }
   ],
   "source": [
    "column_most_common_words(items_df, 'description')"
   ],
   "metadata": {
    "pycharm": {
     "name": "#%%\n"
    },
    "colab": {
     "base_uri": "https://localhost:8080/",
     "height": 54
    },
    "id": "3RuMVNhRSlvH",
    "executionInfo": {
     "status": "ok",
     "timestamp": 1641981046619,
     "user_tz": -60,
     "elapsed": 462,
     "user": {
      "displayName": "Benoît DELORME",
      "photoUrl": "https://lh3.googleusercontent.com/a/default-user=s64",
      "userId": "03178733258717085125"
     }
    },
    "outputId": "c7a49f76-a804-4ddb-c88a-2c834704e923"
   }
  },
  {
   "cell_type": "markdown",
   "source": [
    "### 10 product_rating"
   ],
   "metadata": {
    "collapsed": false,
    "id": "3K4AKlXZSlvH"
   }
  },
  {
   "cell_type": "code",
   "execution_count": 148,
   "outputs": [
    {
     "output_type": "execute_result",
     "data": {
      "text/plain": [
       "<BarContainer object of 20 artists>"
      ]
     },
     "metadata": {},
     "execution_count": 148
    },
    {
     "output_type": "display_data",
     "data": {
      "image/png": "[encoded data removed]",
      "text/plain": [
       "<Figure size 576x396 with 1 Axes>"
      ]
     },
     "metadata": {}
    }
   ],
   "source": [
    "rating_counter = Counter(items_df['product_rating'])\n",
    "ratings_df = pd.DataFrame({'rating':dict(rating_counter).keys(),\n",
    "                           'count':dict(rating_counter).values()})\n",
    "ratings_df.sort_values(by='rating', inplace=True, ascending=False)\n",
    "plt.title('Product rating')\n",
    "plt.barh(ratings_df['rating'][:20],\n",
    "         ratings_df['count'][:20])"
   ],
   "metadata": {
    "pycharm": {
     "name": "#%%\n"
    },
    "colab": {
     "base_uri": "https://localhost:8080/",
     "height": 72
    },
    "id": "dVvsIAaySlvH",
    "executionInfo": {
     "status": "ok",
     "timestamp": 1641981047172,
     "user_tz": -60,
     "elapsed": 559,
     "user": {
      "displayName": "Benoît DELORME",
      "photoUrl": "https://lh3.googleusercontent.com/a/default-user=s64",
      "userId": "03178733258717085125"
     }
    },
    "outputId": "70008a38-a8a5-4fb5-8bfd-c3ccca43610f"
   }
  },
  {
   "cell_type": "markdown",
   "source": [
    "### 11 overall_rating"
   ],
   "metadata": {
    "collapsed": false,
    "id": "s0_hFcdPSlvI"
   }
  },
  {
   "cell_type": "code",
   "execution_count": 149,
   "outputs": [
    {
     "output_type": "execute_result",
     "data": {
      "text/plain": [
       "<BarContainer object of 20 artists>"
      ]
     },
     "metadata": {},
     "execution_count": 149
    },
    {
     "output_type": "display_data",
     "data": {
      "image/png": "[encoded data removed]",
      "text/plain": [
       "<Figure size 576x396 with 1 Axes>"
      ]
     },
     "metadata": {}
    }
   ],
   "source": [
    "my_counter = Counter(items_df['overall_rating'])\n",
    "product_ratings_df = pd.DataFrame({'rating':dict(my_counter).keys(),\n",
    "                                   'count':dict(my_counter).values()})\n",
    "product_ratings_df.sort_values(by='rating', inplace=True, ascending=False)\n",
    "plt.xlim((0, 50))\n",
    "plt.title('Overall rating')\n",
    "plt.barh(product_ratings_df['rating'][:20],\n",
    "         product_ratings_df['count'][:20])"
   ],
   "metadata": {
    "pycharm": {
     "name": "#%%\n"
    },
    "colab": {
     "base_uri": "https://localhost:8080/",
     "height": 72
    },
    "id": "KqSp1TdTSlvI",
    "executionInfo": {
     "status": "ok",
     "timestamp": 1641981047537,
     "user_tz": -60,
     "elapsed": 371,
     "user": {
      "displayName": "Benoît DELORME",
      "photoUrl": "https://lh3.googleusercontent.com/a/default-user=s64",
      "userId": "03178733258717085125"
     }
    },
    "outputId": "87668b4b-51d6-48b5-eb6d-831c10da5674"
   }
  },
  {
   "cell_type": "markdown",
   "source": [
    "### 12 brand"
   ],
   "metadata": {
    "collapsed": false,
    "id": "X_1cTsCqSlvI"
   }
  },
  {
   "cell_type": "code",
   "execution_count": 150,
   "outputs": [
    {
     "output_type": "execute_result",
     "data": {
      "text/plain": [
       "<BarContainer object of 20 artists>"
      ]
     },
     "metadata": {},
     "execution_count": 150
    },
    {
     "output_type": "display_data",
     "data": {
      "image/png": "[encoded data removed]",
      "text/plain": [
       "<Figure size 576x396 with 1 Axes>"
      ]
     },
     "metadata": {}
    }
   ],
   "source": [
    "brands = []\n",
    "for brand in items_df['brand']:\n",
    "    brands.append(brand)\n",
    "brand_counter = Counter(brands)\n",
    "brands_df = pd.DataFrame({'word':dict(brand_counter).keys(),\n",
    "                          'count':dict(brand_counter).values()})\n",
    "brands_df.sort_values(by='count', inplace=True, ascending=False)\n",
    "brands_df.dropna(inplace=True)\n",
    "plt.barh(brands_df['word'][:20],\n",
    "         brands_df['count'][:20])"
   ],
   "metadata": {
    "pycharm": {
     "name": "#%%\n"
    },
    "colab": {
     "base_uri": "https://localhost:8080/",
     "height": 72
    },
    "id": "wyGEnv9jSlvI",
    "executionInfo": {
     "status": "ok",
     "timestamp": 1641981047851,
     "user_tz": -60,
     "elapsed": 323,
     "user": {
      "displayName": "Benoît DELORME",
      "photoUrl": "https://lh3.googleusercontent.com/a/default-user=s64",
      "userId": "03178733258717085125"
     }
    },
    "outputId": "64c1b13c-2ac3-4dc2-c9cd-a3c281073db9"
   }
  },
  {
   "cell_type": "code",
   "execution_count": 151,
   "outputs": [],
   "source": [
    "#Pareto(items_df, 'brand')"
   ],
   "metadata": {
    "pycharm": {
     "name": "#%%\n"
    },
    "id": "aKOn-VzlSlvJ",
    "executionInfo": {
     "status": "ok",
     "timestamp": 1641981047852,
     "user_tz": -60,
     "elapsed": 13,
     "user": {
      "displayName": "Benoît DELORME",
      "photoUrl": "https://lh3.googleusercontent.com/a/default-user=s64",
      "userId": "03178733258717085125"
     }
    }
   }
  },
  {
   "cell_type": "code",
   "execution_count": 152,
   "outputs": [
    {
     "output_type": "stream",
     "name": "stdout",
     "text": [
      "Proportion of the most common brand in the whole original dataframe : \n",
      "0.1%\n"
     ]
    }
   ],
   "source": [
    "print('Proportion of the most common brand in the whole original dataframe : \\n{}%'.format(\n",
    "    100*round(brands_df['count'][0]/items_df.shape[0],3)))"
   ],
   "metadata": {
    "pycharm": {
     "name": "#%%\n"
    },
    "colab": {
     "base_uri": "https://localhost:8080/"
    },
    "id": "WbeFr56aSlvJ",
    "executionInfo": {
     "status": "ok",
     "timestamp": 1641981047853,
     "user_tz": -60,
     "elapsed": 13,
     "user": {
      "displayName": "Benoît DELORME",
      "photoUrl": "https://lh3.googleusercontent.com/a/default-user=s64",
      "userId": "03178733258717085125"
     }
    },
    "outputId": "a29d0853-ab19-4415-c8df-578b3c857495"
   }
  },
  {
   "cell_type": "code",
   "execution_count": 153,
   "outputs": [
    {
     "output_type": "execute_result",
     "data": {
      "text/plain": [
       "215                Lapguard\n",
       "479            PRINT SHAPES\n",
       "80               Lal Haveli\n",
       "334                 Raymond\n",
       "481           Aroma Comfort\n",
       "160                   Tenda\n",
       "178                Smartpro\n",
       "290              Wallmantra\n",
       "297          Home Originals\n",
       "158                    Asus\n",
       "199                      HP\n",
       "295                 Sapatos\n",
       "219                 Rega IT\n",
       "47             Exotic India\n",
       "15                     AKUP\n",
       "60             FS Mini Klub\n",
       "162                TRENDnet\n",
       "163                  Edimax\n",
       "16                   D-Link\n",
       "319        Rajasthan Crafts\n",
       "270    The Intellect Bazaar\n",
       "325               Offspring\n",
       "214                 Cotonex\n",
       "168                 Netgear\n",
       "167                 TP-LINK\n",
       "318             eCraftIndia\n",
       "314             AntiqueShop\n",
       "74          S C Handicrafts\n",
       "53                     Rama\n",
       "75                Tatvaarts\n",
       "205            Fs Mini Klub\n",
       "166                   Zyxel\n",
       "433          FURNISHINGLAND\n",
       "100               Metallino\n",
       "413              Valtellina\n",
       "409               Digilight\n",
       "346                     RRP\n",
       "347                Techone+\n",
       "349                 KLIQVIK\n",
       "130                  palito\n",
       "190                    Hako\n",
       "48          Aapno Rajasthan\n",
       "83             Shoppingtara\n",
       "20                      JRB\n",
       "33                 Vitamins\n",
       "253                    Wow!\n",
       "278                Welhouse\n",
       "21                   RYTHMX\n",
       "207                   Shaun\n",
       "340                  Memore\n",
       "Name: word, dtype: object"
      ]
     },
     "metadata": {},
     "execution_count": 153
    }
   ],
   "source": [
    "# Check if some brands are not written several ways\n",
    "brands_df['word'][:50]"
   ],
   "metadata": {
    "pycharm": {
     "name": "#%%\n"
    },
    "colab": {
     "base_uri": "https://localhost:8080/"
    },
    "id": "ws1Uf_G6SlvJ",
    "executionInfo": {
     "status": "ok",
     "timestamp": 1641981047854,
     "user_tz": -60,
     "elapsed": 11,
     "user": {
      "displayName": "Benoît DELORME",
      "photoUrl": "https://lh3.googleusercontent.com/a/default-user=s64",
      "userId": "03178733258717085125"
     }
    },
    "outputId": "8766179c-bf16-465b-b515-7df0695d39e2"
   }
  },
  {
   "cell_type": "code",
   "execution_count": 154,
   "outputs": [],
   "source": [
    "# The feature brand is too diverse. It does not provide much information,\n",
    "# and is a source of noise. It looks better to reject it.\n",
    "items_df.drop('brand', axis=1, inplace=True)"
   ],
   "metadata": {
    "pycharm": {
     "name": "#%%\n"
    },
    "id": "HoeyicwrSlvJ",
    "executionInfo": {
     "status": "ok",
     "timestamp": 1641981047854,
     "user_tz": -60,
     "elapsed": 10,
     "user": {
      "displayName": "Benoît DELORME",
      "photoUrl": "https://lh3.googleusercontent.com/a/default-user=s64",
      "userId": "03178733258717085125"
     }
    }
   }
  },
  {
   "cell_type": "markdown",
   "source": [
    "### 13 image"
   ],
   "metadata": {
    "collapsed": false,
    "id": "F_bFTV_kSlvJ"
   }
  },
  {
   "cell_type": "code",
   "execution_count": 155,
   "outputs": [
    {
     "output_type": "stream",
     "name": "stderr",
     "text": [
      "/usr/local/lib/python3.7/dist-packages/ipykernel_launcher.py:3: SettingWithCopyWarning: \n",
      "A value is trying to be set on a copy of a slice from a DataFrame.\n",
      "Try using .loc[row_indexer,col_indexer] = value instead\n",
      "\n",
      "See the caveats in the documentation: https://pandas.pydata.org/pandas-docs/stable/user_guide/indexing.html#returning-a-view-versus-a-copy\n",
      "  This is separate from the ipykernel package so we can avoid doing imports until\n"
     ]
    },
    {
     "output_type": "execute_result",
     "data": {
      "text/plain": [
       "False"
      ]
     },
     "metadata": {},
     "execution_count": 155
    }
   ],
   "source": [
    "# Check if uniq_id allways corresponds to image\n",
    "temp_df = items_df[['uniq_id', 'image']]\n",
    "temp_df['image'] = [image_name[:-4] for image_name in temp_df['image']]\n",
    "any(temp_df['uniq_id'] != temp_df['image'])"
   ],
   "metadata": {
    "pycharm": {
     "name": "#%%\n"
    },
    "colab": {
     "base_uri": "https://localhost:8080/"
    },
    "id": "hIcayqxrSlvJ",
    "executionInfo": {
     "status": "ok",
     "timestamp": 1641981047854,
     "user_tz": -60,
     "elapsed": 9,
     "user": {
      "displayName": "Benoît DELORME",
      "photoUrl": "https://lh3.googleusercontent.com/a/default-user=s64",
      "userId": "03178733258717085125"
     }
    },
    "outputId": "b64bd3be-3a3e-4322-aae0-719c72db01a9"
   }
  },
  {
   "cell_type": "markdown",
   "source": [
    "Les deux colonnes sont bien identiques. On peut en supprimer une sans perdre d'information."
   ],
   "metadata": {
    "collapsed": false,
    "id": "7-8tl1oaSlvK"
   }
  },
  {
   "cell_type": "code",
   "execution_count": 156,
   "outputs": [],
   "source": [
    "items_df.drop('image', axis=1, inplace=True)"
   ],
   "metadata": {
    "pycharm": {
     "name": "#%%\n"
    },
    "id": "cTn4WLSiSlvK",
    "executionInfo": {
     "status": "ok",
     "timestamp": 1641981048068,
     "user_tz": -60,
     "elapsed": 221,
     "user": {
      "displayName": "Benoît DELORME",
      "photoUrl": "https://lh3.googleusercontent.com/a/default-user=s64",
      "userId": "03178733258717085125"
     }
    }
   }
  },
  {
   "cell_type": "markdown",
   "source": [
    "### 14 product_specifications"
   ],
   "metadata": {
    "collapsed": false,
    "id": "eHuAO5l3SlvK"
   }
  },
  {
   "cell_type": "code",
   "source": [
    "for specification in items_df['product_specifications'][:5]:\n",
    "    print(specification)"
   ],
   "metadata": {
    "colab": {
     "base_uri": "https://localhost:8080/"
    },
    "id": "ueSD_3MGlgkH",
    "executionInfo": {
     "status": "ok",
     "timestamp": 1641981048069,
     "user_tz": -60,
     "elapsed": 4,
     "user": {
      "displayName": "Benoît DELORME",
      "photoUrl": "https://lh3.googleusercontent.com/a/default-user=s64",
      "userId": "03178733258717085125"
     }
    },
    "outputId": "a88f3867-206e-4691-828e-832f56592f6d"
   },
   "execution_count": 157,
   "outputs": [
    {
     "output_type": "stream",
     "name": "stdout",
     "text": [
      "{\"product_specification\"=>[{\"key\"=>\"Brand\", \"value\"=>\"Elegance\"}, {\"key\"=>\"Designed For\", \"value\"=>\"Door\"}, {\"key\"=>\"Type\", \"value\"=>\"Eyelet\"}, {\"key\"=>\"Model Name\", \"value\"=>\"Abstract Polyester Door Curtain Set Of 2\"}, {\"key\"=>\"Model ID\", \"value\"=>\"Duster25\"}, {\"key\"=>\"Color\", \"value\"=>\"Multicolor\"}, {\"key\"=>\"Length\", \"value\"=>\"213 cm\"}, {\"key\"=>\"Number of Contents in Sales Package\", \"value\"=>\"Pack of 2\"}, {\"key\"=>\"Sales Package\", \"value\"=>\"2 Curtains\"}, {\"key\"=>\"Material\", \"value\"=>\"Polyester\"}]}\n",
      "{\"product_specification\"=>[{\"key\"=>\"Machine Washable\", \"value\"=>\"Yes\"}, {\"key\"=>\"Material\", \"value\"=>\"Cotton\"}, {\"key\"=>\"Design\", \"value\"=>\"Self Design\"}, {\"key\"=>\"Brand\", \"value\"=>\"Sathiyas\"}, {\"key\"=>\"Type\", \"value\"=>\"Bath Towel\"}, {\"key\"=>\"GSM\", \"value\"=>\"500\"}, {\"key\"=>\"Model Name\", \"value\"=>\"Sathiyas cotton bath towel\"}, {\"key\"=>\"Ideal For\", \"value\"=>\"Men, Women, Boys, Girls\"}, {\"key\"=>\"Model ID\", \"value\"=>\"asvtwl322\"}, {\"key\"=>\"Color\", \"value\"=>\"Red, Yellow, Blue\"}, {\"key\"=>\"Size\", \"value\"=>\"Mediam\"}, {\"key\"=>\"Length\", \"value\"=>\"30 inch\"}, {\"key\"=>\"Width\", \"value\"=>\"60 inch\"}, {\"key\"=>\"Number of Contents in Sales Package\", \"value\"=>\"3\"}, {\"key\"=>\"Sales Package\", \"value\"=>\"3 Bath Towel\"}]}\n",
      "{\"product_specification\"=>[{\"key\"=>\"Material\", \"value\"=>\"Cotton Terry\"}, {\"key\"=>\"Design\", \"value\"=>\"SHUVAM\"}, {\"key\"=>\"Brand\", \"value\"=>\"Eurospa\"}, {\"key\"=>\"GSM\", \"value\"=>\"360\"}, {\"key\"=>\"Type\", \"value\"=>\"Face Towel Set\"}, {\"key\"=>\"Model Name\", \"value\"=>\"SHUVAM20PCFTSETASSORTED\"}, {\"key\"=>\"Ideal For\", \"value\"=>\"Boys, Girls, Men, Women\"}, {\"key\"=>\"Model ID\", \"value\"=>\"SHUVAM20PCFTSETASSORTED\"}, {\"key\"=>\"Size\", \"value\"=>\"small\"}, {\"key\"=>\"Color\", \"value\"=>\"Assorted\"}, {\"key\"=>\"Weight\", \"value\"=>\"350 g\"}, {\"key\"=>\"Length\", \"value\"=>\"9 inch\"}, {\"key\"=>\"Width\", \"value\"=>\"9 inch\"}, {\"key\"=>\"Number of Contents in Sales Package\", \"value\"=>\"20\"}, {\"key\"=>\"Sales Package\", \"value\"=>\"20 PIECE FACE TOWEL SET\"}]}\n",
      "{\"product_specification\"=>[{\"key\"=>\"Brand\", \"value\"=>\"SANTOSH ROYAL FASHION\"}, {\"key\"=>\"Machine Washable\", \"value\"=>\"Yes\"}, {\"key\"=>\"Type\", \"value\"=>\"Flat\"}, {\"key\"=>\"Material\", \"value\"=>\"Cotton\"}, {\"key\"=>\"Model Name\", \"value\"=>\"Gold Design Royal Cotton Printed Wedding and Gifted Double Bedsheet With 2 Pillow cover\"}, {\"key\"=>\"Model ID\", \"value\"=>\"goldbedi-38\"}, {\"key\"=>\"Color\", \"value\"=>\"Multicolor\"}, {\"key\"=>\"Size\", \"value\"=>\"King\"}, {\"key\"=>\"Fabric Care\", \"value\"=>\"Machine Wash, Do Not Bleach\"}, {\"key\"=>\"Flat Sheet Width\", \"value\"=>\"90 inch / 230 cm\"}, {\"key\"=>\"Fitted Sheet Width\", \"value\"=>\"228 cm\"}, {\"key\"=>\"Pillow Cover Width\", \"value\"=>\"16 inch / 43 cm\"}, {\"key\"=>\"Pillow Cover Length\", \"value\"=>\"28 inch / 72 cm\"}, {\"key\"=>\"Fitted Sheet Depth\", \"value\"=>\"280 cm\"}, {\"key\"=>\"Fitted Sheet Length\", \"value\"=>\"278 cm\"}, {\"key\"=>\"Flat Sheet Depth\", \"value\"=>\"282 cm\"}, {\"key\"=>\"Flat Sheet Length\", \"value\"=>\"110 inch / 280 cm\"}, {\"key\"=>\"Number of Contents in Sales Package\", \"value\"=>\"1\"}, {\"key\"=>\"Sales Package\", \"value\"=>\"1 Bedsheet,2 Pillow Cover\"}]}\n",
      "{\"product_specification\"=>[{\"key\"=>\"Machine Washable\", \"value\"=>\"Yes\"}, {\"key\"=>\"Brand\", \"value\"=>\"Jaipur Print\"}, {\"key\"=>\"Type\", \"value\"=>\"Flat\"}, {\"key\"=>\"Model Name\", \"value\"=>\"jaipur117\"}, {\"key\"=>\"Material\", \"value\"=>\"Cotton\"}, {\"key\"=>\"Thread Count\", \"value\"=>\"140\"}, {\"key\"=>\"Model ID\", \"value\"=>\"jaipur117\"}, {\"key\"=>\"Fabric Care\", \"value\"=>\"machinewash, do not bleach\"}, {\"key\"=>\"Size\", \"value\"=>\"King\"}, {\"key\"=>\"Color\", \"value\"=>\"White\"}, {\"value\"=>\"waranty of the product only for manufacturing defect only and product will exchange onle when it is not used and returne its origional packing\"}, {\"key\"=>\"Flat Sheet Width\", \"value\"=>\"86 inch / 220 cm\"}, {\"key\"=>\"Fitted Sheet Width\", \"value\"=>\"0 cm\"}, {\"key\"=>\"Pillow Cover Width\", \"value\"=>\"17 inch / 45 cm\"}, {\"key\"=>\"Pillow Cover Length\", \"value\"=>\"29 inch / 75 cm\"}, {\"key\"=>\"Weight\", \"value\"=>\"900 g\"}, {\"key\"=>\"Fitted Sheet Depth\", \"value\"=>\"0 cm\"}, {\"key\"=>\"Fitted Sheet Length\", \"value\"=>\"0 cm\"}, {\"key\"=>\"Flat Sheet Depth\", \"value\"=>\"0.2 cm\"}, {\"key\"=>\"Flat Sheet Length\", \"value\"=>\"104 inch / 265 cm\"}, {\"key\"=>\"Number of Contents in Sales Package\", \"value\"=>\"1\"}, {\"key\"=>\"Sales Package\", \"value\"=>\"1 bed sheet 2 pillow cover\"}]}\n"
     ]
    }
   ]
  },
  {
   "cell_type": "code",
   "source": [
    "def dicts_from_raw_feature(df, column):\n",
    "    super_spec_dict = {}\n",
    "    leading_string = '{\"'+column + '\"=>[{\"'\n",
    "    for i, specification in enumerate(df[column].dropna()):\n",
    "        if len(specification) > len(leading_string):\n",
    "            spec_list = []\n",
    "            for subelement in specification[27:].split('{'):\n",
    "                spec_list.append(subelement[:-3])\n",
    "            spec_list = spec_list[1:]\n",
    "            spec_dict = {}\n",
    "            for j in range(len(spec_list)):\n",
    "                decomposition = spec_list[j].split(\"\\\"\")\n",
    "                # Spec name\n",
    "                spec_dict[decomposition[3]] = decomposition[-2]\n",
    "            super_spec_dict[i] = spec_dict\n",
    "    return super_spec_dict\n",
    "\n",
    "\n",
    "def keys_from_dict_of_dicts(dict_1):\n",
    "    temp_list = []\n",
    "    for element in dict_1.values():\n",
    "        temp_list.append([key for key in element.keys()])\n",
    "    keys_list = []\n",
    "    for sub_list in temp_list:\n",
    "        for key in sub_list:\n",
    "            keys_list.append(key)\n",
    "    return keys_list\n",
    "\n",
    "\n",
    "def get_most_common_keys(df, keys_list, rate):\n",
    "    temp_list = []\n",
    "    df_size = df.shape[0]\n",
    "    for key, count in Counter(keys_list).most_common(100):\n",
    "        if count > df_size*rate:\n",
    "            temp_list.append((key, count))\n",
    "    selected_keys = [element[0] for element in temp_list]\n",
    "    return selected_keys\n",
    "\n",
    "\n",
    "def get_dict_from_element(element, separator):\n",
    "    try:\n",
    "        items = element.split(separator)\n",
    "        element_dict = {}\n",
    "        for i, item in enumerate(items):\n",
    "            if item == 'key':\n",
    "                key = items[i+2]\n",
    "                value = items[i+6]\n",
    "                element_dict[key] = value\n",
    "        return element_dict\n",
    "    except:\n",
    "        return np.nan\n",
    "\n",
    "\n",
    "def get_filtered_dict(input_dict, keys_list):\n",
    "    new_dict = {}\n",
    "    for key, value in input_dict.items():\n",
    "        if key in keys_list:\n",
    "            new_dict[key] = value\n",
    "    return new_dict\n",
    "\n",
    "\n",
    "# Study of the best rate\n",
    "def plot_keys_functionof_rate(keys_list, df):\n",
    "    rates_dict = {}\n",
    "    rates_list = range(0, 60, 5)\n",
    "    for rate in rates_list:\n",
    "        temp_list = []\n",
    "        for key, count in Counter(keys_list).most_common(100):\n",
    "            if count > df.shape[0]*rate/100:\n",
    "                temp_list.append((key, count))\n",
    "        rates_dict[rate] = len(temp_list)\n",
    "    plt.xlabel('Rate of rejection (%)')\n",
    "    plt.ylabel('Number of remnant keys')\n",
    "    plt.plot(list(rates_dict.keys()),\n",
    "                list(rates_dict.values()))\n",
    "    \n",
    "\n",
    "all_dicts = dicts_from_raw_feature(items_df,'product_specifications')\n",
    "keys_list = keys_from_dict_of_dicts(all_dicts)\n",
    "plot_keys_functionof_rate(keys_list, items_df)"
   ],
   "metadata": {
    "id": "dcRBLOPHoUHU",
    "executionInfo": {
     "status": "ok",
     "timestamp": 1641981048479,
     "user_tz": -60,
     "elapsed": 413,
     "user": {
      "displayName": "Benoît DELORME",
      "photoUrl": "https://lh3.googleusercontent.com/a/default-user=s64",
      "userId": "03178733258717085125"
     }
    },
    "colab": {
     "base_uri": "https://localhost:8080/",
     "height": 54
    },
    "outputId": "34895d71-aa3a-42cf-d1ac-ba482b8191e6"
   },
   "execution_count": 158,
   "outputs": [
    {
     "output_type": "display_data",
     "data": {
      "image/png": "[encoded data removed]",
      "text/plain": [
       "<Figure size 576x396 with 1 Axes>"
      ]
     },
     "metadata": {}
    }
   ]
  },
  {
   "cell_type": "code",
   "source": [
    "def clean_product_specification(df, rate, column, separator):\n",
    "    # get the most common keys\n",
    "    all_dicts = dicts_from_raw_feature(df, column)\n",
    "    all_keys= keys_from_dict_of_dicts(all_dicts)\n",
    "    most_common_keys = get_most_common_keys(items_df, all_keys, rate)\n",
    "    # get the corresponding dicts\n",
    "    df[column].dropna(inplace=True)\n",
    "    new_feature = []\n",
    "    for element in df[column]:\n",
    "        raw_dict = get_dict_from_element(element, separator)\n",
    "        if isinstance(raw_dict, dict):\n",
    "            filtered_dict = get_filtered_dict(raw_dict, most_common_keys)\n",
    "        else:\n",
    "            filtered_dict = np.nan\n",
    "        new_feature.append(filtered_dict)\n",
    "    df.drop(column, axis=1, inplace=True)\n",
    "    df['product_specifications_filtered'] = new_feature\n",
    "    return df\n",
    "\n",
    "\n",
    "items_df = clean_product_specification(items_df, 0.05, 'product_specifications', '\\\"')"
   ],
   "metadata": {
    "id": "IFWDwupLhdI-",
    "executionInfo": {
     "status": "ok",
     "timestamp": 1641981048706,
     "user_tz": -60,
     "elapsed": 231,
     "user": {
      "displayName": "Benoît DELORME",
      "photoUrl": "https://lh3.googleusercontent.com/a/default-user=s64",
      "userId": "03178733258717085125"
     }
    }
   },
   "execution_count": 159,
   "outputs": []
  },
  {
   "cell_type": "markdown",
   "source": [
    "### 15 pid"
   ],
   "metadata": {
    "collapsed": false,
    "id": "65sRDEnTSlvM"
   }
  },
  {
   "cell_type": "code",
   "execution_count": 160,
   "outputs": [
    {
     "output_type": "execute_result",
     "data": {
      "text/html": [
       "\n",
       "  <div id=\"df-9244cc79-266a-44ae-a19f-053d2b83f904\">\n",
       "    <div class=\"colab-df-container\">\n",
       "      <div>\n",
       "<style scoped>\n",
       "    .dataframe tbody tr th:only-of-type {\n",
       "        vertical-align: middle;\n",
       "    }\n",
       "\n",
       "    .dataframe tbody tr th {\n",
       "        vertical-align: top;\n",
       "    }\n",
       "\n",
       "    .dataframe thead th {\n",
       "        text-align: right;\n",
       "    }\n",
       "</style>\n",
       "<table border=\"1\" class=\"dataframe\">\n",
       "  <thead>\n",
       "    <tr style=\"text-align: right;\">\n",
       "      <th></th>\n",
       "      <th>pid</th>\n",
       "      <th>product_name</th>\n",
       "      <th>product_specifications_filtered</th>\n",
       "    </tr>\n",
       "  </thead>\n",
       "  <tbody>\n",
       "    <tr>\n",
       "      <th>83</th>\n",
       "      <td>ACBEGWQ2REAGC6JZ</td>\n",
       "      <td>HEAVENLY Dress Baby Boy's  Combo</td>\n",
       "      <td>{'Fabric': 'Cotton', 'Pattern': 'HALF SLEEVE',...</td>\n",
       "    </tr>\n",
       "    <tr>\n",
       "      <th>865</th>\n",
       "      <td>ACBEHGARRYXEA4FA</td>\n",
       "      <td>kawal fashion Pyjama Baby Girl's  Combo</td>\n",
       "      <td>{'Ideal For': 'Baby Girl's', 'Style Code': 'mn...</td>\n",
       "    </tr>\n",
       "    <tr>\n",
       "      <th>511</th>\n",
       "      <td>ACCDQDYBDNZRPMSW</td>\n",
       "      <td>Lapguard HP Pavilion dv5-1014tx 6 Cell Laptop ...</td>\n",
       "      <td>{'In The Box': 'Laptop Battery', 'Brand': 'Lap...</td>\n",
       "    </tr>\n",
       "    <tr>\n",
       "      <th>512</th>\n",
       "      <td>ACCDQDYBQ7YH7EF5</td>\n",
       "      <td>Lapguard HP Pavilion dv5-1020el 6 Cell Laptop ...</td>\n",
       "      <td>{'In The Box': 'Laptop Battery', 'Brand': 'Lap...</td>\n",
       "    </tr>\n",
       "    <tr>\n",
       "      <th>508</th>\n",
       "      <td>ACCDQDYBQZPEEXTY</td>\n",
       "      <td>Lapguard HP Pavilion dv5-1015nr 6 Cell Laptop ...</td>\n",
       "      <td>{'In The Box': 'Laptop Battery', 'Brand': 'Lap...</td>\n",
       "    </tr>\n",
       "    <tr>\n",
       "      <th>504</th>\n",
       "      <td>ACCDQDYBYVQZNHCH</td>\n",
       "      <td>Lapguard HP Pavilion dv5-1008ax 6 Cell Laptop ...</td>\n",
       "      <td>{'In The Box': 'Laptop Battery', 'Brand': 'Lap...</td>\n",
       "    </tr>\n",
       "    <tr>\n",
       "      <th>480</th>\n",
       "      <td>ACCDSY8EGJPW7RJB</td>\n",
       "      <td>HP Pavilion DV7t-6100 Series 6 Cell Laptop Bat...</td>\n",
       "      <td>{'In The Box': 'Laptop Battery', 'Brand': 'HP'...</td>\n",
       "    </tr>\n",
       "    <tr>\n",
       "      <th>490</th>\n",
       "      <td>ACCDSY8EHJF6GRMG</td>\n",
       "      <td>HP Compaq Presario CQ43 6 Cell Laptop Battery</td>\n",
       "      <td>{'In The Box': 'Laptop Battery', 'Brand': 'HP'...</td>\n",
       "    </tr>\n",
       "    <tr>\n",
       "      <th>481</th>\n",
       "      <td>ACCDSY8ESXF9AUHY</td>\n",
       "      <td>Lapguard HP Pavilion DV7-6000 Series 6 Cell La...</td>\n",
       "      <td>{'Brand': 'Lapguard', 'In The Box': 'Laptop Ba...</td>\n",
       "    </tr>\n",
       "    <tr>\n",
       "      <th>486</th>\n",
       "      <td>ACCDSY8EYXYYYYVK</td>\n",
       "      <td>HP Pavilion DV6-2070eo 6 Cell Laptop Battery</td>\n",
       "      <td>{'Brand': 'HP', 'In The Box': 'Laptop Battery'...</td>\n",
       "    </tr>\n",
       "  </tbody>\n",
       "</table>\n",
       "</div>\n",
       "      <button class=\"colab-df-convert\" onclick=\"convertToInteractive('df-9244cc79-266a-44ae-a19f-053d2b83f904')\"\n",
       "              title=\"Convert this dataframe to an interactive table.\"\n",
       "              style=\"display:none;\">\n",
       "        \n",
       "  <svg xmlns=\"http://www.w3.org/2000/svg\" height=\"24px\"viewBox=\"0 0 24 24\"\n",
       "       width=\"24px\">\n",
       "    <path d=\"M0 0h24v24H0V0z\" fill=\"none\"/>\n",
       "    <path d=\"M18.56 5.44l.94 2.06.94-2.06 2.06-.94-2.06-.94-.94-2.06-.94 2.06-2.06.94zm-11 1L8.5 8.5l.94-2.06 2.06-.94-2.06-.94L8.5 2.5l-.94 2.06-2.06.94zm10 10l.94 2.06.94-2.06 2.06-.94-2.06-.94-.94-2.06-.94 2.06-2.06.94z\"/><path d=\"M17.41 7.96l-1.37-1.37c-.4-.4-.92-.59-1.43-.59-.52 0-1.04.2-1.43.59L10.3 9.45l-7.72 7.72c-.78.78-.78 2.05 0 2.83L4 21.41c.39.39.9.59 1.41.59.51 0 1.02-.2 1.41-.59l7.78-7.78 2.81-2.81c.8-.78.8-2.07 0-2.86zM5.41 20L4 18.59l7.72-7.72 1.47 1.35L5.41 20z\"/>\n",
       "  </svg>\n",
       "      </button>\n",
       "      \n",
       "  <style>\n",
       "    .colab-df-container {\n",
       "      display:flex;\n",
       "      flex-wrap:wrap;\n",
       "      gap: 12px;\n",
       "    }\n",
       "\n",
       "    .colab-df-convert {\n",
       "      background-color: #E8F0FE;\n",
       "      border: none;\n",
       "      border-radius: 50%;\n",
       "      cursor: pointer;\n",
       "      display: none;\n",
       "      fill: #1967D2;\n",
       "      height: 32px;\n",
       "      padding: 0 0 0 0;\n",
       "      width: 32px;\n",
       "    }\n",
       "\n",
       "    .colab-df-convert:hover {\n",
       "      background-color: #E2EBFA;\n",
       "      box-shadow: 0px 1px 2px rgba(60, 64, 67, 0.3), 0px 1px 3px 1px rgba(60, 64, 67, 0.15);\n",
       "      fill: #174EA6;\n",
       "    }\n",
       "\n",
       "    [theme=dark] .colab-df-convert {\n",
       "      background-color: #3B4455;\n",
       "      fill: #D2E3FC;\n",
       "    }\n",
       "\n",
       "    [theme=dark] .colab-df-convert:hover {\n",
       "      background-color: #434B5C;\n",
       "      box-shadow: 0px 1px 3px 1px rgba(0, 0, 0, 0.15);\n",
       "      filter: drop-shadow(0px 1px 2px rgba(0, 0, 0, 0.3));\n",
       "      fill: #FFFFFF;\n",
       "    }\n",
       "  </style>\n",
       "\n",
       "      <script>\n",
       "        const buttonEl =\n",
       "          document.querySelector('#df-9244cc79-266a-44ae-a19f-053d2b83f904 button.colab-df-convert');\n",
       "        buttonEl.style.display =\n",
       "          google.colab.kernel.accessAllowed ? 'block' : 'none';\n",
       "\n",
       "        async function convertToInteractive(key) {\n",
       "          const element = document.querySelector('#df-9244cc79-266a-44ae-a19f-053d2b83f904');\n",
       "          const dataTable =\n",
       "            await google.colab.kernel.invokeFunction('convertToInteractive',\n",
       "                                                     [key], {});\n",
       "          if (!dataTable) return;\n",
       "\n",
       "          const docLinkHtml = 'Like what you see? Visit the ' +\n",
       "            '<a target=\"_blank\" href=https://colab.research.google.com/notebooks/data_table.ipynb>data table notebook</a>'\n",
       "            + ' to learn more about interactive tables.';\n",
       "          element.innerHTML = '';\n",
       "          dataTable['output_type'] = 'display_data';\n",
       "          await google.colab.output.renderOutput(dataTable, element);\n",
       "          const docLink = document.createElement('div');\n",
       "          docLink.innerHTML = docLinkHtml;\n",
       "          element.appendChild(docLink);\n",
       "        }\n",
       "      </script>\n",
       "    </div>\n",
       "  </div>\n",
       "  "
      ],
      "text/plain": [
       "                  pid  ...                    product_specifications_filtered\n",
       "83   ACBEGWQ2REAGC6JZ  ...  {'Fabric': 'Cotton', 'Pattern': 'HALF SLEEVE',...\n",
       "865  ACBEHGARRYXEA4FA  ...  {'Ideal For': 'Baby Girl's', 'Style Code': 'mn...\n",
       "511  ACCDQDYBDNZRPMSW  ...  {'In The Box': 'Laptop Battery', 'Brand': 'Lap...\n",
       "512  ACCDQDYBQ7YH7EF5  ...  {'In The Box': 'Laptop Battery', 'Brand': 'Lap...\n",
       "508  ACCDQDYBQZPEEXTY  ...  {'In The Box': 'Laptop Battery', 'Brand': 'Lap...\n",
       "504  ACCDQDYBYVQZNHCH  ...  {'In The Box': 'Laptop Battery', 'Brand': 'Lap...\n",
       "480  ACCDSY8EGJPW7RJB  ...  {'In The Box': 'Laptop Battery', 'Brand': 'HP'...\n",
       "490  ACCDSY8EHJF6GRMG  ...  {'In The Box': 'Laptop Battery', 'Brand': 'HP'...\n",
       "481  ACCDSY8ESXF9AUHY  ...  {'Brand': 'Lapguard', 'In The Box': 'Laptop Ba...\n",
       "486  ACCDSY8EYXYYYYVK  ...  {'Brand': 'HP', 'In The Box': 'Laptop Battery'...\n",
       "\n",
       "[10 rows x 3 columns]"
      ]
     },
     "metadata": {},
     "execution_count": 160
    }
   ],
   "source": [
    "temp_df = items_df[['pid','product_name', 'product_specifications_filtered']]\n",
    "temp_df.sort_values(by='pid').head(10)"
   ],
   "metadata": {
    "pycharm": {
     "name": "#%%\n"
    },
    "id": "a1WZI_0bSlvN",
    "executionInfo": {
     "status": "ok",
     "timestamp": 1641981048707,
     "user_tz": -60,
     "elapsed": 6,
     "user": {
      "displayName": "Benoît DELORME",
      "photoUrl": "https://lh3.googleusercontent.com/a/default-user=s64",
      "userId": "03178733258717085125"
     }
    },
    "colab": {
     "base_uri": "https://localhost:8080/",
     "height": 930
    },
    "outputId": "4ee800a0-f77a-4997-b6b1-b4f51dd94f5e"
   }
  },
  {
   "cell_type": "code",
   "execution_count": 161,
   "outputs": [],
   "source": [
    "# The pid feature does not seem easy to analyse.\n",
    "items_df.drop('pid', axis=1, inplace=True)"
   ],
   "metadata": {
    "pycharm": {
     "name": "#%%\n"
    },
    "id": "vPr36ZK9SlvN",
    "executionInfo": {
     "status": "ok",
     "timestamp": 1641981048707,
     "user_tz": -60,
     "elapsed": 5,
     "user": {
      "displayName": "Benoît DELORME",
      "photoUrl": "https://lh3.googleusercontent.com/a/default-user=s64",
      "userId": "03178733258717085125"
     }
    }
   }
  },
  {
   "cell_type": "markdown",
   "source": [
    "## B. Cleaning"
   ],
   "metadata": {
    "collapsed": false,
    "id": "qLPUgCvmSlvN"
   }
  },
  {
   "cell_type": "markdown",
   "source": [
    "### 1 Text features"
   ],
   "metadata": {
    "collapsed": false,
    "id": "jfT1xWf4SlvN"
   }
  },
  {
   "cell_type": "code",
   "execution_count": 162,
   "outputs": [],
   "source": [
    "def add_length_column(df, column):\n",
    "    len_list = []\n",
    "    for element in df[column]:\n",
    "        len_list.append(len(element))\n",
    "    df[column+'_length'] = len_list\n",
    "    df.sort_values(by=column+'_length', ascending=False, inplace=True)\n",
    "    return df\n",
    "\n",
    "\n",
    "items_df = add_length_column(items_df, 'description')"
   ],
   "metadata": {
    "pycharm": {
     "name": "#%%\n"
    },
    "id": "Ws3U58BzSlvN",
    "executionInfo": {
     "status": "ok",
     "timestamp": 1641981048708,
     "user_tz": -60,
     "elapsed": 6,
     "user": {
      "displayName": "Benoît DELORME",
      "photoUrl": "https://lh3.googleusercontent.com/a/default-user=s64",
      "userId": "03178733258717085125"
     }
    }
   }
  },
  {
   "cell_type": "code",
   "execution_count": 163,
   "outputs": [],
   "source": [
    "def letters_only(cell):\n",
    "    new_words = []\n",
    "    cell = str(cell)\n",
    "    words = cell.split(' ')\n",
    "    for word in words:\n",
    "        new_word = ''.join([i for i in word if i.isalpha()])\n",
    "        new_words.append(new_word)\n",
    "    return new_words\n",
    "\n",
    "\n",
    "def get_stopwords_list(language):\n",
    "    sw = set()\n",
    "    sw.update('stopwords')\n",
    "    sw.update(tuple(nltk.corpus.stopwords.words(language)))\n",
    "    return list(sw)\n",
    "\n",
    "\n",
    "def words_without_stopwords(sentence, sw_list):\n",
    "    words_list = [word for word in sentence if word.lower() not in sw_list]\n",
    "    return ' '.join(words_list)\n",
    "\n",
    "\n",
    "def words_without_shortwords(sentence, min_length=3):\n",
    "    temp_list = [word for word in sentence.split(' ') if len(word) >= min_length]\n",
    "    return ' '.join(temp_list)\n",
    "\n",
    "\n",
    "def stem_words(sentence, stemmer=EnglishStemmer()):\n",
    "    words_list = []\n",
    "    for word in sentence.split(' '):\n",
    "        words_list.append(stemmer.stem(word))\n",
    "    return ' '.join(words_list)\n",
    "\n",
    "\n",
    "def clean_text_feature(df, column, output_check=False):\n",
    "    new_feature = []\n",
    "    stopwords_list = get_stopwords_list('english')\n",
    "    for cell in df[column]:\n",
    "        string = letters_only(cell)\n",
    "        string = words_without_stopwords(string, stopwords_list)\n",
    "        string = words_without_shortwords(string)\n",
    "        string = stem_words(string)\n",
    "        new_feature.append(string)\n",
    "    new_df = df.copy()\n",
    "    new_df[column] = new_feature\n",
    "    return new_df\n",
    "\n",
    "\n",
    "items_df = clean_text_feature(items_df, 'description')"
   ],
   "metadata": {
    "pycharm": {
     "name": "#%%\n"
    },
    "id": "iSYjlhAoSlvO",
    "executionInfo": {
     "status": "ok",
     "timestamp": 1641981049922,
     "user_tz": -60,
     "elapsed": 1219,
     "user": {
      "displayName": "Benoît DELORME",
      "photoUrl": "https://lh3.googleusercontent.com/a/default-user=s64",
      "userId": "03178733258717085125"
     }
    }
   }
  },
  {
   "cell_type": "code",
   "source": [
    "def unique_keys_from_feature_of_dicts(df, column):\n",
    "    keys = []\n",
    "    for cell_dict in df[column]:\n",
    "        if cell_dict is not np.nan:\n",
    "            for key, value in cell_dict.items():\n",
    "                keys.append(key)\n",
    "    keys = pd.Series(keys).unique()\n",
    "    return list(keys)\n",
    "\n",
    "\n",
    "def df_with_columns_from_dicts(df, column, keys):\n",
    "    new_df = df.copy()\n",
    "    for key in keys:\n",
    "        key_column = []\n",
    "        for cell_dict in df[column]:\n",
    "            if cell_dict is not np.nan:\n",
    "                if key in cell_dict.keys():\n",
    "                    key_column.append(cell_dict[key])\n",
    "                else:\n",
    "                    key_column.append(0)\n",
    "            else:\n",
    "                key_column.append(0)\n",
    "        new_df['spec_'+key.lower()] = key_column\n",
    "    return new_df\n",
    "\n",
    "\n",
    "unique_keys = unique_keys_from_feature_of_dicts(items_df, 'product_specifications_filtered')\n",
    "items_df = df_with_columns_from_dicts(items_df, 'product_specifications_filtered', unique_keys)"
   ],
   "metadata": {
    "id": "JRn10p_5VdMt",
    "executionInfo": {
     "status": "ok",
     "timestamp": 1641981049923,
     "user_tz": -60,
     "elapsed": 5,
     "user": {
      "displayName": "Benoît DELORME",
      "photoUrl": "https://lh3.googleusercontent.com/a/default-user=s64",
      "userId": "03178733258717085125"
     }
    }
   },
   "execution_count": 164,
   "outputs": []
  },
  {
   "cell_type": "code",
   "source": [
    "items_df.head(3)"
   ],
   "metadata": {
    "colab": {
     "base_uri": "https://localhost:8080/",
     "height": 485
    },
    "id": "IGUmxnEwkvAF",
    "executionInfo": {
     "status": "ok",
     "timestamp": 1641981050372,
     "user_tz": -60,
     "elapsed": 9,
     "user": {
      "displayName": "Benoît DELORME",
      "photoUrl": "https://lh3.googleusercontent.com/a/default-user=s64",
      "userId": "03178733258717085125"
     }
    },
    "outputId": "d95caf48-e3e1-489c-f1a5-0b12aab777e1"
   },
   "execution_count": 165,
   "outputs": [
    {
     "output_type": "execute_result",
     "data": {
      "text/html": [
       "\n",
       "  <div id=\"df-7f6dd8f8-cbe5-41ae-884a-e61cc61b9433\">\n",
       "    <div class=\"colab-df-container\">\n",
       "      <div>\n",
       "<style scoped>\n",
       "    .dataframe tbody tr th:only-of-type {\n",
       "        vertical-align: middle;\n",
       "    }\n",
       "\n",
       "    .dataframe tbody tr th {\n",
       "        vertical-align: top;\n",
       "    }\n",
       "\n",
       "    .dataframe thead th {\n",
       "        text-align: right;\n",
       "    }\n",
       "</style>\n",
       "<table border=\"1\" class=\"dataframe\">\n",
       "  <thead>\n",
       "    <tr style=\"text-align: right;\">\n",
       "      <th></th>\n",
       "      <th>uniq_id</th>\n",
       "      <th>crawl_timestamp</th>\n",
       "      <th>product_name</th>\n",
       "      <th>retail_price</th>\n",
       "      <th>discounted_price</th>\n",
       "      <th>fk_adv_prod</th>\n",
       "      <th>description</th>\n",
       "      <th>product_rating</th>\n",
       "      <th>overall_rating</th>\n",
       "      <th>cat_tree_1st</th>\n",
       "      <th>cat_tree_2nd</th>\n",
       "      <th>product_specifications_filtered</th>\n",
       "      <th>description_length</th>\n",
       "      <th>spec_brand</th>\n",
       "      <th>spec_suitable for</th>\n",
       "      <th>spec_model number</th>\n",
       "      <th>spec_covered in warranty</th>\n",
       "      <th>spec_warranty summary</th>\n",
       "      <th>spec_not covered in warranty</th>\n",
       "      <th>spec_weight</th>\n",
       "      <th>spec_height</th>\n",
       "      <th>spec_width</th>\n",
       "      <th>spec_depth</th>\n",
       "      <th>spec_type</th>\n",
       "      <th>spec_model name</th>\n",
       "      <th>spec_material</th>\n",
       "      <th>spec_style code</th>\n",
       "      <th>spec_color</th>\n",
       "      <th>spec_machine washable</th>\n",
       "      <th>spec_ideal for</th>\n",
       "      <th>spec_model id</th>\n",
       "      <th>spec_design</th>\n",
       "      <th>spec_size</th>\n",
       "      <th>spec_length</th>\n",
       "      <th>spec_number of contents in sales package</th>\n",
       "      <th>spec_sales package</th>\n",
       "      <th>spec_scratch resistant</th>\n",
       "      <th>spec_pack of</th>\n",
       "      <th>spec_warranty service type</th>\n",
       "      <th>spec_microwave safe</th>\n",
       "      <th>spec_in the box</th>\n",
       "      <th>spec_capacity</th>\n",
       "      <th>spec_water resistant</th>\n",
       "      <th>spec_freezer safe</th>\n",
       "      <th>spec_chronograph</th>\n",
       "      <th>spec_altimeter</th>\n",
       "      <th>spec_barometer</th>\n",
       "      <th>spec_calendar</th>\n",
       "      <th>spec_luminous</th>\n",
       "      <th>spec_mechanism</th>\n",
       "      <th>spec_occasion</th>\n",
       "      <th>spec_novelty feature</th>\n",
       "      <th>spec_dial shape</th>\n",
       "      <th>spec_strap color</th>\n",
       "      <th>spec_dial color</th>\n",
       "      <th>spec_strap material</th>\n",
       "      <th>spec_diameter</th>\n",
       "      <th>spec_pattern</th>\n",
       "      <th>spec_fabric</th>\n",
       "      <th>spec_mug capacity</th>\n",
       "      <th>spec_power source</th>\n",
       "      <th>spec_date display</th>\n",
       "      <th>spec_alarm clock</th>\n",
       "      <th>spec_compass</th>\n",
       "      <th>spec_series</th>\n",
       "      <th>spec_strap type</th>\n",
       "      <th>spec_case / bezel material</th>\n",
       "      <th>spec_water resistance depth</th>\n",
       "      <th>spec_clasp type</th>\n",
       "      <th>spec_model</th>\n",
       "      <th>spec_number of contents in set</th>\n",
       "      <th>spec_combo set content</th>\n",
       "    </tr>\n",
       "  </thead>\n",
       "  <tbody>\n",
       "    <tr>\n",
       "      <th>437</th>\n",
       "      <td>b6c339777814451815fe7950fd4c8536</td>\n",
       "      <td>2016-06-16 08:51:06 +0000</td>\n",
       "      <td>HomeEdge Solid Wood King Bed</td>\n",
       "      <td>25499.0</td>\n",
       "      <td>18799.0</td>\n",
       "      <td>0</td>\n",
       "      <td>key featur homeedg solid wood king bed king be...</td>\n",
       "      <td>No rating available</td>\n",
       "      <td>No rating available</td>\n",
       "      <td>Beauty and Personal Care</td>\n",
       "      <td>Health Care</td>\n",
       "      <td>{'Brand': 'HomeEdge', 'Suitable For': 'Bedroom...</td>\n",
       "      <td>3490</td>\n",
       "      <td>HomeEdge</td>\n",
       "      <td>Bedroom, Kids Room</td>\n",
       "      <td>HE_BED_King_04</td>\n",
       "      <td>Limited to Manufacturing Defects Only</td>\n",
       "      <td>1 Year Company Domestic Warranty</td>\n",
       "      <td>Normal Wear and Tear is not a part of the warr...</td>\n",
       "      <td>80 kg</td>\n",
       "      <td>760 mm</td>\n",
       "      <td>1900 mm</td>\n",
       "      <td>2060 mm</td>\n",
       "      <td>0</td>\n",
       "      <td>0</td>\n",
       "      <td>0</td>\n",
       "      <td>0</td>\n",
       "      <td>0</td>\n",
       "      <td>0</td>\n",
       "      <td>0</td>\n",
       "      <td>0</td>\n",
       "      <td>0</td>\n",
       "      <td>0</td>\n",
       "      <td>0</td>\n",
       "      <td>0</td>\n",
       "      <td>0</td>\n",
       "      <td>0</td>\n",
       "      <td>0</td>\n",
       "      <td>0</td>\n",
       "      <td>0</td>\n",
       "      <td>0</td>\n",
       "      <td>0</td>\n",
       "      <td>0</td>\n",
       "      <td>0</td>\n",
       "      <td>0</td>\n",
       "      <td>0</td>\n",
       "      <td>0</td>\n",
       "      <td>0</td>\n",
       "      <td>0</td>\n",
       "      <td>0</td>\n",
       "      <td>0</td>\n",
       "      <td>0</td>\n",
       "      <td>0</td>\n",
       "      <td>0</td>\n",
       "      <td>0</td>\n",
       "      <td>0</td>\n",
       "      <td>0</td>\n",
       "      <td>0</td>\n",
       "      <td>0</td>\n",
       "      <td>0</td>\n",
       "      <td>0</td>\n",
       "      <td>0</td>\n",
       "      <td>0</td>\n",
       "      <td>0</td>\n",
       "      <td>0</td>\n",
       "      <td>0</td>\n",
       "      <td>0</td>\n",
       "      <td>0</td>\n",
       "      <td>0</td>\n",
       "      <td>0</td>\n",
       "      <td>0</td>\n",
       "      <td>0</td>\n",
       "    </tr>\n",
       "    <tr>\n",
       "      <th>639</th>\n",
       "      <td>aeb421e416716d5f037d50e8c3b14cd7</td>\n",
       "      <td>2016-06-22 20:52:57 +0000</td>\n",
       "      <td>Sunlast 16 inch Laptop Backpack</td>\n",
       "      <td>2600.0</td>\n",
       "      <td>2348.0</td>\n",
       "      <td>0</td>\n",
       "      <td>key featur sunlast inch laptop backpack laptop...</td>\n",
       "      <td>No rating available</td>\n",
       "      <td>No rating available</td>\n",
       "      <td>Computers</td>\n",
       "      <td>Laptop Accessories</td>\n",
       "      <td>{'Brand': 'Sunlast', 'Type': 'Laptop Backpack'...</td>\n",
       "      <td>3447</td>\n",
       "      <td>Sunlast</td>\n",
       "      <td>0</td>\n",
       "      <td>0</td>\n",
       "      <td>0</td>\n",
       "      <td>0</td>\n",
       "      <td>0</td>\n",
       "      <td>820 g</td>\n",
       "      <td>0</td>\n",
       "      <td>0</td>\n",
       "      <td>0</td>\n",
       "      <td>Laptop Backpack</td>\n",
       "      <td>L003 Yellow solar mobile charger</td>\n",
       "      <td>Nylon</td>\n",
       "      <td>L003 Yellow</td>\n",
       "      <td>Yellow</td>\n",
       "      <td>0</td>\n",
       "      <td>0</td>\n",
       "      <td>0</td>\n",
       "      <td>0</td>\n",
       "      <td>0</td>\n",
       "      <td>0</td>\n",
       "      <td>0</td>\n",
       "      <td>0</td>\n",
       "      <td>0</td>\n",
       "      <td>0</td>\n",
       "      <td>0</td>\n",
       "      <td>0</td>\n",
       "      <td>0</td>\n",
       "      <td>0</td>\n",
       "      <td>0</td>\n",
       "      <td>0</td>\n",
       "      <td>0</td>\n",
       "      <td>0</td>\n",
       "      <td>0</td>\n",
       "      <td>0</td>\n",
       "      <td>0</td>\n",
       "      <td>0</td>\n",
       "      <td>0</td>\n",
       "      <td>0</td>\n",
       "      <td>0</td>\n",
       "      <td>0</td>\n",
       "      <td>0</td>\n",
       "      <td>0</td>\n",
       "      <td>0</td>\n",
       "      <td>0</td>\n",
       "      <td>0</td>\n",
       "      <td>0</td>\n",
       "      <td>0</td>\n",
       "      <td>0</td>\n",
       "      <td>0</td>\n",
       "      <td>0</td>\n",
       "      <td>0</td>\n",
       "      <td>0</td>\n",
       "      <td>0</td>\n",
       "      <td>0</td>\n",
       "      <td>0</td>\n",
       "      <td>0</td>\n",
       "      <td>0</td>\n",
       "      <td>0</td>\n",
       "    </tr>\n",
       "    <tr>\n",
       "      <th>715</th>\n",
       "      <td>d68b774e9529a4b94a5c6c8943a1b8b3</td>\n",
       "      <td>2016-01-01 19:37:22 +0000</td>\n",
       "      <td>Pioneer Pragati Floral Single Duvet Orange</td>\n",
       "      <td>1999.0</td>\n",
       "      <td>1099.0</td>\n",
       "      <td>0</td>\n",
       "      <td>pioneer pragati floral singl duvet orang duvet...</td>\n",
       "      <td>No rating available</td>\n",
       "      <td>No rating available</td>\n",
       "      <td>Home Furnishing</td>\n",
       "      <td>Bed Linen</td>\n",
       "      <td>{'Machine Washable': 'No', 'Brand': 'Pioneer P...</td>\n",
       "      <td>2594</td>\n",
       "      <td>Pioneer Pragati</td>\n",
       "      <td>Single Bed</td>\n",
       "      <td>0</td>\n",
       "      <td>0</td>\n",
       "      <td>0</td>\n",
       "      <td>0</td>\n",
       "      <td>650 g</td>\n",
       "      <td>0</td>\n",
       "      <td>59 inch / 152 cm</td>\n",
       "      <td>0</td>\n",
       "      <td>Duvet</td>\n",
       "      <td>Floral Design With Gold Print</td>\n",
       "      <td>0</td>\n",
       "      <td>0</td>\n",
       "      <td>Orange</td>\n",
       "      <td>No</td>\n",
       "      <td>Boys and Girls</td>\n",
       "      <td>Floral Design With Gold Print</td>\n",
       "      <td>Gold Print Floral Design Duvet</td>\n",
       "      <td>Single</td>\n",
       "      <td>89 inch / 228 cm</td>\n",
       "      <td>1</td>\n",
       "      <td>1 Duvet</td>\n",
       "      <td>0</td>\n",
       "      <td>0</td>\n",
       "      <td>0</td>\n",
       "      <td>0</td>\n",
       "      <td>0</td>\n",
       "      <td>0</td>\n",
       "      <td>0</td>\n",
       "      <td>0</td>\n",
       "      <td>0</td>\n",
       "      <td>0</td>\n",
       "      <td>0</td>\n",
       "      <td>0</td>\n",
       "      <td>0</td>\n",
       "      <td>0</td>\n",
       "      <td>0</td>\n",
       "      <td>0</td>\n",
       "      <td>0</td>\n",
       "      <td>0</td>\n",
       "      <td>0</td>\n",
       "      <td>0</td>\n",
       "      <td>0</td>\n",
       "      <td>0</td>\n",
       "      <td>0</td>\n",
       "      <td>0</td>\n",
       "      <td>0</td>\n",
       "      <td>0</td>\n",
       "      <td>0</td>\n",
       "      <td>0</td>\n",
       "      <td>0</td>\n",
       "      <td>0</td>\n",
       "      <td>0</td>\n",
       "      <td>0</td>\n",
       "      <td>0</td>\n",
       "      <td>0</td>\n",
       "      <td>0</td>\n",
       "      <td>0</td>\n",
       "    </tr>\n",
       "  </tbody>\n",
       "</table>\n",
       "</div>\n",
       "      <button class=\"colab-df-convert\" onclick=\"convertToInteractive('df-7f6dd8f8-cbe5-41ae-884a-e61cc61b9433')\"\n",
       "              title=\"Convert this dataframe to an interactive table.\"\n",
       "              style=\"display:none;\">\n",
       "        \n",
       "  <svg xmlns=\"http://www.w3.org/2000/svg\" height=\"24px\"viewBox=\"0 0 24 24\"\n",
       "       width=\"24px\">\n",
       "    <path d=\"M0 0h24v24H0V0z\" fill=\"none\"/>\n",
       "    <path d=\"M18.56 5.44l.94 2.06.94-2.06 2.06-.94-2.06-.94-.94-2.06-.94 2.06-2.06.94zm-11 1L8.5 8.5l.94-2.06 2.06-.94-2.06-.94L8.5 2.5l-.94 2.06-2.06.94zm10 10l.94 2.06.94-2.06 2.06-.94-2.06-.94-.94-2.06-.94 2.06-2.06.94z\"/><path d=\"M17.41 7.96l-1.37-1.37c-.4-.4-.92-.59-1.43-.59-.52 0-1.04.2-1.43.59L10.3 9.45l-7.72 7.72c-.78.78-.78 2.05 0 2.83L4 21.41c.39.39.9.59 1.41.59.51 0 1.02-.2 1.41-.59l7.78-7.78 2.81-2.81c.8-.78.8-2.07 0-2.86zM5.41 20L4 18.59l7.72-7.72 1.47 1.35L5.41 20z\"/>\n",
       "  </svg>\n",
       "      </button>\n",
       "      \n",
       "  <style>\n",
       "    .colab-df-container {\n",
       "      display:flex;\n",
       "      flex-wrap:wrap;\n",
       "      gap: 12px;\n",
       "    }\n",
       "\n",
       "    .colab-df-convert {\n",
       "      background-color: #E8F0FE;\n",
       "      border: none;\n",
       "      border-radius: 50%;\n",
       "      cursor: pointer;\n",
       "      display: none;\n",
       "      fill: #1967D2;\n",
       "      height: 32px;\n",
       "      padding: 0 0 0 0;\n",
       "      width: 32px;\n",
       "    }\n",
       "\n",
       "    .colab-df-convert:hover {\n",
       "      background-color: #E2EBFA;\n",
       "      box-shadow: 0px 1px 2px rgba(60, 64, 67, 0.3), 0px 1px 3px 1px rgba(60, 64, 67, 0.15);\n",
       "      fill: #174EA6;\n",
       "    }\n",
       "\n",
       "    [theme=dark] .colab-df-convert {\n",
       "      background-color: #3B4455;\n",
       "      fill: #D2E3FC;\n",
       "    }\n",
       "\n",
       "    [theme=dark] .colab-df-convert:hover {\n",
       "      background-color: #434B5C;\n",
       "      box-shadow: 0px 1px 3px 1px rgba(0, 0, 0, 0.15);\n",
       "      filter: drop-shadow(0px 1px 2px rgba(0, 0, 0, 0.3));\n",
       "      fill: #FFFFFF;\n",
       "    }\n",
       "  </style>\n",
       "\n",
       "      <script>\n",
       "        const buttonEl =\n",
       "          document.querySelector('#df-7f6dd8f8-cbe5-41ae-884a-e61cc61b9433 button.colab-df-convert');\n",
       "        buttonEl.style.display =\n",
       "          google.colab.kernel.accessAllowed ? 'block' : 'none';\n",
       "\n",
       "        async function convertToInteractive(key) {\n",
       "          const element = document.querySelector('#df-7f6dd8f8-cbe5-41ae-884a-e61cc61b9433');\n",
       "          const dataTable =\n",
       "            await google.colab.kernel.invokeFunction('convertToInteractive',\n",
       "                                                     [key], {});\n",
       "          if (!dataTable) return;\n",
       "\n",
       "          const docLinkHtml = 'Like what you see? Visit the ' +\n",
       "            '<a target=\"_blank\" href=https://colab.research.google.com/notebooks/data_table.ipynb>data table notebook</a>'\n",
       "            + ' to learn more about interactive tables.';\n",
       "          element.innerHTML = '';\n",
       "          dataTable['output_type'] = 'display_data';\n",
       "          await google.colab.output.renderOutput(dataTable, element);\n",
       "          const docLink = document.createElement('div');\n",
       "          docLink.innerHTML = docLinkHtml;\n",
       "          element.appendChild(docLink);\n",
       "        }\n",
       "      </script>\n",
       "    </div>\n",
       "  </div>\n",
       "  "
      ],
      "text/plain": [
       "                              uniq_id  ... spec_combo set content\n",
       "437  b6c339777814451815fe7950fd4c8536  ...                      0\n",
       "639  aeb421e416716d5f037d50e8c3b14cd7  ...                      0\n",
       "715  d68b774e9529a4b94a5c6c8943a1b8b3  ...                      0\n",
       "\n",
       "[3 rows x 72 columns]"
      ]
     },
     "metadata": {},
     "execution_count": 165
    }
   ]
  },
  {
   "cell_type": "code",
   "execution_count": 166,
   "outputs": [
    {
     "output_type": "execute_result",
     "data": {
      "text/html": [
       "\n",
       "  <div id=\"df-488fbe3d-ab12-4d2d-aeb1-c021d68d5964\">\n",
       "    <div class=\"colab-df-container\">\n",
       "      <div>\n",
       "<style scoped>\n",
       "    .dataframe tbody tr th:only-of-type {\n",
       "        vertical-align: middle;\n",
       "    }\n",
       "\n",
       "    .dataframe tbody tr th {\n",
       "        vertical-align: top;\n",
       "    }\n",
       "\n",
       "    .dataframe thead th {\n",
       "        text-align: right;\n",
       "    }\n",
       "</style>\n",
       "<table border=\"1\" class=\"dataframe\">\n",
       "  <thead>\n",
       "    <tr style=\"text-align: right;\">\n",
       "      <th></th>\n",
       "      <th>uniq_id</th>\n",
       "      <th>crawl_timestamp</th>\n",
       "      <th>product_name</th>\n",
       "      <th>retail_price</th>\n",
       "      <th>discounted_price</th>\n",
       "      <th>fk_adv_prod</th>\n",
       "      <th>description</th>\n",
       "      <th>product_rating</th>\n",
       "      <th>overall_rating</th>\n",
       "      <th>cat_tree_1st</th>\n",
       "      <th>cat_tree_2nd</th>\n",
       "      <th>product_specifications_filtered</th>\n",
       "      <th>description_length</th>\n",
       "      <th>spec_brand</th>\n",
       "      <th>spec_suitable for</th>\n",
       "      <th>spec_model number</th>\n",
       "      <th>spec_covered in warranty</th>\n",
       "      <th>spec_warranty summary</th>\n",
       "      <th>spec_not covered in warranty</th>\n",
       "      <th>spec_weight</th>\n",
       "      <th>spec_height</th>\n",
       "      <th>spec_width</th>\n",
       "      <th>spec_depth</th>\n",
       "      <th>spec_type</th>\n",
       "      <th>spec_model name</th>\n",
       "      <th>spec_material</th>\n",
       "      <th>spec_style code</th>\n",
       "      <th>spec_color</th>\n",
       "      <th>spec_machine washable</th>\n",
       "      <th>spec_ideal for</th>\n",
       "      <th>spec_model id</th>\n",
       "      <th>spec_design</th>\n",
       "      <th>spec_size</th>\n",
       "      <th>spec_length</th>\n",
       "      <th>spec_number of contents in sales package</th>\n",
       "      <th>spec_sales package</th>\n",
       "      <th>spec_scratch resistant</th>\n",
       "      <th>spec_pack of</th>\n",
       "      <th>spec_warranty service type</th>\n",
       "      <th>spec_microwave safe</th>\n",
       "      <th>spec_in the box</th>\n",
       "      <th>spec_capacity</th>\n",
       "      <th>spec_water resistant</th>\n",
       "      <th>spec_freezer safe</th>\n",
       "      <th>spec_chronograph</th>\n",
       "      <th>spec_altimeter</th>\n",
       "      <th>spec_barometer</th>\n",
       "      <th>spec_calendar</th>\n",
       "      <th>spec_luminous</th>\n",
       "      <th>spec_mechanism</th>\n",
       "      <th>spec_occasion</th>\n",
       "      <th>spec_novelty feature</th>\n",
       "      <th>spec_dial shape</th>\n",
       "      <th>spec_strap color</th>\n",
       "      <th>spec_dial color</th>\n",
       "      <th>spec_strap material</th>\n",
       "      <th>spec_diameter</th>\n",
       "      <th>spec_pattern</th>\n",
       "      <th>spec_fabric</th>\n",
       "      <th>spec_mug capacity</th>\n",
       "      <th>spec_power source</th>\n",
       "      <th>spec_date display</th>\n",
       "      <th>spec_alarm clock</th>\n",
       "      <th>spec_compass</th>\n",
       "      <th>spec_series</th>\n",
       "      <th>spec_strap type</th>\n",
       "      <th>spec_case / bezel material</th>\n",
       "      <th>spec_water resistance depth</th>\n",
       "      <th>spec_clasp type</th>\n",
       "      <th>spec_model</th>\n",
       "      <th>spec_number of contents in set</th>\n",
       "      <th>spec_combo set content</th>\n",
       "    </tr>\n",
       "  </thead>\n",
       "  <tbody>\n",
       "    <tr>\n",
       "      <th>437</th>\n",
       "      <td>b6c339777814451815fe7950fd4c8536</td>\n",
       "      <td>2016-06-16 08:51:06 +0000</td>\n",
       "      <td>HomeEdge Solid Wood King Bed</td>\n",
       "      <td>25499.0</td>\n",
       "      <td>18799.0</td>\n",
       "      <td>0</td>\n",
       "      <td>key featur homeedg solid wood king bed king be...</td>\n",
       "      <td>No rating available</td>\n",
       "      <td>No rating available</td>\n",
       "      <td>Beauty and Personal Care</td>\n",
       "      <td>Health Care</td>\n",
       "      <td>{'Brand': 'HomeEdge', 'Suitable For': 'Bedroom...</td>\n",
       "      <td>3490</td>\n",
       "      <td>HomeEdge</td>\n",
       "      <td>Bedroom, Kids Room</td>\n",
       "      <td>HE_BED_King_04</td>\n",
       "      <td>Limited to Manufacturing Defects Only</td>\n",
       "      <td>1 Year Company Domestic Warranty</td>\n",
       "      <td>Normal Wear and Tear is not a part of the warr...</td>\n",
       "      <td>80.0</td>\n",
       "      <td>760 mm</td>\n",
       "      <td>1900 mm</td>\n",
       "      <td>2060 mm</td>\n",
       "      <td>0</td>\n",
       "      <td>0</td>\n",
       "      <td>0</td>\n",
       "      <td>0</td>\n",
       "      <td>0</td>\n",
       "      <td>0</td>\n",
       "      <td>0</td>\n",
       "      <td>0</td>\n",
       "      <td>0</td>\n",
       "      <td>0</td>\n",
       "      <td>0</td>\n",
       "      <td>0</td>\n",
       "      <td>0</td>\n",
       "      <td>0</td>\n",
       "      <td>0</td>\n",
       "      <td>0</td>\n",
       "      <td>0</td>\n",
       "      <td>0</td>\n",
       "      <td>0</td>\n",
       "      <td>0</td>\n",
       "      <td>0</td>\n",
       "      <td>0</td>\n",
       "      <td>0</td>\n",
       "      <td>0</td>\n",
       "      <td>0</td>\n",
       "      <td>0</td>\n",
       "      <td>0</td>\n",
       "      <td>0</td>\n",
       "      <td>0</td>\n",
       "      <td>0</td>\n",
       "      <td>0</td>\n",
       "      <td>0</td>\n",
       "      <td>0</td>\n",
       "      <td>0</td>\n",
       "      <td>0</td>\n",
       "      <td>0</td>\n",
       "      <td>0</td>\n",
       "      <td>0</td>\n",
       "      <td>0</td>\n",
       "      <td>0</td>\n",
       "      <td>0</td>\n",
       "      <td>0</td>\n",
       "      <td>0</td>\n",
       "      <td>0</td>\n",
       "      <td>0</td>\n",
       "      <td>0</td>\n",
       "      <td>0</td>\n",
       "      <td>0</td>\n",
       "      <td>0</td>\n",
       "    </tr>\n",
       "    <tr>\n",
       "      <th>639</th>\n",
       "      <td>aeb421e416716d5f037d50e8c3b14cd7</td>\n",
       "      <td>2016-06-22 20:52:57 +0000</td>\n",
       "      <td>Sunlast 16 inch Laptop Backpack</td>\n",
       "      <td>2600.0</td>\n",
       "      <td>2348.0</td>\n",
       "      <td>0</td>\n",
       "      <td>key featur sunlast inch laptop backpack laptop...</td>\n",
       "      <td>No rating available</td>\n",
       "      <td>No rating available</td>\n",
       "      <td>Computers</td>\n",
       "      <td>Laptop Accessories</td>\n",
       "      <td>{'Brand': 'Sunlast', 'Type': 'Laptop Backpack'...</td>\n",
       "      <td>3447</td>\n",
       "      <td>Sunlast</td>\n",
       "      <td>0</td>\n",
       "      <td>0</td>\n",
       "      <td>0</td>\n",
       "      <td>0</td>\n",
       "      <td>0</td>\n",
       "      <td>820.0</td>\n",
       "      <td>0</td>\n",
       "      <td>0</td>\n",
       "      <td>0</td>\n",
       "      <td>Laptop Backpack</td>\n",
       "      <td>L003 Yellow solar mobile charger</td>\n",
       "      <td>Nylon</td>\n",
       "      <td>L003 Yellow</td>\n",
       "      <td>Yellow</td>\n",
       "      <td>0</td>\n",
       "      <td>0</td>\n",
       "      <td>0</td>\n",
       "      <td>0</td>\n",
       "      <td>0</td>\n",
       "      <td>0</td>\n",
       "      <td>0</td>\n",
       "      <td>0</td>\n",
       "      <td>0</td>\n",
       "      <td>0</td>\n",
       "      <td>0</td>\n",
       "      <td>0</td>\n",
       "      <td>0</td>\n",
       "      <td>0</td>\n",
       "      <td>0</td>\n",
       "      <td>0</td>\n",
       "      <td>0</td>\n",
       "      <td>0</td>\n",
       "      <td>0</td>\n",
       "      <td>0</td>\n",
       "      <td>0</td>\n",
       "      <td>0</td>\n",
       "      <td>0</td>\n",
       "      <td>0</td>\n",
       "      <td>0</td>\n",
       "      <td>0</td>\n",
       "      <td>0</td>\n",
       "      <td>0</td>\n",
       "      <td>0</td>\n",
       "      <td>0</td>\n",
       "      <td>0</td>\n",
       "      <td>0</td>\n",
       "      <td>0</td>\n",
       "      <td>0</td>\n",
       "      <td>0</td>\n",
       "      <td>0</td>\n",
       "      <td>0</td>\n",
       "      <td>0</td>\n",
       "      <td>0</td>\n",
       "      <td>0</td>\n",
       "      <td>0</td>\n",
       "      <td>0</td>\n",
       "      <td>0</td>\n",
       "      <td>0</td>\n",
       "    </tr>\n",
       "    <tr>\n",
       "      <th>715</th>\n",
       "      <td>d68b774e9529a4b94a5c6c8943a1b8b3</td>\n",
       "      <td>2016-01-01 19:37:22 +0000</td>\n",
       "      <td>Pioneer Pragati Floral Single Duvet Orange</td>\n",
       "      <td>1999.0</td>\n",
       "      <td>1099.0</td>\n",
       "      <td>0</td>\n",
       "      <td>pioneer pragati floral singl duvet orang duvet...</td>\n",
       "      <td>No rating available</td>\n",
       "      <td>No rating available</td>\n",
       "      <td>Home Furnishing</td>\n",
       "      <td>Bed Linen</td>\n",
       "      <td>{'Machine Washable': 'No', 'Brand': 'Pioneer P...</td>\n",
       "      <td>2594</td>\n",
       "      <td>Pioneer Pragati</td>\n",
       "      <td>Single Bed</td>\n",
       "      <td>0</td>\n",
       "      <td>0</td>\n",
       "      <td>0</td>\n",
       "      <td>0</td>\n",
       "      <td>650.0</td>\n",
       "      <td>0</td>\n",
       "      <td>59 inch / 152 cm</td>\n",
       "      <td>0</td>\n",
       "      <td>Duvet</td>\n",
       "      <td>Floral Design With Gold Print</td>\n",
       "      <td>0</td>\n",
       "      <td>0</td>\n",
       "      <td>Orange</td>\n",
       "      <td>No</td>\n",
       "      <td>Boys and Girls</td>\n",
       "      <td>Floral Design With Gold Print</td>\n",
       "      <td>Gold Print Floral Design Duvet</td>\n",
       "      <td>Single</td>\n",
       "      <td>89 inch / 228 cm</td>\n",
       "      <td>1</td>\n",
       "      <td>1 Duvet</td>\n",
       "      <td>0</td>\n",
       "      <td>0</td>\n",
       "      <td>0</td>\n",
       "      <td>0</td>\n",
       "      <td>0</td>\n",
       "      <td>0</td>\n",
       "      <td>0</td>\n",
       "      <td>0</td>\n",
       "      <td>0</td>\n",
       "      <td>0</td>\n",
       "      <td>0</td>\n",
       "      <td>0</td>\n",
       "      <td>0</td>\n",
       "      <td>0</td>\n",
       "      <td>0</td>\n",
       "      <td>0</td>\n",
       "      <td>0</td>\n",
       "      <td>0</td>\n",
       "      <td>0</td>\n",
       "      <td>0</td>\n",
       "      <td>0</td>\n",
       "      <td>0</td>\n",
       "      <td>0</td>\n",
       "      <td>0</td>\n",
       "      <td>0</td>\n",
       "      <td>0</td>\n",
       "      <td>0</td>\n",
       "      <td>0</td>\n",
       "      <td>0</td>\n",
       "      <td>0</td>\n",
       "      <td>0</td>\n",
       "      <td>0</td>\n",
       "      <td>0</td>\n",
       "      <td>0</td>\n",
       "      <td>0</td>\n",
       "      <td>0</td>\n",
       "    </tr>\n",
       "  </tbody>\n",
       "</table>\n",
       "</div>\n",
       "      <button class=\"colab-df-convert\" onclick=\"convertToInteractive('df-488fbe3d-ab12-4d2d-aeb1-c021d68d5964')\"\n",
       "              title=\"Convert this dataframe to an interactive table.\"\n",
       "              style=\"display:none;\">\n",
       "        \n",
       "  <svg xmlns=\"http://www.w3.org/2000/svg\" height=\"24px\"viewBox=\"0 0 24 24\"\n",
       "       width=\"24px\">\n",
       "    <path d=\"M0 0h24v24H0V0z\" fill=\"none\"/>\n",
       "    <path d=\"M18.56 5.44l.94 2.06.94-2.06 2.06-.94-2.06-.94-.94-2.06-.94 2.06-2.06.94zm-11 1L8.5 8.5l.94-2.06 2.06-.94-2.06-.94L8.5 2.5l-.94 2.06-2.06.94zm10 10l.94 2.06.94-2.06 2.06-.94-2.06-.94-.94-2.06-.94 2.06-2.06.94z\"/><path d=\"M17.41 7.96l-1.37-1.37c-.4-.4-.92-.59-1.43-.59-.52 0-1.04.2-1.43.59L10.3 9.45l-7.72 7.72c-.78.78-.78 2.05 0 2.83L4 21.41c.39.39.9.59 1.41.59.51 0 1.02-.2 1.41-.59l7.78-7.78 2.81-2.81c.8-.78.8-2.07 0-2.86zM5.41 20L4 18.59l7.72-7.72 1.47 1.35L5.41 20z\"/>\n",
       "  </svg>\n",
       "      </button>\n",
       "      \n",
       "  <style>\n",
       "    .colab-df-container {\n",
       "      display:flex;\n",
       "      flex-wrap:wrap;\n",
       "      gap: 12px;\n",
       "    }\n",
       "\n",
       "    .colab-df-convert {\n",
       "      background-color: #E8F0FE;\n",
       "      border: none;\n",
       "      border-radius: 50%;\n",
       "      cursor: pointer;\n",
       "      display: none;\n",
       "      fill: #1967D2;\n",
       "      height: 32px;\n",
       "      padding: 0 0 0 0;\n",
       "      width: 32px;\n",
       "    }\n",
       "\n",
       "    .colab-df-convert:hover {\n",
       "      background-color: #E2EBFA;\n",
       "      box-shadow: 0px 1px 2px rgba(60, 64, 67, 0.3), 0px 1px 3px 1px rgba(60, 64, 67, 0.15);\n",
       "      fill: #174EA6;\n",
       "    }\n",
       "\n",
       "    [theme=dark] .colab-df-convert {\n",
       "      background-color: #3B4455;\n",
       "      fill: #D2E3FC;\n",
       "    }\n",
       "\n",
       "    [theme=dark] .colab-df-convert:hover {\n",
       "      background-color: #434B5C;\n",
       "      box-shadow: 0px 1px 3px 1px rgba(0, 0, 0, 0.15);\n",
       "      filter: drop-shadow(0px 1px 2px rgba(0, 0, 0, 0.3));\n",
       "      fill: #FFFFFF;\n",
       "    }\n",
       "  </style>\n",
       "\n",
       "      <script>\n",
       "        const buttonEl =\n",
       "          document.querySelector('#df-488fbe3d-ab12-4d2d-aeb1-c021d68d5964 button.colab-df-convert');\n",
       "        buttonEl.style.display =\n",
       "          google.colab.kernel.accessAllowed ? 'block' : 'none';\n",
       "\n",
       "        async function convertToInteractive(key) {\n",
       "          const element = document.querySelector('#df-488fbe3d-ab12-4d2d-aeb1-c021d68d5964');\n",
       "          const dataTable =\n",
       "            await google.colab.kernel.invokeFunction('convertToInteractive',\n",
       "                                                     [key], {});\n",
       "          if (!dataTable) return;\n",
       "\n",
       "          const docLinkHtml = 'Like what you see? Visit the ' +\n",
       "            '<a target=\"_blank\" href=https://colab.research.google.com/notebooks/data_table.ipynb>data table notebook</a>'\n",
       "            + ' to learn more about interactive tables.';\n",
       "          element.innerHTML = '';\n",
       "          dataTable['output_type'] = 'display_data';\n",
       "          await google.colab.output.renderOutput(dataTable, element);\n",
       "          const docLink = document.createElement('div');\n",
       "          docLink.innerHTML = docLinkHtml;\n",
       "          element.appendChild(docLink);\n",
       "        }\n",
       "      </script>\n",
       "    </div>\n",
       "  </div>\n",
       "  "
      ],
      "text/plain": [
       "                              uniq_id  ... spec_combo set content\n",
       "437  b6c339777814451815fe7950fd4c8536  ...                      0\n",
       "639  aeb421e416716d5f037d50e8c3b14cd7  ...                      0\n",
       "715  d68b774e9529a4b94a5c6c8943a1b8b3  ...                      0\n",
       "\n",
       "[3 rows x 72 columns]"
      ]
     },
     "metadata": {},
     "execution_count": 166
    }
   ],
   "source": [
    "def df_with_cleaned_weight_feature(df, column):\n",
    "    weights = []\n",
    "    for weight in df[column]:\n",
    "        try:\n",
    "            weights.append(float(weight)) # NaN included\n",
    "        except ValueError:\n",
    "            if 'g' in weight.lower():\n",
    "                weights.append(float(weight.split(' ')[0]))\n",
    "            elif 'kg' in weight.lower():\n",
    "                weights.append(float(weight.split(' ')[0])*100)\n",
    "            elif 'cm' in weight.lower():\n",
    "                weights.append(np.nan)\n",
    "            else:\n",
    "                print(weight)\n",
    "    df[column] = weights\n",
    "    return df\n",
    "\n",
    "df_with_cleaned_weight_feature(items_df, 'spec_weight').head(3)"
   ],
   "metadata": {
    "pycharm": {
     "name": "#%%\n"
    },
    "id": "9_2FPjXnSlvR",
    "executionInfo": {
     "status": "ok",
     "timestamp": 1641981050373,
     "user_tz": -60,
     "elapsed": 6,
     "user": {
      "displayName": "Benoît DELORME",
      "photoUrl": "https://lh3.googleusercontent.com/a/default-user=s64",
      "userId": "03178733258717085125"
     }
    },
    "colab": {
     "base_uri": "https://localhost:8080/",
     "height": 485
    },
    "outputId": "37558e9b-2a61-4cab-85f8-6387629f41ef"
   }
  },
  {
   "cell_type": "code",
   "source": [
    "# Clean as well the spec_ features of items_df\n",
    "spec_list = [column for column in items_df.columns if column[:5]=='spec_']\n",
    "for column in spec_list:\n",
    "    items_df = clean_text_feature(items_df, column)\n",
    "    items_df[column] = items_df[column].astype(str)\n",
    "\n",
    "# Other cleaning\n",
    "items_df = clean_text_feature(items_df, 'product_name')\n",
    "items_df = clean_text_feature(items_df, 'cat_tree_1st')\n",
    "items_df = clean_text_feature(items_df, 'cat_tree_2nd')"
   ],
   "metadata": {
    "id": "G71xlXlV1sxm",
    "executionInfo": {
     "status": "ok",
     "timestamp": 1641981051449,
     "user_tz": -60,
     "elapsed": 1081,
     "user": {
      "displayName": "Benoît DELORME",
      "photoUrl": "https://lh3.googleusercontent.com/a/default-user=s64",
      "userId": "03178733258717085125"
     }
    }
   },
   "execution_count": 167,
   "outputs": []
  },
  {
   "cell_type": "code",
   "source": [
    "items_df.head(3)"
   ],
   "metadata": {
    "colab": {
     "base_uri": "https://localhost:8080/",
     "height": 468
    },
    "id": "JtfKotwF3srR",
    "executionInfo": {
     "status": "ok",
     "timestamp": 1641981051452,
     "user_tz": -60,
     "elapsed": 9,
     "user": {
      "displayName": "Benoît DELORME",
      "photoUrl": "https://lh3.googleusercontent.com/a/default-user=s64",
      "userId": "03178733258717085125"
     }
    },
    "outputId": "9c8f8b33-62b9-49d4-f927-dc38c4350c95"
   },
   "execution_count": 168,
   "outputs": [
    {
     "output_type": "execute_result",
     "data": {
      "text/html": [
       "\n",
       "  <div id=\"df-b7d294ce-d5e1-4376-a2f9-f19dcdb42662\">\n",
       "    <div class=\"colab-df-container\">\n",
       "      <div>\n",
       "<style scoped>\n",
       "    .dataframe tbody tr th:only-of-type {\n",
       "        vertical-align: middle;\n",
       "    }\n",
       "\n",
       "    .dataframe tbody tr th {\n",
       "        vertical-align: top;\n",
       "    }\n",
       "\n",
       "    .dataframe thead th {\n",
       "        text-align: right;\n",
       "    }\n",
       "</style>\n",
       "<table border=\"1\" class=\"dataframe\">\n",
       "  <thead>\n",
       "    <tr style=\"text-align: right;\">\n",
       "      <th></th>\n",
       "      <th>uniq_id</th>\n",
       "      <th>crawl_timestamp</th>\n",
       "      <th>product_name</th>\n",
       "      <th>retail_price</th>\n",
       "      <th>discounted_price</th>\n",
       "      <th>fk_adv_prod</th>\n",
       "      <th>description</th>\n",
       "      <th>product_rating</th>\n",
       "      <th>overall_rating</th>\n",
       "      <th>cat_tree_1st</th>\n",
       "      <th>cat_tree_2nd</th>\n",
       "      <th>product_specifications_filtered</th>\n",
       "      <th>description_length</th>\n",
       "      <th>spec_brand</th>\n",
       "      <th>spec_suitable for</th>\n",
       "      <th>spec_model number</th>\n",
       "      <th>spec_covered in warranty</th>\n",
       "      <th>spec_warranty summary</th>\n",
       "      <th>spec_not covered in warranty</th>\n",
       "      <th>spec_weight</th>\n",
       "      <th>spec_height</th>\n",
       "      <th>spec_width</th>\n",
       "      <th>spec_depth</th>\n",
       "      <th>spec_type</th>\n",
       "      <th>spec_model name</th>\n",
       "      <th>spec_material</th>\n",
       "      <th>spec_style code</th>\n",
       "      <th>spec_color</th>\n",
       "      <th>spec_machine washable</th>\n",
       "      <th>spec_ideal for</th>\n",
       "      <th>spec_model id</th>\n",
       "      <th>spec_design</th>\n",
       "      <th>spec_size</th>\n",
       "      <th>spec_length</th>\n",
       "      <th>spec_number of contents in sales package</th>\n",
       "      <th>spec_sales package</th>\n",
       "      <th>spec_scratch resistant</th>\n",
       "      <th>spec_pack of</th>\n",
       "      <th>spec_warranty service type</th>\n",
       "      <th>spec_microwave safe</th>\n",
       "      <th>spec_in the box</th>\n",
       "      <th>spec_capacity</th>\n",
       "      <th>spec_water resistant</th>\n",
       "      <th>spec_freezer safe</th>\n",
       "      <th>spec_chronograph</th>\n",
       "      <th>spec_altimeter</th>\n",
       "      <th>spec_barometer</th>\n",
       "      <th>spec_calendar</th>\n",
       "      <th>spec_luminous</th>\n",
       "      <th>spec_mechanism</th>\n",
       "      <th>spec_occasion</th>\n",
       "      <th>spec_novelty feature</th>\n",
       "      <th>spec_dial shape</th>\n",
       "      <th>spec_strap color</th>\n",
       "      <th>spec_dial color</th>\n",
       "      <th>spec_strap material</th>\n",
       "      <th>spec_diameter</th>\n",
       "      <th>spec_pattern</th>\n",
       "      <th>spec_fabric</th>\n",
       "      <th>spec_mug capacity</th>\n",
       "      <th>spec_power source</th>\n",
       "      <th>spec_date display</th>\n",
       "      <th>spec_alarm clock</th>\n",
       "      <th>spec_compass</th>\n",
       "      <th>spec_series</th>\n",
       "      <th>spec_strap type</th>\n",
       "      <th>spec_case / bezel material</th>\n",
       "      <th>spec_water resistance depth</th>\n",
       "      <th>spec_clasp type</th>\n",
       "      <th>spec_model</th>\n",
       "      <th>spec_number of contents in set</th>\n",
       "      <th>spec_combo set content</th>\n",
       "    </tr>\n",
       "  </thead>\n",
       "  <tbody>\n",
       "    <tr>\n",
       "      <th>437</th>\n",
       "      <td>b6c339777814451815fe7950fd4c8536</td>\n",
       "      <td>2016-06-16 08:51:06 +0000</td>\n",
       "      <td>homeedg solid wood king bed</td>\n",
       "      <td>25499.0</td>\n",
       "      <td>18799.0</td>\n",
       "      <td>0</td>\n",
       "      <td>key featur homeedg solid wood king bed king be...</td>\n",
       "      <td>No rating available</td>\n",
       "      <td>No rating available</td>\n",
       "      <td>beauti person care</td>\n",
       "      <td>health care</td>\n",
       "      <td>{'Brand': 'HomeEdge', 'Suitable For': 'Bedroom...</td>\n",
       "      <td>3490</td>\n",
       "      <td>homeedg</td>\n",
       "      <td>bedroom kid room</td>\n",
       "      <td>hebedk</td>\n",
       "      <td>limit manufactur defect</td>\n",
       "      <td>year compani domest warranti</td>\n",
       "      <td>normal wear tear part warranti</td>\n",
       "      <td></td>\n",
       "      <td></td>\n",
       "      <td></td>\n",
       "      <td></td>\n",
       "      <td></td>\n",
       "      <td></td>\n",
       "      <td></td>\n",
       "      <td></td>\n",
       "      <td></td>\n",
       "      <td></td>\n",
       "      <td></td>\n",
       "      <td></td>\n",
       "      <td></td>\n",
       "      <td></td>\n",
       "      <td></td>\n",
       "      <td></td>\n",
       "      <td></td>\n",
       "      <td></td>\n",
       "      <td></td>\n",
       "      <td></td>\n",
       "      <td></td>\n",
       "      <td></td>\n",
       "      <td></td>\n",
       "      <td></td>\n",
       "      <td></td>\n",
       "      <td></td>\n",
       "      <td></td>\n",
       "      <td></td>\n",
       "      <td></td>\n",
       "      <td></td>\n",
       "      <td></td>\n",
       "      <td></td>\n",
       "      <td></td>\n",
       "      <td></td>\n",
       "      <td></td>\n",
       "      <td></td>\n",
       "      <td></td>\n",
       "      <td></td>\n",
       "      <td></td>\n",
       "      <td></td>\n",
       "      <td></td>\n",
       "      <td></td>\n",
       "      <td></td>\n",
       "      <td></td>\n",
       "      <td></td>\n",
       "      <td></td>\n",
       "      <td></td>\n",
       "      <td></td>\n",
       "      <td></td>\n",
       "      <td></td>\n",
       "      <td></td>\n",
       "      <td></td>\n",
       "      <td></td>\n",
       "    </tr>\n",
       "    <tr>\n",
       "      <th>639</th>\n",
       "      <td>aeb421e416716d5f037d50e8c3b14cd7</td>\n",
       "      <td>2016-06-22 20:52:57 +0000</td>\n",
       "      <td>sunlast inch laptop backpack</td>\n",
       "      <td>2600.0</td>\n",
       "      <td>2348.0</td>\n",
       "      <td>0</td>\n",
       "      <td>key featur sunlast inch laptop backpack laptop...</td>\n",
       "      <td>No rating available</td>\n",
       "      <td>No rating available</td>\n",
       "      <td>comput</td>\n",
       "      <td>laptop accessori</td>\n",
       "      <td>{'Brand': 'Sunlast', 'Type': 'Laptop Backpack'...</td>\n",
       "      <td>3447</td>\n",
       "      <td>sunlast</td>\n",
       "      <td></td>\n",
       "      <td></td>\n",
       "      <td></td>\n",
       "      <td></td>\n",
       "      <td></td>\n",
       "      <td></td>\n",
       "      <td></td>\n",
       "      <td></td>\n",
       "      <td></td>\n",
       "      <td>laptop backpack</td>\n",
       "      <td>yellow solar mobil charger</td>\n",
       "      <td>nylon</td>\n",
       "      <td>yellow</td>\n",
       "      <td>yellow</td>\n",
       "      <td></td>\n",
       "      <td></td>\n",
       "      <td></td>\n",
       "      <td></td>\n",
       "      <td></td>\n",
       "      <td></td>\n",
       "      <td></td>\n",
       "      <td></td>\n",
       "      <td></td>\n",
       "      <td></td>\n",
       "      <td></td>\n",
       "      <td></td>\n",
       "      <td></td>\n",
       "      <td></td>\n",
       "      <td></td>\n",
       "      <td></td>\n",
       "      <td></td>\n",
       "      <td></td>\n",
       "      <td></td>\n",
       "      <td></td>\n",
       "      <td></td>\n",
       "      <td></td>\n",
       "      <td></td>\n",
       "      <td></td>\n",
       "      <td></td>\n",
       "      <td></td>\n",
       "      <td></td>\n",
       "      <td></td>\n",
       "      <td></td>\n",
       "      <td></td>\n",
       "      <td></td>\n",
       "      <td></td>\n",
       "      <td></td>\n",
       "      <td></td>\n",
       "      <td></td>\n",
       "      <td></td>\n",
       "      <td></td>\n",
       "      <td></td>\n",
       "      <td></td>\n",
       "      <td></td>\n",
       "      <td></td>\n",
       "      <td></td>\n",
       "      <td></td>\n",
       "      <td></td>\n",
       "    </tr>\n",
       "    <tr>\n",
       "      <th>715</th>\n",
       "      <td>d68b774e9529a4b94a5c6c8943a1b8b3</td>\n",
       "      <td>2016-01-01 19:37:22 +0000</td>\n",
       "      <td>pioneer pragati floral singl duvet orang</td>\n",
       "      <td>1999.0</td>\n",
       "      <td>1099.0</td>\n",
       "      <td>0</td>\n",
       "      <td>pioneer pragati floral singl duvet orang duvet...</td>\n",
       "      <td>No rating available</td>\n",
       "      <td>No rating available</td>\n",
       "      <td>home furnish</td>\n",
       "      <td>bed linen</td>\n",
       "      <td>{'Machine Washable': 'No', 'Brand': 'Pioneer P...</td>\n",
       "      <td>2594</td>\n",
       "      <td>pioneer pragati</td>\n",
       "      <td>singl bed</td>\n",
       "      <td></td>\n",
       "      <td></td>\n",
       "      <td></td>\n",
       "      <td></td>\n",
       "      <td></td>\n",
       "      <td></td>\n",
       "      <td>inch</td>\n",
       "      <td></td>\n",
       "      <td>duvet</td>\n",
       "      <td>floral design gold print</td>\n",
       "      <td></td>\n",
       "      <td></td>\n",
       "      <td>orang</td>\n",
       "      <td></td>\n",
       "      <td>boy girl</td>\n",
       "      <td>floral design gold print</td>\n",
       "      <td>gold print floral design duvet</td>\n",
       "      <td>singl</td>\n",
       "      <td>inch</td>\n",
       "      <td></td>\n",
       "      <td>duvet</td>\n",
       "      <td></td>\n",
       "      <td></td>\n",
       "      <td></td>\n",
       "      <td></td>\n",
       "      <td></td>\n",
       "      <td></td>\n",
       "      <td></td>\n",
       "      <td></td>\n",
       "      <td></td>\n",
       "      <td></td>\n",
       "      <td></td>\n",
       "      <td></td>\n",
       "      <td></td>\n",
       "      <td></td>\n",
       "      <td></td>\n",
       "      <td></td>\n",
       "      <td></td>\n",
       "      <td></td>\n",
       "      <td></td>\n",
       "      <td></td>\n",
       "      <td></td>\n",
       "      <td></td>\n",
       "      <td></td>\n",
       "      <td></td>\n",
       "      <td></td>\n",
       "      <td></td>\n",
       "      <td></td>\n",
       "      <td></td>\n",
       "      <td></td>\n",
       "      <td></td>\n",
       "      <td></td>\n",
       "      <td></td>\n",
       "      <td></td>\n",
       "      <td></td>\n",
       "      <td></td>\n",
       "      <td></td>\n",
       "    </tr>\n",
       "  </tbody>\n",
       "</table>\n",
       "</div>\n",
       "      <button class=\"colab-df-convert\" onclick=\"convertToInteractive('df-b7d294ce-d5e1-4376-a2f9-f19dcdb42662')\"\n",
       "              title=\"Convert this dataframe to an interactive table.\"\n",
       "              style=\"display:none;\">\n",
       "        \n",
       "  <svg xmlns=\"http://www.w3.org/2000/svg\" height=\"24px\"viewBox=\"0 0 24 24\"\n",
       "       width=\"24px\">\n",
       "    <path d=\"M0 0h24v24H0V0z\" fill=\"none\"/>\n",
       "    <path d=\"M18.56 5.44l.94 2.06.94-2.06 2.06-.94-2.06-.94-.94-2.06-.94 2.06-2.06.94zm-11 1L8.5 8.5l.94-2.06 2.06-.94-2.06-.94L8.5 2.5l-.94 2.06-2.06.94zm10 10l.94 2.06.94-2.06 2.06-.94-2.06-.94-.94-2.06-.94 2.06-2.06.94z\"/><path d=\"M17.41 7.96l-1.37-1.37c-.4-.4-.92-.59-1.43-.59-.52 0-1.04.2-1.43.59L10.3 9.45l-7.72 7.72c-.78.78-.78 2.05 0 2.83L4 21.41c.39.39.9.59 1.41.59.51 0 1.02-.2 1.41-.59l7.78-7.78 2.81-2.81c.8-.78.8-2.07 0-2.86zM5.41 20L4 18.59l7.72-7.72 1.47 1.35L5.41 20z\"/>\n",
       "  </svg>\n",
       "      </button>\n",
       "      \n",
       "  <style>\n",
       "    .colab-df-container {\n",
       "      display:flex;\n",
       "      flex-wrap:wrap;\n",
       "      gap: 12px;\n",
       "    }\n",
       "\n",
       "    .colab-df-convert {\n",
       "      background-color: #E8F0FE;\n",
       "      border: none;\n",
       "      border-radius: 50%;\n",
       "      cursor: pointer;\n",
       "      display: none;\n",
       "      fill: #1967D2;\n",
       "      height: 32px;\n",
       "      padding: 0 0 0 0;\n",
       "      width: 32px;\n",
       "    }\n",
       "\n",
       "    .colab-df-convert:hover {\n",
       "      background-color: #E2EBFA;\n",
       "      box-shadow: 0px 1px 2px rgba(60, 64, 67, 0.3), 0px 1px 3px 1px rgba(60, 64, 67, 0.15);\n",
       "      fill: #174EA6;\n",
       "    }\n",
       "\n",
       "    [theme=dark] .colab-df-convert {\n",
       "      background-color: #3B4455;\n",
       "      fill: #D2E3FC;\n",
       "    }\n",
       "\n",
       "    [theme=dark] .colab-df-convert:hover {\n",
       "      background-color: #434B5C;\n",
       "      box-shadow: 0px 1px 3px 1px rgba(0, 0, 0, 0.15);\n",
       "      filter: drop-shadow(0px 1px 2px rgba(0, 0, 0, 0.3));\n",
       "      fill: #FFFFFF;\n",
       "    }\n",
       "  </style>\n",
       "\n",
       "      <script>\n",
       "        const buttonEl =\n",
       "          document.querySelector('#df-b7d294ce-d5e1-4376-a2f9-f19dcdb42662 button.colab-df-convert');\n",
       "        buttonEl.style.display =\n",
       "          google.colab.kernel.accessAllowed ? 'block' : 'none';\n",
       "\n",
       "        async function convertToInteractive(key) {\n",
       "          const element = document.querySelector('#df-b7d294ce-d5e1-4376-a2f9-f19dcdb42662');\n",
       "          const dataTable =\n",
       "            await google.colab.kernel.invokeFunction('convertToInteractive',\n",
       "                                                     [key], {});\n",
       "          if (!dataTable) return;\n",
       "\n",
       "          const docLinkHtml = 'Like what you see? Visit the ' +\n",
       "            '<a target=\"_blank\" href=https://colab.research.google.com/notebooks/data_table.ipynb>data table notebook</a>'\n",
       "            + ' to learn more about interactive tables.';\n",
       "          element.innerHTML = '';\n",
       "          dataTable['output_type'] = 'display_data';\n",
       "          await google.colab.output.renderOutput(dataTable, element);\n",
       "          const docLink = document.createElement('div');\n",
       "          docLink.innerHTML = docLinkHtml;\n",
       "          element.appendChild(docLink);\n",
       "        }\n",
       "      </script>\n",
       "    </div>\n",
       "  </div>\n",
       "  "
      ],
      "text/plain": [
       "                              uniq_id  ... spec_combo set content\n",
       "437  b6c339777814451815fe7950fd4c8536  ...                       \n",
       "639  aeb421e416716d5f037d50e8c3b14cd7  ...                       \n",
       "715  d68b774e9529a4b94a5c6c8943a1b8b3  ...                       \n",
       "\n",
       "[3 rows x 72 columns]"
      ]
     },
     "metadata": {},
     "execution_count": 168
    }
   ]
  },
  {
   "cell_type": "markdown",
   "source": [
    "### 2 timestamp"
   ],
   "metadata": {
    "collapsed": false,
    "id": "4t3V0O5VSlvR"
   }
  },
  {
   "cell_type": "code",
   "execution_count": 169,
   "outputs": [],
   "source": [
    "# Replace each date by the difference (in days) with the latest date\n",
    "def replace_dates_with_differences(df, column):\n",
    "    df[column] = pd.to_datetime(df[column])\n",
    "    most_recent_date = max(df[column])\n",
    "    df['oldness'] = df[column] - most_recent_date\n",
    "    df['oldness'] = [element.days for element in df['oldness']]\n",
    "    df.drop(column, axis=1, inplace=True)\n",
    "    return df\n",
    "\n",
    "\n",
    "items_df = replace_dates_with_differences(items_df, 'crawl_timestamp')"
   ],
   "metadata": {
    "pycharm": {
     "name": "#%%\n"
    },
    "id": "3vuxBp3ASlvR",
    "executionInfo": {
     "status": "ok",
     "timestamp": 1641981051452,
     "user_tz": -60,
     "elapsed": 7,
     "user": {
      "displayName": "Benoît DELORME",
      "photoUrl": "https://lh3.googleusercontent.com/a/default-user=s64",
      "userId": "03178733258717085125"
     }
    }
   }
  },
  {
   "cell_type": "markdown",
   "source": [
    "### 3 ratings"
   ],
   "metadata": {
    "collapsed": false,
    "id": "fDHBxALCSlvR"
   }
  },
  {
   "cell_type": "code",
   "execution_count": 170,
   "outputs": [],
   "source": [
    "def fill_nan_for_ratings(df, column, nan_string):\n",
    "    non_nans = df[column].apply(lambda x: isinstance(x, float))\n",
    "    df[column].replace(nan_string, non_nans.mean(), inplace=True)\n",
    "    return df\n",
    "\n",
    "\n",
    "items_df = fill_nan_for_ratings(items_df, 'product_rating', 'No rating available')\n",
    "items_df = fill_nan_for_ratings(items_df, 'overall_rating', 'No rating available')"
   ],
   "metadata": {
    "pycharm": {
     "name": "#%%\n"
    },
    "id": "2VzGZy1aSlvR",
    "executionInfo": {
     "status": "ok",
     "timestamp": 1641981051879,
     "user_tz": -60,
     "elapsed": 433,
     "user": {
      "displayName": "Benoît DELORME",
      "photoUrl": "https://lh3.googleusercontent.com/a/default-user=s64",
      "userId": "03178733258717085125"
     }
    }
   }
  },
  {
   "cell_type": "markdown",
   "source": [
    "### 4 Outliers"
   ],
   "metadata": {
    "collapsed": false,
    "id": "H94fJ5knSlvS"
   }
  },
  {
   "cell_type": "code",
   "source": [
    "items_df.head(3)"
   ],
   "metadata": {
    "colab": {
     "base_uri": "https://localhost:8080/",
     "height": 468
    },
    "id": "HKwxQxk-D4o9",
    "executionInfo": {
     "status": "ok",
     "timestamp": 1641981051881,
     "user_tz": -60,
     "elapsed": 10,
     "user": {
      "displayName": "Benoît DELORME",
      "photoUrl": "https://lh3.googleusercontent.com/a/default-user=s64",
      "userId": "03178733258717085125"
     }
    },
    "outputId": "bcfb92f2-5030-4497-e90b-0d60079a4bbc"
   },
   "execution_count": 171,
   "outputs": [
    {
     "output_type": "execute_result",
     "data": {
      "text/html": [
       "\n",
       "  <div id=\"df-b76010a1-28a9-486e-9093-05b851fe6ec8\">\n",
       "    <div class=\"colab-df-container\">\n",
       "      <div>\n",
       "<style scoped>\n",
       "    .dataframe tbody tr th:only-of-type {\n",
       "        vertical-align: middle;\n",
       "    }\n",
       "\n",
       "    .dataframe tbody tr th {\n",
       "        vertical-align: top;\n",
       "    }\n",
       "\n",
       "    .dataframe thead th {\n",
       "        text-align: right;\n",
       "    }\n",
       "</style>\n",
       "<table border=\"1\" class=\"dataframe\">\n",
       "  <thead>\n",
       "    <tr style=\"text-align: right;\">\n",
       "      <th></th>\n",
       "      <th>uniq_id</th>\n",
       "      <th>product_name</th>\n",
       "      <th>retail_price</th>\n",
       "      <th>discounted_price</th>\n",
       "      <th>fk_adv_prod</th>\n",
       "      <th>description</th>\n",
       "      <th>product_rating</th>\n",
       "      <th>overall_rating</th>\n",
       "      <th>cat_tree_1st</th>\n",
       "      <th>cat_tree_2nd</th>\n",
       "      <th>product_specifications_filtered</th>\n",
       "      <th>description_length</th>\n",
       "      <th>spec_brand</th>\n",
       "      <th>spec_suitable for</th>\n",
       "      <th>spec_model number</th>\n",
       "      <th>spec_covered in warranty</th>\n",
       "      <th>spec_warranty summary</th>\n",
       "      <th>spec_not covered in warranty</th>\n",
       "      <th>spec_weight</th>\n",
       "      <th>spec_height</th>\n",
       "      <th>spec_width</th>\n",
       "      <th>spec_depth</th>\n",
       "      <th>spec_type</th>\n",
       "      <th>spec_model name</th>\n",
       "      <th>spec_material</th>\n",
       "      <th>spec_style code</th>\n",
       "      <th>spec_color</th>\n",
       "      <th>spec_machine washable</th>\n",
       "      <th>spec_ideal for</th>\n",
       "      <th>spec_model id</th>\n",
       "      <th>spec_design</th>\n",
       "      <th>spec_size</th>\n",
       "      <th>spec_length</th>\n",
       "      <th>spec_number of contents in sales package</th>\n",
       "      <th>spec_sales package</th>\n",
       "      <th>spec_scratch resistant</th>\n",
       "      <th>spec_pack of</th>\n",
       "      <th>spec_warranty service type</th>\n",
       "      <th>spec_microwave safe</th>\n",
       "      <th>spec_in the box</th>\n",
       "      <th>spec_capacity</th>\n",
       "      <th>spec_water resistant</th>\n",
       "      <th>spec_freezer safe</th>\n",
       "      <th>spec_chronograph</th>\n",
       "      <th>spec_altimeter</th>\n",
       "      <th>spec_barometer</th>\n",
       "      <th>spec_calendar</th>\n",
       "      <th>spec_luminous</th>\n",
       "      <th>spec_mechanism</th>\n",
       "      <th>spec_occasion</th>\n",
       "      <th>spec_novelty feature</th>\n",
       "      <th>spec_dial shape</th>\n",
       "      <th>spec_strap color</th>\n",
       "      <th>spec_dial color</th>\n",
       "      <th>spec_strap material</th>\n",
       "      <th>spec_diameter</th>\n",
       "      <th>spec_pattern</th>\n",
       "      <th>spec_fabric</th>\n",
       "      <th>spec_mug capacity</th>\n",
       "      <th>spec_power source</th>\n",
       "      <th>spec_date display</th>\n",
       "      <th>spec_alarm clock</th>\n",
       "      <th>spec_compass</th>\n",
       "      <th>spec_series</th>\n",
       "      <th>spec_strap type</th>\n",
       "      <th>spec_case / bezel material</th>\n",
       "      <th>spec_water resistance depth</th>\n",
       "      <th>spec_clasp type</th>\n",
       "      <th>spec_model</th>\n",
       "      <th>spec_number of contents in set</th>\n",
       "      <th>spec_combo set content</th>\n",
       "      <th>oldness</th>\n",
       "    </tr>\n",
       "  </thead>\n",
       "  <tbody>\n",
       "    <tr>\n",
       "      <th>437</th>\n",
       "      <td>b6c339777814451815fe7950fd4c8536</td>\n",
       "      <td>homeedg solid wood king bed</td>\n",
       "      <td>25499.0</td>\n",
       "      <td>18799.0</td>\n",
       "      <td>0</td>\n",
       "      <td>key featur homeedg solid wood king bed king be...</td>\n",
       "      <td>0</td>\n",
       "      <td>0</td>\n",
       "      <td>beauti person care</td>\n",
       "      <td>health care</td>\n",
       "      <td>{'Brand': 'HomeEdge', 'Suitable For': 'Bedroom...</td>\n",
       "      <td>3490</td>\n",
       "      <td>homeedg</td>\n",
       "      <td>bedroom kid room</td>\n",
       "      <td>hebedk</td>\n",
       "      <td>limit manufactur defect</td>\n",
       "      <td>year compani domest warranti</td>\n",
       "      <td>normal wear tear part warranti</td>\n",
       "      <td></td>\n",
       "      <td></td>\n",
       "      <td></td>\n",
       "      <td></td>\n",
       "      <td></td>\n",
       "      <td></td>\n",
       "      <td></td>\n",
       "      <td></td>\n",
       "      <td></td>\n",
       "      <td></td>\n",
       "      <td></td>\n",
       "      <td></td>\n",
       "      <td></td>\n",
       "      <td></td>\n",
       "      <td></td>\n",
       "      <td></td>\n",
       "      <td></td>\n",
       "      <td></td>\n",
       "      <td></td>\n",
       "      <td></td>\n",
       "      <td></td>\n",
       "      <td></td>\n",
       "      <td></td>\n",
       "      <td></td>\n",
       "      <td></td>\n",
       "      <td></td>\n",
       "      <td></td>\n",
       "      <td></td>\n",
       "      <td></td>\n",
       "      <td></td>\n",
       "      <td></td>\n",
       "      <td></td>\n",
       "      <td></td>\n",
       "      <td></td>\n",
       "      <td></td>\n",
       "      <td></td>\n",
       "      <td></td>\n",
       "      <td></td>\n",
       "      <td></td>\n",
       "      <td></td>\n",
       "      <td></td>\n",
       "      <td></td>\n",
       "      <td></td>\n",
       "      <td></td>\n",
       "      <td></td>\n",
       "      <td></td>\n",
       "      <td></td>\n",
       "      <td></td>\n",
       "      <td></td>\n",
       "      <td></td>\n",
       "      <td></td>\n",
       "      <td></td>\n",
       "      <td></td>\n",
       "      <td>-11</td>\n",
       "    </tr>\n",
       "    <tr>\n",
       "      <th>639</th>\n",
       "      <td>aeb421e416716d5f037d50e8c3b14cd7</td>\n",
       "      <td>sunlast inch laptop backpack</td>\n",
       "      <td>2600.0</td>\n",
       "      <td>2348.0</td>\n",
       "      <td>0</td>\n",
       "      <td>key featur sunlast inch laptop backpack laptop...</td>\n",
       "      <td>0</td>\n",
       "      <td>0</td>\n",
       "      <td>comput</td>\n",
       "      <td>laptop accessori</td>\n",
       "      <td>{'Brand': 'Sunlast', 'Type': 'Laptop Backpack'...</td>\n",
       "      <td>3447</td>\n",
       "      <td>sunlast</td>\n",
       "      <td></td>\n",
       "      <td></td>\n",
       "      <td></td>\n",
       "      <td></td>\n",
       "      <td></td>\n",
       "      <td></td>\n",
       "      <td></td>\n",
       "      <td></td>\n",
       "      <td></td>\n",
       "      <td>laptop backpack</td>\n",
       "      <td>yellow solar mobil charger</td>\n",
       "      <td>nylon</td>\n",
       "      <td>yellow</td>\n",
       "      <td>yellow</td>\n",
       "      <td></td>\n",
       "      <td></td>\n",
       "      <td></td>\n",
       "      <td></td>\n",
       "      <td></td>\n",
       "      <td></td>\n",
       "      <td></td>\n",
       "      <td></td>\n",
       "      <td></td>\n",
       "      <td></td>\n",
       "      <td></td>\n",
       "      <td></td>\n",
       "      <td></td>\n",
       "      <td></td>\n",
       "      <td></td>\n",
       "      <td></td>\n",
       "      <td></td>\n",
       "      <td></td>\n",
       "      <td></td>\n",
       "      <td></td>\n",
       "      <td></td>\n",
       "      <td></td>\n",
       "      <td></td>\n",
       "      <td></td>\n",
       "      <td></td>\n",
       "      <td></td>\n",
       "      <td></td>\n",
       "      <td></td>\n",
       "      <td></td>\n",
       "      <td></td>\n",
       "      <td></td>\n",
       "      <td></td>\n",
       "      <td></td>\n",
       "      <td></td>\n",
       "      <td></td>\n",
       "      <td></td>\n",
       "      <td></td>\n",
       "      <td></td>\n",
       "      <td></td>\n",
       "      <td></td>\n",
       "      <td></td>\n",
       "      <td></td>\n",
       "      <td></td>\n",
       "      <td></td>\n",
       "      <td>-4</td>\n",
       "    </tr>\n",
       "    <tr>\n",
       "      <th>715</th>\n",
       "      <td>d68b774e9529a4b94a5c6c8943a1b8b3</td>\n",
       "      <td>pioneer pragati floral singl duvet orang</td>\n",
       "      <td>1999.0</td>\n",
       "      <td>1099.0</td>\n",
       "      <td>0</td>\n",
       "      <td>pioneer pragati floral singl duvet orang duvet...</td>\n",
       "      <td>0</td>\n",
       "      <td>0</td>\n",
       "      <td>home furnish</td>\n",
       "      <td>bed linen</td>\n",
       "      <td>{'Machine Washable': 'No', 'Brand': 'Pioneer P...</td>\n",
       "      <td>2594</td>\n",
       "      <td>pioneer pragati</td>\n",
       "      <td>singl bed</td>\n",
       "      <td></td>\n",
       "      <td></td>\n",
       "      <td></td>\n",
       "      <td></td>\n",
       "      <td></td>\n",
       "      <td></td>\n",
       "      <td>inch</td>\n",
       "      <td></td>\n",
       "      <td>duvet</td>\n",
       "      <td>floral design gold print</td>\n",
       "      <td></td>\n",
       "      <td></td>\n",
       "      <td>orang</td>\n",
       "      <td></td>\n",
       "      <td>boy girl</td>\n",
       "      <td>floral design gold print</td>\n",
       "      <td>gold print floral design duvet</td>\n",
       "      <td>singl</td>\n",
       "      <td>inch</td>\n",
       "      <td></td>\n",
       "      <td>duvet</td>\n",
       "      <td></td>\n",
       "      <td></td>\n",
       "      <td></td>\n",
       "      <td></td>\n",
       "      <td></td>\n",
       "      <td></td>\n",
       "      <td></td>\n",
       "      <td></td>\n",
       "      <td></td>\n",
       "      <td></td>\n",
       "      <td></td>\n",
       "      <td></td>\n",
       "      <td></td>\n",
       "      <td></td>\n",
       "      <td></td>\n",
       "      <td></td>\n",
       "      <td></td>\n",
       "      <td></td>\n",
       "      <td></td>\n",
       "      <td></td>\n",
       "      <td></td>\n",
       "      <td></td>\n",
       "      <td></td>\n",
       "      <td></td>\n",
       "      <td></td>\n",
       "      <td></td>\n",
       "      <td></td>\n",
       "      <td></td>\n",
       "      <td></td>\n",
       "      <td></td>\n",
       "      <td></td>\n",
       "      <td></td>\n",
       "      <td></td>\n",
       "      <td></td>\n",
       "      <td></td>\n",
       "      <td></td>\n",
       "      <td>-177</td>\n",
       "    </tr>\n",
       "  </tbody>\n",
       "</table>\n",
       "</div>\n",
       "      <button class=\"colab-df-convert\" onclick=\"convertToInteractive('df-b76010a1-28a9-486e-9093-05b851fe6ec8')\"\n",
       "              title=\"Convert this dataframe to an interactive table.\"\n",
       "              style=\"display:none;\">\n",
       "        \n",
       "  <svg xmlns=\"http://www.w3.org/2000/svg\" height=\"24px\"viewBox=\"0 0 24 24\"\n",
       "       width=\"24px\">\n",
       "    <path d=\"M0 0h24v24H0V0z\" fill=\"none\"/>\n",
       "    <path d=\"M18.56 5.44l.94 2.06.94-2.06 2.06-.94-2.06-.94-.94-2.06-.94 2.06-2.06.94zm-11 1L8.5 8.5l.94-2.06 2.06-.94-2.06-.94L8.5 2.5l-.94 2.06-2.06.94zm10 10l.94 2.06.94-2.06 2.06-.94-2.06-.94-.94-2.06-.94 2.06-2.06.94z\"/><path d=\"M17.41 7.96l-1.37-1.37c-.4-.4-.92-.59-1.43-.59-.52 0-1.04.2-1.43.59L10.3 9.45l-7.72 7.72c-.78.78-.78 2.05 0 2.83L4 21.41c.39.39.9.59 1.41.59.51 0 1.02-.2 1.41-.59l7.78-7.78 2.81-2.81c.8-.78.8-2.07 0-2.86zM5.41 20L4 18.59l7.72-7.72 1.47 1.35L5.41 20z\"/>\n",
       "  </svg>\n",
       "      </button>\n",
       "      \n",
       "  <style>\n",
       "    .colab-df-container {\n",
       "      display:flex;\n",
       "      flex-wrap:wrap;\n",
       "      gap: 12px;\n",
       "    }\n",
       "\n",
       "    .colab-df-convert {\n",
       "      background-color: #E8F0FE;\n",
       "      border: none;\n",
       "      border-radius: 50%;\n",
       "      cursor: pointer;\n",
       "      display: none;\n",
       "      fill: #1967D2;\n",
       "      height: 32px;\n",
       "      padding: 0 0 0 0;\n",
       "      width: 32px;\n",
       "    }\n",
       "\n",
       "    .colab-df-convert:hover {\n",
       "      background-color: #E2EBFA;\n",
       "      box-shadow: 0px 1px 2px rgba(60, 64, 67, 0.3), 0px 1px 3px 1px rgba(60, 64, 67, 0.15);\n",
       "      fill: #174EA6;\n",
       "    }\n",
       "\n",
       "    [theme=dark] .colab-df-convert {\n",
       "      background-color: #3B4455;\n",
       "      fill: #D2E3FC;\n",
       "    }\n",
       "\n",
       "    [theme=dark] .colab-df-convert:hover {\n",
       "      background-color: #434B5C;\n",
       "      box-shadow: 0px 1px 3px 1px rgba(0, 0, 0, 0.15);\n",
       "      filter: drop-shadow(0px 1px 2px rgba(0, 0, 0, 0.3));\n",
       "      fill: #FFFFFF;\n",
       "    }\n",
       "  </style>\n",
       "\n",
       "      <script>\n",
       "        const buttonEl =\n",
       "          document.querySelector('#df-b76010a1-28a9-486e-9093-05b851fe6ec8 button.colab-df-convert');\n",
       "        buttonEl.style.display =\n",
       "          google.colab.kernel.accessAllowed ? 'block' : 'none';\n",
       "\n",
       "        async function convertToInteractive(key) {\n",
       "          const element = document.querySelector('#df-b76010a1-28a9-486e-9093-05b851fe6ec8');\n",
       "          const dataTable =\n",
       "            await google.colab.kernel.invokeFunction('convertToInteractive',\n",
       "                                                     [key], {});\n",
       "          if (!dataTable) return;\n",
       "\n",
       "          const docLinkHtml = 'Like what you see? Visit the ' +\n",
       "            '<a target=\"_blank\" href=https://colab.research.google.com/notebooks/data_table.ipynb>data table notebook</a>'\n",
       "            + ' to learn more about interactive tables.';\n",
       "          element.innerHTML = '';\n",
       "          dataTable['output_type'] = 'display_data';\n",
       "          await google.colab.output.renderOutput(dataTable, element);\n",
       "          const docLink = document.createElement('div');\n",
       "          docLink.innerHTML = docLinkHtml;\n",
       "          element.appendChild(docLink);\n",
       "        }\n",
       "      </script>\n",
       "    </div>\n",
       "  </div>\n",
       "  "
      ],
      "text/plain": [
       "                              uniq_id  ... oldness\n",
       "437  b6c339777814451815fe7950fd4c8536  ...     -11\n",
       "639  aeb421e416716d5f037d50e8c3b14cd7  ...      -4\n",
       "715  d68b774e9529a4b94a5c6c8943a1b8b3  ...    -177\n",
       "\n",
       "[3 rows x 72 columns]"
      ]
     },
     "metadata": {},
     "execution_count": 171
    }
   ]
  },
  {
   "cell_type": "code",
   "execution_count": 172,
   "outputs": [
    {
     "output_type": "display_data",
     "data": {
      "image/png": "[encoded data removed]",
      "text/plain": [
       "<Figure size 1008x1008 with 4 Axes>"
      ]
     },
     "metadata": {}
    }
   ],
   "source": [
    "unencoded_col = ['oldness',\n",
    "                 'retail_price',\n",
    "                 'discounted_price',\n",
    "                 'product_rating',\n",
    "                 'overall_rating',\n",
    "                 'spec_weight']\n",
    "items_df[unencoded_col].hist(figsize=(14,14), xrot=45) \n",
    "plt.show()"
   ],
   "metadata": {
    "pycharm": {
     "name": "#%%\n"
    },
    "id": "zCQwdgkJSlvS",
    "executionInfo": {
     "status": "ok",
     "timestamp": 1641981052977,
     "user_tz": -60,
     "elapsed": 1104,
     "user": {
      "displayName": "Benoît DELORME",
      "photoUrl": "https://lh3.googleusercontent.com/a/default-user=s64",
      "userId": "03178733258717085125"
     }
    },
    "colab": {
     "base_uri": "https://localhost:8080/",
     "height": 54
    },
    "outputId": "8736c371-b118-4409-e9c2-ff3342489f84"
   }
  },
  {
   "cell_type": "code",
   "execution_count": 173,
   "outputs": [
    {
     "output_type": "execute_result",
     "data": {
      "text/html": [
       "\n",
       "  <div id=\"df-95973ef8-7a51-440b-a86a-f7f550787ecf\">\n",
       "    <div class=\"colab-df-container\">\n",
       "      <div>\n",
       "<style scoped>\n",
       "    .dataframe tbody tr th:only-of-type {\n",
       "        vertical-align: middle;\n",
       "    }\n",
       "\n",
       "    .dataframe tbody tr th {\n",
       "        vertical-align: top;\n",
       "    }\n",
       "\n",
       "    .dataframe thead th {\n",
       "        text-align: right;\n",
       "    }\n",
       "</style>\n",
       "<table border=\"1\" class=\"dataframe\">\n",
       "  <thead>\n",
       "    <tr style=\"text-align: right;\">\n",
       "      <th></th>\n",
       "      <th>uniq_id</th>\n",
       "      <th>retail_price</th>\n",
       "    </tr>\n",
       "  </thead>\n",
       "  <tbody>\n",
       "    <tr>\n",
       "      <th>11</th>\n",
       "      <td>08452abdadb3db1e686b94a9c52fc7b6</td>\n",
       "      <td>201000.0</td>\n",
       "    </tr>\n",
       "    <tr>\n",
       "      <th>9</th>\n",
       "      <td>710ed5f2393a4b9e8823aa0029f71f93</td>\n",
       "      <td>107750.0</td>\n",
       "    </tr>\n",
       "    <tr>\n",
       "      <th>604</th>\n",
       "      <td>85aec4bf3185da7ebcc45003429cbfe2</td>\n",
       "      <td>38890.0</td>\n",
       "    </tr>\n",
       "    <tr>\n",
       "      <th>605</th>\n",
       "      <td>bcb8e456728013a90ba66ab3b1b783ad</td>\n",
       "      <td>35390.0</td>\n",
       "    </tr>\n",
       "    <tr>\n",
       "      <th>318</th>\n",
       "      <td>fd2716d0e5dd7ffc367ca4dd9f97aaa0</td>\n",
       "      <td>29990.0</td>\n",
       "    </tr>\n",
       "  </tbody>\n",
       "</table>\n",
       "</div>\n",
       "      <button class=\"colab-df-convert\" onclick=\"convertToInteractive('df-95973ef8-7a51-440b-a86a-f7f550787ecf')\"\n",
       "              title=\"Convert this dataframe to an interactive table.\"\n",
       "              style=\"display:none;\">\n",
       "        \n",
       "  <svg xmlns=\"http://www.w3.org/2000/svg\" height=\"24px\"viewBox=\"0 0 24 24\"\n",
       "       width=\"24px\">\n",
       "    <path d=\"M0 0h24v24H0V0z\" fill=\"none\"/>\n",
       "    <path d=\"M18.56 5.44l.94 2.06.94-2.06 2.06-.94-2.06-.94-.94-2.06-.94 2.06-2.06.94zm-11 1L8.5 8.5l.94-2.06 2.06-.94-2.06-.94L8.5 2.5l-.94 2.06-2.06.94zm10 10l.94 2.06.94-2.06 2.06-.94-2.06-.94-.94-2.06-.94 2.06-2.06.94z\"/><path d=\"M17.41 7.96l-1.37-1.37c-.4-.4-.92-.59-1.43-.59-.52 0-1.04.2-1.43.59L10.3 9.45l-7.72 7.72c-.78.78-.78 2.05 0 2.83L4 21.41c.39.39.9.59 1.41.59.51 0 1.02-.2 1.41-.59l7.78-7.78 2.81-2.81c.8-.78.8-2.07 0-2.86zM5.41 20L4 18.59l7.72-7.72 1.47 1.35L5.41 20z\"/>\n",
       "  </svg>\n",
       "      </button>\n",
       "      \n",
       "  <style>\n",
       "    .colab-df-container {\n",
       "      display:flex;\n",
       "      flex-wrap:wrap;\n",
       "      gap: 12px;\n",
       "    }\n",
       "\n",
       "    .colab-df-convert {\n",
       "      background-color: #E8F0FE;\n",
       "      border: none;\n",
       "      border-radius: 50%;\n",
       "      cursor: pointer;\n",
       "      display: none;\n",
       "      fill: #1967D2;\n",
       "      height: 32px;\n",
       "      padding: 0 0 0 0;\n",
       "      width: 32px;\n",
       "    }\n",
       "\n",
       "    .colab-df-convert:hover {\n",
       "      background-color: #E2EBFA;\n",
       "      box-shadow: 0px 1px 2px rgba(60, 64, 67, 0.3), 0px 1px 3px 1px rgba(60, 64, 67, 0.15);\n",
       "      fill: #174EA6;\n",
       "    }\n",
       "\n",
       "    [theme=dark] .colab-df-convert {\n",
       "      background-color: #3B4455;\n",
       "      fill: #D2E3FC;\n",
       "    }\n",
       "\n",
       "    [theme=dark] .colab-df-convert:hover {\n",
       "      background-color: #434B5C;\n",
       "      box-shadow: 0px 1px 3px 1px rgba(0, 0, 0, 0.15);\n",
       "      filter: drop-shadow(0px 1px 2px rgba(0, 0, 0, 0.3));\n",
       "      fill: #FFFFFF;\n",
       "    }\n",
       "  </style>\n",
       "\n",
       "      <script>\n",
       "        const buttonEl =\n",
       "          document.querySelector('#df-95973ef8-7a51-440b-a86a-f7f550787ecf button.colab-df-convert');\n",
       "        buttonEl.style.display =\n",
       "          google.colab.kernel.accessAllowed ? 'block' : 'none';\n",
       "\n",
       "        async function convertToInteractive(key) {\n",
       "          const element = document.querySelector('#df-95973ef8-7a51-440b-a86a-f7f550787ecf');\n",
       "          const dataTable =\n",
       "            await google.colab.kernel.invokeFunction('convertToInteractive',\n",
       "                                                     [key], {});\n",
       "          if (!dataTable) return;\n",
       "\n",
       "          const docLinkHtml = 'Like what you see? Visit the ' +\n",
       "            '<a target=\"_blank\" href=https://colab.research.google.com/notebooks/data_table.ipynb>data table notebook</a>'\n",
       "            + ' to learn more about interactive tables.';\n",
       "          element.innerHTML = '';\n",
       "          dataTable['output_type'] = 'display_data';\n",
       "          await google.colab.output.renderOutput(dataTable, element);\n",
       "          const docLink = document.createElement('div');\n",
       "          docLink.innerHTML = docLinkHtml;\n",
       "          element.appendChild(docLink);\n",
       "        }\n",
       "      </script>\n",
       "    </div>\n",
       "  </div>\n",
       "  "
      ],
      "text/plain": [
       "                              uniq_id  retail_price\n",
       "11   08452abdadb3db1e686b94a9c52fc7b6      201000.0\n",
       "9    710ed5f2393a4b9e8823aa0029f71f93      107750.0\n",
       "604  85aec4bf3185da7ebcc45003429cbfe2       38890.0\n",
       "605  bcb8e456728013a90ba66ab3b1b783ad       35390.0\n",
       "318  fd2716d0e5dd7ffc367ca4dd9f97aaa0       29990.0"
      ]
     },
     "metadata": {},
     "execution_count": 173
    }
   ],
   "source": [
    "def remove_upper_outliers(df, column, max_value, quantile_sup=0.95):\n",
    "    if max_value is None:\n",
    "        max_value = df[column].quantile(quantile_sup)\n",
    "    df = df[df[column] < max_value]\n",
    "    return df\n",
    "\n",
    "\n",
    "def extreme_values(df, column, nb, extreme):\n",
    "    '''Returns a 2-columns dataframe (uniq_id and the given feature), of the n-th\n",
    "    highest (or lowest) values.'''\n",
    "    if extreme == 'high':\n",
    "        temp_df = df.sort_values(by=column, ascending=False)[:nb]\n",
    "    elif extreme == 'low':\n",
    "        temp_df = df.sort_values(by=column, ascending=True)[:nb]\n",
    "    else:\n",
    "        raise Exception\n",
    "    return temp_df[['uniq_id', column]]\n",
    "\n",
    "# retail_price\n",
    "extreme_values(items_df, 'retail_price', nb=5, extreme='high')\n",
    "# No outliers identified among the highest values\n",
    "# No outliers identified among the 5 lowest values\n",
    "\n",
    "# discounted_price\n",
    "# No outliers identified among the 5 lowest values\n",
    "# No outliers identified among the 5 highest values"
   ],
   "metadata": {
    "pycharm": {
     "name": "#%%\n"
    },
    "id": "2j6B4U_ZSlvS",
    "executionInfo": {
     "status": "ok",
     "timestamp": 1641981052978,
     "user_tz": -60,
     "elapsed": 14,
     "user": {
      "displayName": "Benoît DELORME",
      "photoUrl": "https://lh3.googleusercontent.com/a/default-user=s64",
      "userId": "03178733258717085125"
     }
    },
    "colab": {
     "base_uri": "https://localhost:8080/",
     "height": 270
    },
    "outputId": "0521672a-afb3-481f-9b19-f161dad2ca4c"
   }
  },
  {
   "cell_type": "markdown",
   "source": [
    "## C. Text data"
   ],
   "metadata": {
    "collapsed": false,
    "id": "f_u3tb2JSlvS"
   }
  },
  {
   "cell_type": "markdown",
   "source": [
    "### 1 Classical encoding"
   ],
   "metadata": {
    "collapsed": false,
    "id": "CaKuHLbXSlvT"
   }
  },
  {
   "cell_type": "code",
   "execution_count": 174,
   "outputs": [],
   "source": [
    "def classical_encoding(df, column, prefixe):\n",
    "    '''Encode the given feature of the given dataframe. Returns the transformed dataframe.'''\n",
    "    enc = OneHotEncoder()\n",
    "    column_array = np.array(df[column]).reshape(-1, 1)\n",
    "    encoded_array = enc.fit_transform(column_array).toarray()\n",
    "    columns = [prefixe + element.replace(' ', '_') for element in list(items_df[column].unique())]\n",
    "    encoded_df = pd.DataFrame(data=encoded_array,\n",
    "                              columns=columns,\n",
    "                              index=df.index)\n",
    "    df = pd.merge(df, encoded_df,\n",
    "                           left_index=True, right_index=True)\n",
    "    df.drop(column, axis=1, inplace=True)\n",
    "    return df"
   ],
   "metadata": {
    "pycharm": {
     "name": "#%%\n"
    },
    "id": "rbimqckiSlvT",
    "executionInfo": {
     "status": "ok",
     "timestamp": 1641981052979,
     "user_tz": -60,
     "elapsed": 12,
     "user": {
      "displayName": "Benoît DELORME",
      "photoUrl": "https://lh3.googleusercontent.com/a/default-user=s64",
      "userId": "03178733258717085125"
     }
    }
   }
  },
  {
   "cell_type": "code",
   "execution_count": 175,
   "outputs": [],
   "source": [
    "items_df = classical_encoding(items_df, 'cat_tree_1st', 'cat1_')\n",
    "items_df = classical_encoding(items_df, 'cat_tree_2nd', 'cat2_')"
   ],
   "metadata": {
    "pycharm": {
     "name": "#%%\n"
    },
    "id": "VEgdGzVpSlvT",
    "executionInfo": {
     "status": "ok",
     "timestamp": 1641981052980,
     "user_tz": -60,
     "elapsed": 12,
     "user": {
      "displayName": "Benoît DELORME",
      "photoUrl": "https://lh3.googleusercontent.com/a/default-user=s64",
      "userId": "03178733258717085125"
     }
    }
   }
  },
  {
   "cell_type": "code",
   "execution_count": 176,
   "outputs": [
    {
     "output_type": "execute_result",
     "data": {
      "text/html": [
       "\n",
       "  <div id=\"df-7609f8ca-5d6f-44dd-90bd-b7bd9d8911a3\">\n",
       "    <div class=\"colab-df-container\">\n",
       "      <div>\n",
       "<style scoped>\n",
       "    .dataframe tbody tr th:only-of-type {\n",
       "        vertical-align: middle;\n",
       "    }\n",
       "\n",
       "    .dataframe tbody tr th {\n",
       "        vertical-align: top;\n",
       "    }\n",
       "\n",
       "    .dataframe thead th {\n",
       "        text-align: right;\n",
       "    }\n",
       "</style>\n",
       "<table border=\"1\" class=\"dataframe\">\n",
       "  <thead>\n",
       "    <tr style=\"text-align: right;\">\n",
       "      <th></th>\n",
       "      <th>uniq_id</th>\n",
       "      <th>product_name</th>\n",
       "      <th>retail_price</th>\n",
       "      <th>discounted_price</th>\n",
       "      <th>fk_adv_prod</th>\n",
       "      <th>description</th>\n",
       "      <th>product_rating</th>\n",
       "      <th>overall_rating</th>\n",
       "      <th>product_specifications_filtered</th>\n",
       "      <th>description_length</th>\n",
       "      <th>spec_brand</th>\n",
       "      <th>spec_suitable for</th>\n",
       "      <th>spec_model number</th>\n",
       "      <th>spec_covered in warranty</th>\n",
       "      <th>spec_warranty summary</th>\n",
       "      <th>spec_not covered in warranty</th>\n",
       "      <th>spec_weight</th>\n",
       "      <th>spec_height</th>\n",
       "      <th>spec_width</th>\n",
       "      <th>spec_depth</th>\n",
       "      <th>spec_type</th>\n",
       "      <th>spec_model name</th>\n",
       "      <th>spec_material</th>\n",
       "      <th>spec_style code</th>\n",
       "      <th>spec_color</th>\n",
       "      <th>spec_machine washable</th>\n",
       "      <th>spec_ideal for</th>\n",
       "      <th>spec_model id</th>\n",
       "      <th>spec_design</th>\n",
       "      <th>spec_size</th>\n",
       "      <th>spec_length</th>\n",
       "      <th>spec_number of contents in sales package</th>\n",
       "      <th>spec_sales package</th>\n",
       "      <th>spec_scratch resistant</th>\n",
       "      <th>spec_pack of</th>\n",
       "      <th>spec_warranty service type</th>\n",
       "      <th>spec_microwave safe</th>\n",
       "      <th>spec_in the box</th>\n",
       "      <th>spec_capacity</th>\n",
       "      <th>spec_water resistant</th>\n",
       "      <th>...</th>\n",
       "      <th>cat2_contain_bottl</th>\n",
       "      <th>cat2_diaper_potti_train</th>\n",
       "      <th>cat2_comput_peripher</th>\n",
       "      <th>cat2_tablet_accessori</th>\n",
       "      <th>cat2_bath_linen</th>\n",
       "      <th>cat2_live_room_furnish</th>\n",
       "      <th>cat2_candl_fragranc</th>\n",
       "      <th>cat2_bar_glasswar</th>\n",
       "      <th>cat2_kitchen_dine_linen</th>\n",
       "      <th>cat2_babi_bath_skin</th>\n",
       "      <th>cat2_hair_care</th>\n",
       "      <th>cat2_decor_light_lamp</th>\n",
       "      <th>cat2_religion_devot</th>\n",
       "      <th>cat2_makeup</th>\n",
       "      <th>cat2_fragranc</th>\n",
       "      <th>cat2_cushion_pillow_cover</th>\n",
       "      <th>cat2_live</th>\n",
       "      <th>cat2_floor_cover</th>\n",
       "      <th>cat2_storag</th>\n",
       "      <th>cat2_network_compon</th>\n",
       "      <th>cat2_babi_groom</th>\n",
       "      <th>cat2_comput_compon</th>\n",
       "      <th>cat2_stroller_activ_gear</th>\n",
       "      <th>cat2_bodi_skin_care</th>\n",
       "      <th>cat2_light</th>\n",
       "      <th>cat2_tidi_home_furnish</th>\n",
       "      <th>cat2_dinnerwar_crockeri</th>\n",
       "      <th>cat2_jmd_home_furnish</th>\n",
       "      <th>cat2_clock</th>\n",
       "      <th>cat2_feed_nurs</th>\n",
       "      <th>cat2_kripa_home_furnish</th>\n",
       "      <th>cat2_beauti_accessori</th>\n",
       "      <th>cat2_women_hygien</th>\n",
       "      <th>cat2_laptop</th>\n",
       "      <th>cat2_men_groom</th>\n",
       "      <th>cat2_furnitur_furnish</th>\n",
       "      <th>cat2_eye_care</th>\n",
       "      <th>cat2_housekeep_laundri</th>\n",
       "      <th>cat2_pressur_cooker_pan</th>\n",
       "      <th>cat2_true_home_decor_festiv_need</th>\n",
       "    </tr>\n",
       "  </thead>\n",
       "  <tbody>\n",
       "    <tr>\n",
       "      <th>437</th>\n",
       "      <td>b6c339777814451815fe7950fd4c8536</td>\n",
       "      <td>homeedg solid wood king bed</td>\n",
       "      <td>25499.0</td>\n",
       "      <td>18799.0</td>\n",
       "      <td>0</td>\n",
       "      <td>key featur homeedg solid wood king bed king be...</td>\n",
       "      <td>0</td>\n",
       "      <td>0</td>\n",
       "      <td>{'Brand': 'HomeEdge', 'Suitable For': 'Bedroom...</td>\n",
       "      <td>3490</td>\n",
       "      <td>homeedg</td>\n",
       "      <td>bedroom kid room</td>\n",
       "      <td>hebedk</td>\n",
       "      <td>limit manufactur defect</td>\n",
       "      <td>year compani domest warranti</td>\n",
       "      <td>normal wear tear part warranti</td>\n",
       "      <td></td>\n",
       "      <td></td>\n",
       "      <td></td>\n",
       "      <td></td>\n",
       "      <td></td>\n",
       "      <td></td>\n",
       "      <td></td>\n",
       "      <td></td>\n",
       "      <td></td>\n",
       "      <td></td>\n",
       "      <td></td>\n",
       "      <td></td>\n",
       "      <td></td>\n",
       "      <td></td>\n",
       "      <td></td>\n",
       "      <td></td>\n",
       "      <td></td>\n",
       "      <td></td>\n",
       "      <td></td>\n",
       "      <td></td>\n",
       "      <td></td>\n",
       "      <td></td>\n",
       "      <td></td>\n",
       "      <td></td>\n",
       "      <td>...</td>\n",
       "      <td>0.0</td>\n",
       "      <td>0.0</td>\n",
       "      <td>0.0</td>\n",
       "      <td>0.0</td>\n",
       "      <td>0.0</td>\n",
       "      <td>0.0</td>\n",
       "      <td>0.0</td>\n",
       "      <td>0.0</td>\n",
       "      <td>0.0</td>\n",
       "      <td>0.0</td>\n",
       "      <td>0.0</td>\n",
       "      <td>1.0</td>\n",
       "      <td>0.0</td>\n",
       "      <td>0.0</td>\n",
       "      <td>0.0</td>\n",
       "      <td>0.0</td>\n",
       "      <td>0.0</td>\n",
       "      <td>0.0</td>\n",
       "      <td>0.0</td>\n",
       "      <td>0.0</td>\n",
       "      <td>0.0</td>\n",
       "      <td>0.0</td>\n",
       "      <td>0.0</td>\n",
       "      <td>0.0</td>\n",
       "      <td>0.0</td>\n",
       "      <td>0.0</td>\n",
       "      <td>0.0</td>\n",
       "      <td>0.0</td>\n",
       "      <td>0.0</td>\n",
       "      <td>0.0</td>\n",
       "      <td>0.0</td>\n",
       "      <td>0.0</td>\n",
       "      <td>0.0</td>\n",
       "      <td>0.0</td>\n",
       "      <td>0.0</td>\n",
       "      <td>0.0</td>\n",
       "      <td>0.0</td>\n",
       "      <td>0.0</td>\n",
       "      <td>0.0</td>\n",
       "      <td>0.0</td>\n",
       "    </tr>\n",
       "    <tr>\n",
       "      <th>639</th>\n",
       "      <td>aeb421e416716d5f037d50e8c3b14cd7</td>\n",
       "      <td>sunlast inch laptop backpack</td>\n",
       "      <td>2600.0</td>\n",
       "      <td>2348.0</td>\n",
       "      <td>0</td>\n",
       "      <td>key featur sunlast inch laptop backpack laptop...</td>\n",
       "      <td>0</td>\n",
       "      <td>0</td>\n",
       "      <td>{'Brand': 'Sunlast', 'Type': 'Laptop Backpack'...</td>\n",
       "      <td>3447</td>\n",
       "      <td>sunlast</td>\n",
       "      <td></td>\n",
       "      <td></td>\n",
       "      <td></td>\n",
       "      <td></td>\n",
       "      <td></td>\n",
       "      <td></td>\n",
       "      <td></td>\n",
       "      <td></td>\n",
       "      <td></td>\n",
       "      <td>laptop backpack</td>\n",
       "      <td>yellow solar mobil charger</td>\n",
       "      <td>nylon</td>\n",
       "      <td>yellow</td>\n",
       "      <td>yellow</td>\n",
       "      <td></td>\n",
       "      <td></td>\n",
       "      <td></td>\n",
       "      <td></td>\n",
       "      <td></td>\n",
       "      <td></td>\n",
       "      <td></td>\n",
       "      <td></td>\n",
       "      <td></td>\n",
       "      <td></td>\n",
       "      <td></td>\n",
       "      <td></td>\n",
       "      <td></td>\n",
       "      <td></td>\n",
       "      <td></td>\n",
       "      <td>...</td>\n",
       "      <td>0.0</td>\n",
       "      <td>0.0</td>\n",
       "      <td>0.0</td>\n",
       "      <td>0.0</td>\n",
       "      <td>0.0</td>\n",
       "      <td>0.0</td>\n",
       "      <td>0.0</td>\n",
       "      <td>0.0</td>\n",
       "      <td>0.0</td>\n",
       "      <td>0.0</td>\n",
       "      <td>0.0</td>\n",
       "      <td>0.0</td>\n",
       "      <td>0.0</td>\n",
       "      <td>0.0</td>\n",
       "      <td>0.0</td>\n",
       "      <td>0.0</td>\n",
       "      <td>0.0</td>\n",
       "      <td>0.0</td>\n",
       "      <td>0.0</td>\n",
       "      <td>1.0</td>\n",
       "      <td>0.0</td>\n",
       "      <td>0.0</td>\n",
       "      <td>0.0</td>\n",
       "      <td>0.0</td>\n",
       "      <td>0.0</td>\n",
       "      <td>0.0</td>\n",
       "      <td>0.0</td>\n",
       "      <td>0.0</td>\n",
       "      <td>0.0</td>\n",
       "      <td>0.0</td>\n",
       "      <td>0.0</td>\n",
       "      <td>0.0</td>\n",
       "      <td>0.0</td>\n",
       "      <td>0.0</td>\n",
       "      <td>0.0</td>\n",
       "      <td>0.0</td>\n",
       "      <td>0.0</td>\n",
       "      <td>0.0</td>\n",
       "      <td>0.0</td>\n",
       "      <td>0.0</td>\n",
       "    </tr>\n",
       "    <tr>\n",
       "      <th>715</th>\n",
       "      <td>d68b774e9529a4b94a5c6c8943a1b8b3</td>\n",
       "      <td>pioneer pragati floral singl duvet orang</td>\n",
       "      <td>1999.0</td>\n",
       "      <td>1099.0</td>\n",
       "      <td>0</td>\n",
       "      <td>pioneer pragati floral singl duvet orang duvet...</td>\n",
       "      <td>0</td>\n",
       "      <td>0</td>\n",
       "      <td>{'Machine Washable': 'No', 'Brand': 'Pioneer P...</td>\n",
       "      <td>2594</td>\n",
       "      <td>pioneer pragati</td>\n",
       "      <td>singl bed</td>\n",
       "      <td></td>\n",
       "      <td></td>\n",
       "      <td></td>\n",
       "      <td></td>\n",
       "      <td></td>\n",
       "      <td></td>\n",
       "      <td>inch</td>\n",
       "      <td></td>\n",
       "      <td>duvet</td>\n",
       "      <td>floral design gold print</td>\n",
       "      <td></td>\n",
       "      <td></td>\n",
       "      <td>orang</td>\n",
       "      <td></td>\n",
       "      <td>boy girl</td>\n",
       "      <td>floral design gold print</td>\n",
       "      <td>gold print floral design duvet</td>\n",
       "      <td>singl</td>\n",
       "      <td>inch</td>\n",
       "      <td></td>\n",
       "      <td>duvet</td>\n",
       "      <td></td>\n",
       "      <td></td>\n",
       "      <td></td>\n",
       "      <td></td>\n",
       "      <td></td>\n",
       "      <td></td>\n",
       "      <td></td>\n",
       "      <td>...</td>\n",
       "      <td>0.0</td>\n",
       "      <td>0.0</td>\n",
       "      <td>0.0</td>\n",
       "      <td>0.0</td>\n",
       "      <td>0.0</td>\n",
       "      <td>0.0</td>\n",
       "      <td>0.0</td>\n",
       "      <td>0.0</td>\n",
       "      <td>0.0</td>\n",
       "      <td>0.0</td>\n",
       "      <td>0.0</td>\n",
       "      <td>0.0</td>\n",
       "      <td>0.0</td>\n",
       "      <td>0.0</td>\n",
       "      <td>0.0</td>\n",
       "      <td>0.0</td>\n",
       "      <td>0.0</td>\n",
       "      <td>0.0</td>\n",
       "      <td>0.0</td>\n",
       "      <td>0.0</td>\n",
       "      <td>0.0</td>\n",
       "      <td>0.0</td>\n",
       "      <td>0.0</td>\n",
       "      <td>0.0</td>\n",
       "      <td>0.0</td>\n",
       "      <td>0.0</td>\n",
       "      <td>0.0</td>\n",
       "      <td>0.0</td>\n",
       "      <td>0.0</td>\n",
       "      <td>0.0</td>\n",
       "      <td>0.0</td>\n",
       "      <td>0.0</td>\n",
       "      <td>0.0</td>\n",
       "      <td>0.0</td>\n",
       "      <td>0.0</td>\n",
       "      <td>0.0</td>\n",
       "      <td>0.0</td>\n",
       "      <td>0.0</td>\n",
       "      <td>0.0</td>\n",
       "      <td>0.0</td>\n",
       "    </tr>\n",
       "  </tbody>\n",
       "</table>\n",
       "<p>3 rows × 138 columns</p>\n",
       "</div>\n",
       "      <button class=\"colab-df-convert\" onclick=\"convertToInteractive('df-7609f8ca-5d6f-44dd-90bd-b7bd9d8911a3')\"\n",
       "              title=\"Convert this dataframe to an interactive table.\"\n",
       "              style=\"display:none;\">\n",
       "        \n",
       "  <svg xmlns=\"http://www.w3.org/2000/svg\" height=\"24px\"viewBox=\"0 0 24 24\"\n",
       "       width=\"24px\">\n",
       "    <path d=\"M0 0h24v24H0V0z\" fill=\"none\"/>\n",
       "    <path d=\"M18.56 5.44l.94 2.06.94-2.06 2.06-.94-2.06-.94-.94-2.06-.94 2.06-2.06.94zm-11 1L8.5 8.5l.94-2.06 2.06-.94-2.06-.94L8.5 2.5l-.94 2.06-2.06.94zm10 10l.94 2.06.94-2.06 2.06-.94-2.06-.94-.94-2.06-.94 2.06-2.06.94z\"/><path d=\"M17.41 7.96l-1.37-1.37c-.4-.4-.92-.59-1.43-.59-.52 0-1.04.2-1.43.59L10.3 9.45l-7.72 7.72c-.78.78-.78 2.05 0 2.83L4 21.41c.39.39.9.59 1.41.59.51 0 1.02-.2 1.41-.59l7.78-7.78 2.81-2.81c.8-.78.8-2.07 0-2.86zM5.41 20L4 18.59l7.72-7.72 1.47 1.35L5.41 20z\"/>\n",
       "  </svg>\n",
       "      </button>\n",
       "      \n",
       "  <style>\n",
       "    .colab-df-container {\n",
       "      display:flex;\n",
       "      flex-wrap:wrap;\n",
       "      gap: 12px;\n",
       "    }\n",
       "\n",
       "    .colab-df-convert {\n",
       "      background-color: #E8F0FE;\n",
       "      border: none;\n",
       "      border-radius: 50%;\n",
       "      cursor: pointer;\n",
       "      display: none;\n",
       "      fill: #1967D2;\n",
       "      height: 32px;\n",
       "      padding: 0 0 0 0;\n",
       "      width: 32px;\n",
       "    }\n",
       "\n",
       "    .colab-df-convert:hover {\n",
       "      background-color: #E2EBFA;\n",
       "      box-shadow: 0px 1px 2px rgba(60, 64, 67, 0.3), 0px 1px 3px 1px rgba(60, 64, 67, 0.15);\n",
       "      fill: #174EA6;\n",
       "    }\n",
       "\n",
       "    [theme=dark] .colab-df-convert {\n",
       "      background-color: #3B4455;\n",
       "      fill: #D2E3FC;\n",
       "    }\n",
       "\n",
       "    [theme=dark] .colab-df-convert:hover {\n",
       "      background-color: #434B5C;\n",
       "      box-shadow: 0px 1px 3px 1px rgba(0, 0, 0, 0.15);\n",
       "      filter: drop-shadow(0px 1px 2px rgba(0, 0, 0, 0.3));\n",
       "      fill: #FFFFFF;\n",
       "    }\n",
       "  </style>\n",
       "\n",
       "      <script>\n",
       "        const buttonEl =\n",
       "          document.querySelector('#df-7609f8ca-5d6f-44dd-90bd-b7bd9d8911a3 button.colab-df-convert');\n",
       "        buttonEl.style.display =\n",
       "          google.colab.kernel.accessAllowed ? 'block' : 'none';\n",
       "\n",
       "        async function convertToInteractive(key) {\n",
       "          const element = document.querySelector('#df-7609f8ca-5d6f-44dd-90bd-b7bd9d8911a3');\n",
       "          const dataTable =\n",
       "            await google.colab.kernel.invokeFunction('convertToInteractive',\n",
       "                                                     [key], {});\n",
       "          if (!dataTable) return;\n",
       "\n",
       "          const docLinkHtml = 'Like what you see? Visit the ' +\n",
       "            '<a target=\"_blank\" href=https://colab.research.google.com/notebooks/data_table.ipynb>data table notebook</a>'\n",
       "            + ' to learn more about interactive tables.';\n",
       "          element.innerHTML = '';\n",
       "          dataTable['output_type'] = 'display_data';\n",
       "          await google.colab.output.renderOutput(dataTable, element);\n",
       "          const docLink = document.createElement('div');\n",
       "          docLink.innerHTML = docLinkHtml;\n",
       "          element.appendChild(docLink);\n",
       "        }\n",
       "      </script>\n",
       "    </div>\n",
       "  </div>\n",
       "  "
      ],
      "text/plain": [
       "                              uniq_id  ... cat2_true_home_decor_festiv_need\n",
       "437  b6c339777814451815fe7950fd4c8536  ...                              0.0\n",
       "639  aeb421e416716d5f037d50e8c3b14cd7  ...                              0.0\n",
       "715  d68b774e9529a4b94a5c6c8943a1b8b3  ...                              0.0\n",
       "\n",
       "[3 rows x 138 columns]"
      ]
     },
     "metadata": {},
     "execution_count": 176
    }
   ],
   "source": [
    "items_df.head(3)"
   ],
   "metadata": {
    "pycharm": {
     "name": "#%%\n"
    },
    "id": "0xN4n-4TSlvT",
    "executionInfo": {
     "status": "ok",
     "timestamp": 1641981052981,
     "user_tz": -60,
     "elapsed": 12,
     "user": {
      "displayName": "Benoît DELORME",
      "photoUrl": "https://lh3.googleusercontent.com/a/default-user=s64",
      "userId": "03178733258717085125"
     }
    },
    "colab": {
     "base_uri": "https://localhost:8080/",
     "height": 497
    },
    "outputId": "d312cbf6-a044-490c-b8ff-5658b319b132"
   }
  },
  {
   "cell_type": "markdown",
   "source": [
    "### 2 Specific encoding"
   ],
   "metadata": {
    "collapsed": false,
    "id": "Y-RMyKS2SlvU"
   }
  },
  {
   "cell_type": "code",
   "execution_count": 177,
   "outputs": [
    {
     "output_type": "stream",
     "name": "stderr",
     "text": [
      "/usr/local/lib/python3.7/dist-packages/pandas/core/indexing.py:670: SettingWithCopyWarning: \n",
      "A value is trying to be set on a copy of a slice from a DataFrame\n",
      "\n",
      "See the caveats in the documentation: https://pandas.pydata.org/pandas-docs/stable/user_guide/indexing.html#returning-a-view-versus-a-copy\n",
      "  iloc._setitem_with_indexer(indexer, value)\n"
     ]
    }
   ],
   "source": [
    "def words_in_feature(df, column):\n",
    "    words_list = []\n",
    "    for element in df[column]:\n",
    "        # Several words\n",
    "        if len(element.split(' ')) > 1:\n",
    "            for word in element.split(' '):\n",
    "                words_list.append(word)\n",
    "        # Only one word\n",
    "        else:\n",
    "            words_list.append(element)\n",
    "    return words_list\n",
    "\n",
    "\n",
    "def words_counter_in_feature(df, column) -> pd.DataFrame:\n",
    "    words_list = words_in_feature(df, column)\n",
    "    words_counter = Counter(words_list)\n",
    "    first_ones = int(len(words_counter)/10)+1\n",
    "    words_df = pd.DataFrame()\n",
    "    words_df['keys'] = [element[0] for element in words_counter.most_common(first_ones)]\n",
    "    words_df['values'] = [element[1] for element in words_counter.most_common(first_ones)]\n",
    "    return words_df\n",
    "\n",
    "\n",
    "def filter_spec_feat(df, column, ratio=0.01):\n",
    "    '''Given a text feature, returns the list of the most common words, whose\n",
    "    ratio lies above the given ratio.'''\n",
    "    words_df = words_counter_in_feature(df, column)\n",
    "    #\n",
    "    words_df = words_df[words_df['keys']!='nan']\n",
    "    words_df = words_df[words_df['keys']!='']\n",
    "    words_df = words_df[words_df['values']>ratio*len(df)]\n",
    "    # gather most common words\n",
    "    new_list = []\n",
    "    for i, element in enumerate(df[column]):\n",
    "        indic = set(df['spec_type'].iloc[i].split(' ')).intersection(set(words_df['keys']))\n",
    "        if len(indic) > 0:\n",
    "            new_list.append(' '.join(list(indic)))\n",
    "        else:\n",
    "            new_list.append('')\n",
    "    df[column] = new_list\n",
    "    return df\n",
    "\n",
    "\n",
    "def specific_encoding(df, column):\n",
    "    '''Encode the given text feature of the given dataframe.\n",
    "    Consider all different words in a cell (which is not done by OneHotEncoder)\n",
    "    Returns the modified dataframe.'''\n",
    "    for i, list_ in enumerate(df[column]):\n",
    "        for word in list_.split(' '):\n",
    "            word_col = str(column + '_' + word)\n",
    "            if word_col in df.columns:\n",
    "                df[column + '_' + word].iloc[i] = 1\n",
    "            else:\n",
    "                df[column + '_' + word] = [0] * df.shape[0]\n",
    "                df[column + '_' + word].iloc[i] = 1\n",
    "    df.drop(column, axis=1, inplace=True)\n",
    "    return df\n",
    "\n",
    "\n",
    "items_df = filter_spec_feat(items_df, 'spec_type')\n",
    "\n",
    "for spec_feature in spec_list:\n",
    "    items_df = specific_encoding(items_df, spec_feature)\n",
    "\n",
    "# NaN\n",
    "nan_col = [column for column in list(items_df.columns) if column [-4:]=='_nan']\n",
    "for column in nan_col:\n",
    "    items_df.drop(column, axis=1, inplace=True)"
   ],
   "metadata": {
    "pycharm": {
     "name": "#%%\n"
    },
    "id": "SqFPLsvtSlvU",
    "executionInfo": {
     "status": "ok",
     "timestamp": 1641981099909,
     "user_tz": -60,
     "elapsed": 46939,
     "user": {
      "displayName": "Benoît DELORME",
      "photoUrl": "https://lh3.googleusercontent.com/a/default-user=s64",
      "userId": "03178733258717085125"
     }
    },
    "colab": {
     "base_uri": "https://localhost:8080/"
    },
    "outputId": "d7c9430c-fbd9-44ef-ce8d-4433bbba127c"
   }
  },
  {
   "cell_type": "code",
   "execution_count": 178,
   "outputs": [
    {
     "output_type": "execute_result",
     "data": {
      "text/html": [
       "\n",
       "  <div id=\"df-76dff3e5-b2c1-42ca-8a46-222f23ef7654\">\n",
       "    <div class=\"colab-df-container\">\n",
       "      <div>\n",
       "<style scoped>\n",
       "    .dataframe tbody tr th:only-of-type {\n",
       "        vertical-align: middle;\n",
       "    }\n",
       "\n",
       "    .dataframe tbody tr th {\n",
       "        vertical-align: top;\n",
       "    }\n",
       "\n",
       "    .dataframe thead th {\n",
       "        text-align: right;\n",
       "    }\n",
       "</style>\n",
       "<table border=\"1\" class=\"dataframe\">\n",
       "  <thead>\n",
       "    <tr style=\"text-align: right;\">\n",
       "      <th></th>\n",
       "      <th>uniq_id</th>\n",
       "      <th>product_name</th>\n",
       "      <th>retail_price</th>\n",
       "      <th>discounted_price</th>\n",
       "      <th>fk_adv_prod</th>\n",
       "      <th>description</th>\n",
       "      <th>product_rating</th>\n",
       "      <th>overall_rating</th>\n",
       "      <th>product_specifications_filtered</th>\n",
       "      <th>description_length</th>\n",
       "      <th>oldness</th>\n",
       "      <th>cat1_beauti_person_care</th>\n",
       "      <th>cat1_comput</th>\n",
       "      <th>cat1_home_furnish</th>\n",
       "      <th>cat1_home_decor_festiv_need</th>\n",
       "      <th>cat1_babi_care</th>\n",
       "      <th>cat1_kitchen_dine</th>\n",
       "      <th>cat1_watch</th>\n",
       "      <th>cat2_health_care</th>\n",
       "      <th>cat2_laptop_accessori</th>\n",
       "      <th>cat2_bed_linen</th>\n",
       "      <th>cat2_wall_decor_clock</th>\n",
       "      <th>cat2_babi_kid_gift</th>\n",
       "      <th>cat2_tablewar_cutleri</th>\n",
       "      <th>cat2_kitchen_tool</th>\n",
       "      <th>cat2_showpiec</th>\n",
       "      <th>cat2_garden_leisur</th>\n",
       "      <th>cat2_combo_kit</th>\n",
       "      <th>cat2_tabl_decor_handicraft</th>\n",
       "      <th>cat2_babi_bed</th>\n",
       "      <th>cat2_flower_plant_vase</th>\n",
       "      <th>cat2_consum_dispos</th>\n",
       "      <th>cat2_wrist_watch</th>\n",
       "      <th>cat2_softwar</th>\n",
       "      <th>cat2_cookwar</th>\n",
       "      <th>cat2_bath_spa</th>\n",
       "      <th>cat2_infant_wear</th>\n",
       "      <th>cat2_coffe_mug</th>\n",
       "      <th>cat2_curtain_accessori</th>\n",
       "      <th>cat2_contain_bottl</th>\n",
       "      <th>...</th>\n",
       "      <th>spec_combo set content_berlin</th>\n",
       "      <th>spec_combo set content_malibu</th>\n",
       "      <th>spec_combo set content_engag</th>\n",
       "      <th>spec_combo set content_blush</th>\n",
       "      <th>spec_combo set content_drizzl</th>\n",
       "      <th>spec_combo set content_charg</th>\n",
       "      <th>spec_combo set content_surg</th>\n",
       "      <th>spec_combo set content_teas</th>\n",
       "      <th>spec_combo set content_pride</th>\n",
       "      <th>spec_combo set content_sport</th>\n",
       "      <th>spec_combo set content_drift</th>\n",
       "      <th>spec_combo set content_wave</th>\n",
       "      <th>spec_combo set content_ladi</th>\n",
       "      <th>spec_combo set content_womenml</th>\n",
       "      <th>spec_combo set content_rio</th>\n",
       "      <th>spec_combo set content_hawaii</th>\n",
       "      <th>spec_combo set content_calib</th>\n",
       "      <th>spec_combo set content_brave</th>\n",
       "      <th>spec_combo set content_rush</th>\n",
       "      <th>spec_combo set content_jump</th>\n",
       "      <th>spec_combo set content_pack</th>\n",
       "      <th>spec_combo set content_cool</th>\n",
       "      <th>spec_combo set content_spring</th>\n",
       "      <th>spec_combo set content_forcegmfor</th>\n",
       "      <th>spec_combo set content_electr</th>\n",
       "      <th>spec_combo set content_spraygmfor</th>\n",
       "      <th>spec_combo set content_archis</th>\n",
       "      <th>spec_combo set content_privaci</th>\n",
       "      <th>spec_combo set content_blade</th>\n",
       "      <th>spec_combo set content_citi</th>\n",
       "      <th>spec_combo set content_gang</th>\n",
       "      <th>spec_combo set content_nike</th>\n",
       "      <th>spec_combo set content_gold</th>\n",
       "      <th>spec_combo set content_casual</th>\n",
       "      <th>spec_combo set content_fission</th>\n",
       "      <th>spec_combo set content_equiti</th>\n",
       "      <th>spec_combo set content_illus</th>\n",
       "      <th>spec_combo set content_musk</th>\n",
       "      <th>spec_combo set content_combo</th>\n",
       "      <th>spec_combo set content_sethypnotti</th>\n",
       "    </tr>\n",
       "  </thead>\n",
       "  <tbody>\n",
       "    <tr>\n",
       "      <th>437</th>\n",
       "      <td>b6c339777814451815fe7950fd4c8536</td>\n",
       "      <td>homeedg solid wood king bed</td>\n",
       "      <td>25499.0</td>\n",
       "      <td>18799.0</td>\n",
       "      <td>0</td>\n",
       "      <td>key featur homeedg solid wood king bed king be...</td>\n",
       "      <td>0</td>\n",
       "      <td>0</td>\n",
       "      <td>{'Brand': 'HomeEdge', 'Suitable For': 'Bedroom...</td>\n",
       "      <td>3490</td>\n",
       "      <td>-11</td>\n",
       "      <td>0.0</td>\n",
       "      <td>1.0</td>\n",
       "      <td>0.0</td>\n",
       "      <td>0.0</td>\n",
       "      <td>0.0</td>\n",
       "      <td>0.0</td>\n",
       "      <td>0.0</td>\n",
       "      <td>0.0</td>\n",
       "      <td>0.0</td>\n",
       "      <td>0.0</td>\n",
       "      <td>0.0</td>\n",
       "      <td>0.0</td>\n",
       "      <td>0.0</td>\n",
       "      <td>0.0</td>\n",
       "      <td>0.0</td>\n",
       "      <td>0.0</td>\n",
       "      <td>0.0</td>\n",
       "      <td>0.0</td>\n",
       "      <td>0.0</td>\n",
       "      <td>0.0</td>\n",
       "      <td>0.0</td>\n",
       "      <td>0.0</td>\n",
       "      <td>0.0</td>\n",
       "      <td>0.0</td>\n",
       "      <td>0.0</td>\n",
       "      <td>0.0</td>\n",
       "      <td>0.0</td>\n",
       "      <td>0.0</td>\n",
       "      <td>0.0</td>\n",
       "      <td>...</td>\n",
       "      <td>0</td>\n",
       "      <td>0</td>\n",
       "      <td>0</td>\n",
       "      <td>0</td>\n",
       "      <td>0</td>\n",
       "      <td>0</td>\n",
       "      <td>0</td>\n",
       "      <td>0</td>\n",
       "      <td>0</td>\n",
       "      <td>0</td>\n",
       "      <td>0</td>\n",
       "      <td>0</td>\n",
       "      <td>0</td>\n",
       "      <td>0</td>\n",
       "      <td>0</td>\n",
       "      <td>0</td>\n",
       "      <td>0</td>\n",
       "      <td>0</td>\n",
       "      <td>0</td>\n",
       "      <td>0</td>\n",
       "      <td>0</td>\n",
       "      <td>0</td>\n",
       "      <td>0</td>\n",
       "      <td>0</td>\n",
       "      <td>0</td>\n",
       "      <td>0</td>\n",
       "      <td>0</td>\n",
       "      <td>0</td>\n",
       "      <td>0</td>\n",
       "      <td>0</td>\n",
       "      <td>0</td>\n",
       "      <td>0</td>\n",
       "      <td>0</td>\n",
       "      <td>0</td>\n",
       "      <td>0</td>\n",
       "      <td>0</td>\n",
       "      <td>0</td>\n",
       "      <td>0</td>\n",
       "      <td>0</td>\n",
       "      <td>0</td>\n",
       "    </tr>\n",
       "    <tr>\n",
       "      <th>639</th>\n",
       "      <td>aeb421e416716d5f037d50e8c3b14cd7</td>\n",
       "      <td>sunlast inch laptop backpack</td>\n",
       "      <td>2600.0</td>\n",
       "      <td>2348.0</td>\n",
       "      <td>0</td>\n",
       "      <td>key featur sunlast inch laptop backpack laptop...</td>\n",
       "      <td>0</td>\n",
       "      <td>0</td>\n",
       "      <td>{'Brand': 'Sunlast', 'Type': 'Laptop Backpack'...</td>\n",
       "      <td>3447</td>\n",
       "      <td>-4</td>\n",
       "      <td>0.0</td>\n",
       "      <td>0.0</td>\n",
       "      <td>1.0</td>\n",
       "      <td>0.0</td>\n",
       "      <td>0.0</td>\n",
       "      <td>0.0</td>\n",
       "      <td>0.0</td>\n",
       "      <td>0.0</td>\n",
       "      <td>0.0</td>\n",
       "      <td>0.0</td>\n",
       "      <td>0.0</td>\n",
       "      <td>0.0</td>\n",
       "      <td>0.0</td>\n",
       "      <td>0.0</td>\n",
       "      <td>0.0</td>\n",
       "      <td>0.0</td>\n",
       "      <td>0.0</td>\n",
       "      <td>0.0</td>\n",
       "      <td>0.0</td>\n",
       "      <td>0.0</td>\n",
       "      <td>0.0</td>\n",
       "      <td>0.0</td>\n",
       "      <td>0.0</td>\n",
       "      <td>0.0</td>\n",
       "      <td>0.0</td>\n",
       "      <td>0.0</td>\n",
       "      <td>0.0</td>\n",
       "      <td>0.0</td>\n",
       "      <td>0.0</td>\n",
       "      <td>...</td>\n",
       "      <td>0</td>\n",
       "      <td>0</td>\n",
       "      <td>0</td>\n",
       "      <td>0</td>\n",
       "      <td>0</td>\n",
       "      <td>0</td>\n",
       "      <td>0</td>\n",
       "      <td>0</td>\n",
       "      <td>0</td>\n",
       "      <td>0</td>\n",
       "      <td>0</td>\n",
       "      <td>0</td>\n",
       "      <td>0</td>\n",
       "      <td>0</td>\n",
       "      <td>0</td>\n",
       "      <td>0</td>\n",
       "      <td>0</td>\n",
       "      <td>0</td>\n",
       "      <td>0</td>\n",
       "      <td>0</td>\n",
       "      <td>0</td>\n",
       "      <td>0</td>\n",
       "      <td>0</td>\n",
       "      <td>0</td>\n",
       "      <td>0</td>\n",
       "      <td>0</td>\n",
       "      <td>0</td>\n",
       "      <td>0</td>\n",
       "      <td>0</td>\n",
       "      <td>0</td>\n",
       "      <td>0</td>\n",
       "      <td>0</td>\n",
       "      <td>0</td>\n",
       "      <td>0</td>\n",
       "      <td>0</td>\n",
       "      <td>0</td>\n",
       "      <td>0</td>\n",
       "      <td>0</td>\n",
       "      <td>0</td>\n",
       "      <td>0</td>\n",
       "    </tr>\n",
       "    <tr>\n",
       "      <th>715</th>\n",
       "      <td>d68b774e9529a4b94a5c6c8943a1b8b3</td>\n",
       "      <td>pioneer pragati floral singl duvet orang</td>\n",
       "      <td>1999.0</td>\n",
       "      <td>1099.0</td>\n",
       "      <td>0</td>\n",
       "      <td>pioneer pragati floral singl duvet orang duvet...</td>\n",
       "      <td>0</td>\n",
       "      <td>0</td>\n",
       "      <td>{'Machine Washable': 'No', 'Brand': 'Pioneer P...</td>\n",
       "      <td>2594</td>\n",
       "      <td>-177</td>\n",
       "      <td>0.0</td>\n",
       "      <td>0.0</td>\n",
       "      <td>0.0</td>\n",
       "      <td>0.0</td>\n",
       "      <td>1.0</td>\n",
       "      <td>0.0</td>\n",
       "      <td>0.0</td>\n",
       "      <td>0.0</td>\n",
       "      <td>0.0</td>\n",
       "      <td>0.0</td>\n",
       "      <td>0.0</td>\n",
       "      <td>0.0</td>\n",
       "      <td>0.0</td>\n",
       "      <td>0.0</td>\n",
       "      <td>0.0</td>\n",
       "      <td>1.0</td>\n",
       "      <td>0.0</td>\n",
       "      <td>0.0</td>\n",
       "      <td>0.0</td>\n",
       "      <td>0.0</td>\n",
       "      <td>0.0</td>\n",
       "      <td>0.0</td>\n",
       "      <td>0.0</td>\n",
       "      <td>0.0</td>\n",
       "      <td>0.0</td>\n",
       "      <td>0.0</td>\n",
       "      <td>0.0</td>\n",
       "      <td>0.0</td>\n",
       "      <td>0.0</td>\n",
       "      <td>...</td>\n",
       "      <td>0</td>\n",
       "      <td>0</td>\n",
       "      <td>0</td>\n",
       "      <td>0</td>\n",
       "      <td>0</td>\n",
       "      <td>0</td>\n",
       "      <td>0</td>\n",
       "      <td>0</td>\n",
       "      <td>0</td>\n",
       "      <td>0</td>\n",
       "      <td>0</td>\n",
       "      <td>0</td>\n",
       "      <td>0</td>\n",
       "      <td>0</td>\n",
       "      <td>0</td>\n",
       "      <td>0</td>\n",
       "      <td>0</td>\n",
       "      <td>0</td>\n",
       "      <td>0</td>\n",
       "      <td>0</td>\n",
       "      <td>0</td>\n",
       "      <td>0</td>\n",
       "      <td>0</td>\n",
       "      <td>0</td>\n",
       "      <td>0</td>\n",
       "      <td>0</td>\n",
       "      <td>0</td>\n",
       "      <td>0</td>\n",
       "      <td>0</td>\n",
       "      <td>0</td>\n",
       "      <td>0</td>\n",
       "      <td>0</td>\n",
       "      <td>0</td>\n",
       "      <td>0</td>\n",
       "      <td>0</td>\n",
       "      <td>0</td>\n",
       "      <td>0</td>\n",
       "      <td>0</td>\n",
       "      <td>0</td>\n",
       "      <td>0</td>\n",
       "    </tr>\n",
       "  </tbody>\n",
       "</table>\n",
       "<p>3 rows × 3253 columns</p>\n",
       "</div>\n",
       "      <button class=\"colab-df-convert\" onclick=\"convertToInteractive('df-76dff3e5-b2c1-42ca-8a46-222f23ef7654')\"\n",
       "              title=\"Convert this dataframe to an interactive table.\"\n",
       "              style=\"display:none;\">\n",
       "        \n",
       "  <svg xmlns=\"http://www.w3.org/2000/svg\" height=\"24px\"viewBox=\"0 0 24 24\"\n",
       "       width=\"24px\">\n",
       "    <path d=\"M0 0h24v24H0V0z\" fill=\"none\"/>\n",
       "    <path d=\"M18.56 5.44l.94 2.06.94-2.06 2.06-.94-2.06-.94-.94-2.06-.94 2.06-2.06.94zm-11 1L8.5 8.5l.94-2.06 2.06-.94-2.06-.94L8.5 2.5l-.94 2.06-2.06.94zm10 10l.94 2.06.94-2.06 2.06-.94-2.06-.94-.94-2.06-.94 2.06-2.06.94z\"/><path d=\"M17.41 7.96l-1.37-1.37c-.4-.4-.92-.59-1.43-.59-.52 0-1.04.2-1.43.59L10.3 9.45l-7.72 7.72c-.78.78-.78 2.05 0 2.83L4 21.41c.39.39.9.59 1.41.59.51 0 1.02-.2 1.41-.59l7.78-7.78 2.81-2.81c.8-.78.8-2.07 0-2.86zM5.41 20L4 18.59l7.72-7.72 1.47 1.35L5.41 20z\"/>\n",
       "  </svg>\n",
       "      </button>\n",
       "      \n",
       "  <style>\n",
       "    .colab-df-container {\n",
       "      display:flex;\n",
       "      flex-wrap:wrap;\n",
       "      gap: 12px;\n",
       "    }\n",
       "\n",
       "    .colab-df-convert {\n",
       "      background-color: #E8F0FE;\n",
       "      border: none;\n",
       "      border-radius: 50%;\n",
       "      cursor: pointer;\n",
       "      display: none;\n",
       "      fill: #1967D2;\n",
       "      height: 32px;\n",
       "      padding: 0 0 0 0;\n",
       "      width: 32px;\n",
       "    }\n",
       "\n",
       "    .colab-df-convert:hover {\n",
       "      background-color: #E2EBFA;\n",
       "      box-shadow: 0px 1px 2px rgba(60, 64, 67, 0.3), 0px 1px 3px 1px rgba(60, 64, 67, 0.15);\n",
       "      fill: #174EA6;\n",
       "    }\n",
       "\n",
       "    [theme=dark] .colab-df-convert {\n",
       "      background-color: #3B4455;\n",
       "      fill: #D2E3FC;\n",
       "    }\n",
       "\n",
       "    [theme=dark] .colab-df-convert:hover {\n",
       "      background-color: #434B5C;\n",
       "      box-shadow: 0px 1px 3px 1px rgba(0, 0, 0, 0.15);\n",
       "      filter: drop-shadow(0px 1px 2px rgba(0, 0, 0, 0.3));\n",
       "      fill: #FFFFFF;\n",
       "    }\n",
       "  </style>\n",
       "\n",
       "      <script>\n",
       "        const buttonEl =\n",
       "          document.querySelector('#df-76dff3e5-b2c1-42ca-8a46-222f23ef7654 button.colab-df-convert');\n",
       "        buttonEl.style.display =\n",
       "          google.colab.kernel.accessAllowed ? 'block' : 'none';\n",
       "\n",
       "        async function convertToInteractive(key) {\n",
       "          const element = document.querySelector('#df-76dff3e5-b2c1-42ca-8a46-222f23ef7654');\n",
       "          const dataTable =\n",
       "            await google.colab.kernel.invokeFunction('convertToInteractive',\n",
       "                                                     [key], {});\n",
       "          if (!dataTable) return;\n",
       "\n",
       "          const docLinkHtml = 'Like what you see? Visit the ' +\n",
       "            '<a target=\"_blank\" href=https://colab.research.google.com/notebooks/data_table.ipynb>data table notebook</a>'\n",
       "            + ' to learn more about interactive tables.';\n",
       "          element.innerHTML = '';\n",
       "          dataTable['output_type'] = 'display_data';\n",
       "          await google.colab.output.renderOutput(dataTable, element);\n",
       "          const docLink = document.createElement('div');\n",
       "          docLink.innerHTML = docLinkHtml;\n",
       "          element.appendChild(docLink);\n",
       "        }\n",
       "      </script>\n",
       "    </div>\n",
       "  </div>\n",
       "  "
      ],
      "text/plain": [
       "                              uniq_id  ... spec_combo set content_sethypnotti\n",
       "437  b6c339777814451815fe7950fd4c8536  ...                                  0\n",
       "639  aeb421e416716d5f037d50e8c3b14cd7  ...                                  0\n",
       "715  d68b774e9529a4b94a5c6c8943a1b8b3  ...                                  0\n",
       "\n",
       "[3 rows x 3253 columns]"
      ]
     },
     "metadata": {},
     "execution_count": 178
    }
   ],
   "source": [
    "items_df.head(3)"
   ],
   "metadata": {
    "pycharm": {
     "name": "#%%\n"
    },
    "id": "rgWeg05CSlvU",
    "executionInfo": {
     "status": "ok",
     "timestamp": 1641981099913,
     "user_tz": -60,
     "elapsed": 10,
     "user": {
      "displayName": "Benoît DELORME",
      "photoUrl": "https://lh3.googleusercontent.com/a/default-user=s64",
      "userId": "03178733258717085125"
     }
    },
    "colab": {
     "base_uri": "https://localhost:8080/",
     "height": 480
    },
    "outputId": "02a8ce56-ffa2-4ae7-8382-0bc2626ef4ec"
   }
  },
  {
   "cell_type": "code",
   "execution_count": 179,
   "outputs": [
    {
     "output_type": "execute_result",
     "data": {
      "text/html": [
       "\n",
       "  <div id=\"df-26444bbb-b71b-4bcc-9eac-f7b9342f5a26\">\n",
       "    <div class=\"colab-df-container\">\n",
       "      <div>\n",
       "<style scoped>\n",
       "    .dataframe tbody tr th:only-of-type {\n",
       "        vertical-align: middle;\n",
       "    }\n",
       "\n",
       "    .dataframe tbody tr th {\n",
       "        vertical-align: top;\n",
       "    }\n",
       "\n",
       "    .dataframe thead th {\n",
       "        text-align: right;\n",
       "    }\n",
       "</style>\n",
       "<table border=\"1\" class=\"dataframe\">\n",
       "  <thead>\n",
       "    <tr style=\"text-align: right;\">\n",
       "      <th></th>\n",
       "      <th>spec_brand_homeedg</th>\n",
       "      <th>spec_brand_sunlast</th>\n",
       "      <th>spec_brand_pioneer</th>\n",
       "      <th>spec_brand_pragati</th>\n",
       "      <th>spec_brand_wallskart</th>\n",
       "      <th>spec_brand_shopfloorxyz</th>\n",
       "      <th>spec_brand_oren</th>\n",
       "      <th>spec_brand_empow</th>\n",
       "      <th>spec_brand_talleng</th>\n",
       "      <th>spec_brand_smartpro</th>\n",
       "      <th>spec_brand_dungri</th>\n",
       "      <th>spec_brand_india</th>\n",
       "      <th>spec_brand_craft</th>\n",
       "      <th>spec_brand_checker</th>\n",
       "      <th>spec_brand_chef</th>\n",
       "      <th>spec_brand_servic</th>\n",
       "      <th>spec_brand_junction</th>\n",
       "      <th>spec_brand_clublaptop</th>\n",
       "      <th>spec_brand_rrsskid</th>\n",
       "      <th>spec_brand_</th>\n",
       "      <th>spec_brand_craftartz</th>\n",
       "      <th>spec_brand_bela</th>\n",
       "      <th>spec_brand_home</th>\n",
       "      <th>spec_brand_lapguard</th>\n",
       "      <th>spec_brand_miracl</th>\n",
       "      <th>spec_brand_retail</th>\n",
       "      <th>spec_brand_sparkl</th>\n",
       "      <th>spec_brand_reiki</th>\n",
       "      <th>spec_brand_crystal</th>\n",
       "      <th>spec_brand_product</th>\n",
       "      <th>spec_brand_caffein</th>\n",
       "      <th>spec_brand_prisha</th>\n",
       "      <th>spec_brand_wallmantra</th>\n",
       "      <th>spec_brand_eurekain</th>\n",
       "      <th>spec_brand_famous</th>\n",
       "      <th>spec_brand_pristin</th>\n",
       "      <th>spec_brand_aster</th>\n",
       "      <th>spec_brand_luxuri</th>\n",
       "      <th>spec_brand_tiedribbon</th>\n",
       "      <th>spec_brand_brandwagon</th>\n",
       "      <th>...</th>\n",
       "      <th>spec_combo set content_berlin</th>\n",
       "      <th>spec_combo set content_malibu</th>\n",
       "      <th>spec_combo set content_engag</th>\n",
       "      <th>spec_combo set content_blush</th>\n",
       "      <th>spec_combo set content_drizzl</th>\n",
       "      <th>spec_combo set content_charg</th>\n",
       "      <th>spec_combo set content_surg</th>\n",
       "      <th>spec_combo set content_teas</th>\n",
       "      <th>spec_combo set content_pride</th>\n",
       "      <th>spec_combo set content_sport</th>\n",
       "      <th>spec_combo set content_drift</th>\n",
       "      <th>spec_combo set content_wave</th>\n",
       "      <th>spec_combo set content_ladi</th>\n",
       "      <th>spec_combo set content_womenml</th>\n",
       "      <th>spec_combo set content_rio</th>\n",
       "      <th>spec_combo set content_hawaii</th>\n",
       "      <th>spec_combo set content_calib</th>\n",
       "      <th>spec_combo set content_brave</th>\n",
       "      <th>spec_combo set content_rush</th>\n",
       "      <th>spec_combo set content_jump</th>\n",
       "      <th>spec_combo set content_pack</th>\n",
       "      <th>spec_combo set content_cool</th>\n",
       "      <th>spec_combo set content_spring</th>\n",
       "      <th>spec_combo set content_forcegmfor</th>\n",
       "      <th>spec_combo set content_electr</th>\n",
       "      <th>spec_combo set content_spraygmfor</th>\n",
       "      <th>spec_combo set content_archis</th>\n",
       "      <th>spec_combo set content_privaci</th>\n",
       "      <th>spec_combo set content_blade</th>\n",
       "      <th>spec_combo set content_citi</th>\n",
       "      <th>spec_combo set content_gang</th>\n",
       "      <th>spec_combo set content_nike</th>\n",
       "      <th>spec_combo set content_gold</th>\n",
       "      <th>spec_combo set content_casual</th>\n",
       "      <th>spec_combo set content_fission</th>\n",
       "      <th>spec_combo set content_equiti</th>\n",
       "      <th>spec_combo set content_illus</th>\n",
       "      <th>spec_combo set content_musk</th>\n",
       "      <th>spec_combo set content_combo</th>\n",
       "      <th>spec_combo set content_sethypnotti</th>\n",
       "    </tr>\n",
       "  </thead>\n",
       "  <tbody>\n",
       "    <tr>\n",
       "      <th>437</th>\n",
       "      <td>1</td>\n",
       "      <td>0</td>\n",
       "      <td>0</td>\n",
       "      <td>0</td>\n",
       "      <td>0</td>\n",
       "      <td>0</td>\n",
       "      <td>0</td>\n",
       "      <td>0</td>\n",
       "      <td>0</td>\n",
       "      <td>0</td>\n",
       "      <td>0</td>\n",
       "      <td>0</td>\n",
       "      <td>0</td>\n",
       "      <td>0</td>\n",
       "      <td>0</td>\n",
       "      <td>0</td>\n",
       "      <td>0</td>\n",
       "      <td>0</td>\n",
       "      <td>0</td>\n",
       "      <td>0</td>\n",
       "      <td>0</td>\n",
       "      <td>0</td>\n",
       "      <td>0</td>\n",
       "      <td>0</td>\n",
       "      <td>0</td>\n",
       "      <td>0</td>\n",
       "      <td>0</td>\n",
       "      <td>0</td>\n",
       "      <td>0</td>\n",
       "      <td>0</td>\n",
       "      <td>0</td>\n",
       "      <td>0</td>\n",
       "      <td>0</td>\n",
       "      <td>0</td>\n",
       "      <td>0</td>\n",
       "      <td>0</td>\n",
       "      <td>0</td>\n",
       "      <td>0</td>\n",
       "      <td>0</td>\n",
       "      <td>0</td>\n",
       "      <td>...</td>\n",
       "      <td>0</td>\n",
       "      <td>0</td>\n",
       "      <td>0</td>\n",
       "      <td>0</td>\n",
       "      <td>0</td>\n",
       "      <td>0</td>\n",
       "      <td>0</td>\n",
       "      <td>0</td>\n",
       "      <td>0</td>\n",
       "      <td>0</td>\n",
       "      <td>0</td>\n",
       "      <td>0</td>\n",
       "      <td>0</td>\n",
       "      <td>0</td>\n",
       "      <td>0</td>\n",
       "      <td>0</td>\n",
       "      <td>0</td>\n",
       "      <td>0</td>\n",
       "      <td>0</td>\n",
       "      <td>0</td>\n",
       "      <td>0</td>\n",
       "      <td>0</td>\n",
       "      <td>0</td>\n",
       "      <td>0</td>\n",
       "      <td>0</td>\n",
       "      <td>0</td>\n",
       "      <td>0</td>\n",
       "      <td>0</td>\n",
       "      <td>0</td>\n",
       "      <td>0</td>\n",
       "      <td>0</td>\n",
       "      <td>0</td>\n",
       "      <td>0</td>\n",
       "      <td>0</td>\n",
       "      <td>0</td>\n",
       "      <td>0</td>\n",
       "      <td>0</td>\n",
       "      <td>0</td>\n",
       "      <td>0</td>\n",
       "      <td>0</td>\n",
       "    </tr>\n",
       "    <tr>\n",
       "      <th>639</th>\n",
       "      <td>0</td>\n",
       "      <td>1</td>\n",
       "      <td>0</td>\n",
       "      <td>0</td>\n",
       "      <td>0</td>\n",
       "      <td>0</td>\n",
       "      <td>0</td>\n",
       "      <td>0</td>\n",
       "      <td>0</td>\n",
       "      <td>0</td>\n",
       "      <td>0</td>\n",
       "      <td>0</td>\n",
       "      <td>0</td>\n",
       "      <td>0</td>\n",
       "      <td>0</td>\n",
       "      <td>0</td>\n",
       "      <td>0</td>\n",
       "      <td>0</td>\n",
       "      <td>0</td>\n",
       "      <td>0</td>\n",
       "      <td>0</td>\n",
       "      <td>0</td>\n",
       "      <td>0</td>\n",
       "      <td>0</td>\n",
       "      <td>0</td>\n",
       "      <td>0</td>\n",
       "      <td>0</td>\n",
       "      <td>0</td>\n",
       "      <td>0</td>\n",
       "      <td>0</td>\n",
       "      <td>0</td>\n",
       "      <td>0</td>\n",
       "      <td>0</td>\n",
       "      <td>0</td>\n",
       "      <td>0</td>\n",
       "      <td>0</td>\n",
       "      <td>0</td>\n",
       "      <td>0</td>\n",
       "      <td>0</td>\n",
       "      <td>0</td>\n",
       "      <td>...</td>\n",
       "      <td>0</td>\n",
       "      <td>0</td>\n",
       "      <td>0</td>\n",
       "      <td>0</td>\n",
       "      <td>0</td>\n",
       "      <td>0</td>\n",
       "      <td>0</td>\n",
       "      <td>0</td>\n",
       "      <td>0</td>\n",
       "      <td>0</td>\n",
       "      <td>0</td>\n",
       "      <td>0</td>\n",
       "      <td>0</td>\n",
       "      <td>0</td>\n",
       "      <td>0</td>\n",
       "      <td>0</td>\n",
       "      <td>0</td>\n",
       "      <td>0</td>\n",
       "      <td>0</td>\n",
       "      <td>0</td>\n",
       "      <td>0</td>\n",
       "      <td>0</td>\n",
       "      <td>0</td>\n",
       "      <td>0</td>\n",
       "      <td>0</td>\n",
       "      <td>0</td>\n",
       "      <td>0</td>\n",
       "      <td>0</td>\n",
       "      <td>0</td>\n",
       "      <td>0</td>\n",
       "      <td>0</td>\n",
       "      <td>0</td>\n",
       "      <td>0</td>\n",
       "      <td>0</td>\n",
       "      <td>0</td>\n",
       "      <td>0</td>\n",
       "      <td>0</td>\n",
       "      <td>0</td>\n",
       "      <td>0</td>\n",
       "      <td>0</td>\n",
       "    </tr>\n",
       "    <tr>\n",
       "      <th>715</th>\n",
       "      <td>0</td>\n",
       "      <td>0</td>\n",
       "      <td>1</td>\n",
       "      <td>1</td>\n",
       "      <td>0</td>\n",
       "      <td>0</td>\n",
       "      <td>0</td>\n",
       "      <td>0</td>\n",
       "      <td>0</td>\n",
       "      <td>0</td>\n",
       "      <td>0</td>\n",
       "      <td>0</td>\n",
       "      <td>0</td>\n",
       "      <td>0</td>\n",
       "      <td>0</td>\n",
       "      <td>0</td>\n",
       "      <td>0</td>\n",
       "      <td>0</td>\n",
       "      <td>0</td>\n",
       "      <td>0</td>\n",
       "      <td>0</td>\n",
       "      <td>0</td>\n",
       "      <td>0</td>\n",
       "      <td>0</td>\n",
       "      <td>0</td>\n",
       "      <td>0</td>\n",
       "      <td>0</td>\n",
       "      <td>0</td>\n",
       "      <td>0</td>\n",
       "      <td>0</td>\n",
       "      <td>0</td>\n",
       "      <td>0</td>\n",
       "      <td>0</td>\n",
       "      <td>0</td>\n",
       "      <td>0</td>\n",
       "      <td>0</td>\n",
       "      <td>0</td>\n",
       "      <td>0</td>\n",
       "      <td>0</td>\n",
       "      <td>0</td>\n",
       "      <td>...</td>\n",
       "      <td>0</td>\n",
       "      <td>0</td>\n",
       "      <td>0</td>\n",
       "      <td>0</td>\n",
       "      <td>0</td>\n",
       "      <td>0</td>\n",
       "      <td>0</td>\n",
       "      <td>0</td>\n",
       "      <td>0</td>\n",
       "      <td>0</td>\n",
       "      <td>0</td>\n",
       "      <td>0</td>\n",
       "      <td>0</td>\n",
       "      <td>0</td>\n",
       "      <td>0</td>\n",
       "      <td>0</td>\n",
       "      <td>0</td>\n",
       "      <td>0</td>\n",
       "      <td>0</td>\n",
       "      <td>0</td>\n",
       "      <td>0</td>\n",
       "      <td>0</td>\n",
       "      <td>0</td>\n",
       "      <td>0</td>\n",
       "      <td>0</td>\n",
       "      <td>0</td>\n",
       "      <td>0</td>\n",
       "      <td>0</td>\n",
       "      <td>0</td>\n",
       "      <td>0</td>\n",
       "      <td>0</td>\n",
       "      <td>0</td>\n",
       "      <td>0</td>\n",
       "      <td>0</td>\n",
       "      <td>0</td>\n",
       "      <td>0</td>\n",
       "      <td>0</td>\n",
       "      <td>0</td>\n",
       "      <td>0</td>\n",
       "      <td>0</td>\n",
       "    </tr>\n",
       "  </tbody>\n",
       "</table>\n",
       "<p>3 rows × 3174 columns</p>\n",
       "</div>\n",
       "      <button class=\"colab-df-convert\" onclick=\"convertToInteractive('df-26444bbb-b71b-4bcc-9eac-f7b9342f5a26')\"\n",
       "              title=\"Convert this dataframe to an interactive table.\"\n",
       "              style=\"display:none;\">\n",
       "        \n",
       "  <svg xmlns=\"http://www.w3.org/2000/svg\" height=\"24px\"viewBox=\"0 0 24 24\"\n",
       "       width=\"24px\">\n",
       "    <path d=\"M0 0h24v24H0V0z\" fill=\"none\"/>\n",
       "    <path d=\"M18.56 5.44l.94 2.06.94-2.06 2.06-.94-2.06-.94-.94-2.06-.94 2.06-2.06.94zm-11 1L8.5 8.5l.94-2.06 2.06-.94-2.06-.94L8.5 2.5l-.94 2.06-2.06.94zm10 10l.94 2.06.94-2.06 2.06-.94-2.06-.94-.94-2.06-.94 2.06-2.06.94z\"/><path d=\"M17.41 7.96l-1.37-1.37c-.4-.4-.92-.59-1.43-.59-.52 0-1.04.2-1.43.59L10.3 9.45l-7.72 7.72c-.78.78-.78 2.05 0 2.83L4 21.41c.39.39.9.59 1.41.59.51 0 1.02-.2 1.41-.59l7.78-7.78 2.81-2.81c.8-.78.8-2.07 0-2.86zM5.41 20L4 18.59l7.72-7.72 1.47 1.35L5.41 20z\"/>\n",
       "  </svg>\n",
       "      </button>\n",
       "      \n",
       "  <style>\n",
       "    .colab-df-container {\n",
       "      display:flex;\n",
       "      flex-wrap:wrap;\n",
       "      gap: 12px;\n",
       "    }\n",
       "\n",
       "    .colab-df-convert {\n",
       "      background-color: #E8F0FE;\n",
       "      border: none;\n",
       "      border-radius: 50%;\n",
       "      cursor: pointer;\n",
       "      display: none;\n",
       "      fill: #1967D2;\n",
       "      height: 32px;\n",
       "      padding: 0 0 0 0;\n",
       "      width: 32px;\n",
       "    }\n",
       "\n",
       "    .colab-df-convert:hover {\n",
       "      background-color: #E2EBFA;\n",
       "      box-shadow: 0px 1px 2px rgba(60, 64, 67, 0.3), 0px 1px 3px 1px rgba(60, 64, 67, 0.15);\n",
       "      fill: #174EA6;\n",
       "    }\n",
       "\n",
       "    [theme=dark] .colab-df-convert {\n",
       "      background-color: #3B4455;\n",
       "      fill: #D2E3FC;\n",
       "    }\n",
       "\n",
       "    [theme=dark] .colab-df-convert:hover {\n",
       "      background-color: #434B5C;\n",
       "      box-shadow: 0px 1px 3px 1px rgba(0, 0, 0, 0.15);\n",
       "      filter: drop-shadow(0px 1px 2px rgba(0, 0, 0, 0.3));\n",
       "      fill: #FFFFFF;\n",
       "    }\n",
       "  </style>\n",
       "\n",
       "      <script>\n",
       "        const buttonEl =\n",
       "          document.querySelector('#df-26444bbb-b71b-4bcc-9eac-f7b9342f5a26 button.colab-df-convert');\n",
       "        buttonEl.style.display =\n",
       "          google.colab.kernel.accessAllowed ? 'block' : 'none';\n",
       "\n",
       "        async function convertToInteractive(key) {\n",
       "          const element = document.querySelector('#df-26444bbb-b71b-4bcc-9eac-f7b9342f5a26');\n",
       "          const dataTable =\n",
       "            await google.colab.kernel.invokeFunction('convertToInteractive',\n",
       "                                                     [key], {});\n",
       "          if (!dataTable) return;\n",
       "\n",
       "          const docLinkHtml = 'Like what you see? Visit the ' +\n",
       "            '<a target=\"_blank\" href=https://colab.research.google.com/notebooks/data_table.ipynb>data table notebook</a>'\n",
       "            + ' to learn more about interactive tables.';\n",
       "          element.innerHTML = '';\n",
       "          dataTable['output_type'] = 'display_data';\n",
       "          await google.colab.output.renderOutput(dataTable, element);\n",
       "          const docLink = document.createElement('div');\n",
       "          docLink.innerHTML = docLinkHtml;\n",
       "          element.appendChild(docLink);\n",
       "        }\n",
       "      </script>\n",
       "    </div>\n",
       "  </div>\n",
       "  "
      ],
      "text/plain": [
       "     spec_brand_homeedg  ...  spec_combo set content_sethypnotti\n",
       "437                   1  ...                                   0\n",
       "639                   0  ...                                   0\n",
       "715                   0  ...                                   0\n",
       "\n",
       "[3 rows x 3174 columns]"
      ]
     },
     "metadata": {},
     "execution_count": 179
    }
   ],
   "source": [
    "spec_columns = [column for column in list(items_df.columns) if column[:4]=='spec']\n",
    "items_df[spec_columns].head(3)"
   ],
   "metadata": {
    "pycharm": {
     "name": "#%%\n"
    },
    "id": "kwUG8EXZSlvU",
    "executionInfo": {
     "status": "ok",
     "timestamp": 1641981100261,
     "user_tz": -60,
     "elapsed": 356,
     "user": {
      "displayName": "Benoît DELORME",
      "photoUrl": "https://lh3.googleusercontent.com/a/default-user=s64",
      "userId": "03178733258717085125"
     }
    },
    "colab": {
     "base_uri": "https://localhost:8080/",
     "height": 271
    },
    "outputId": "eaa38262-200e-493a-e7ab-77cd8ce30f51"
   }
  },
  {
   "cell_type": "markdown",
   "source": [
    "### 3 tf-idf weights"
   ],
   "metadata": {
    "collapsed": false,
    "id": "qe5wpjLuSlvU"
   }
  },
  {
   "cell_type": "markdown",
   "source": [
    "https://towardsdatascience.com/tf-idf-for-document-ranking-from-scratch-in-python-on-real-world-dataset-796d339a4089"
   ],
   "metadata": {
    "collapsed": false,
    "id": "3z8MMoEwSlvV"
   }
  },
  {
   "cell_type": "code",
   "execution_count": 180,
   "outputs": [],
   "source": [
    "# Creation of stopwords set\n",
    "sw = set()\n",
    "sw.update('stopwords')\n",
    "sw.update(tuple(nltk.corpus.stopwords.words('english')))\n",
    "\n",
    "def add_tf_idf(df, column):\n",
    "    '''Create new features based on tf-idf weights of the words\n",
    "    contained in the given column.'''\n",
    "    vectorizer = TfidfVectorizer(max_df=1.0, min_df=1,\n",
    "                                 stop_words=list(sw), use_idf=True)\n",
    "    string_df = df[column].apply(lambda x: str(x))\n",
    "    #df[column] = pd.Series(list(df[column]), dtype=str)\n",
    "    values = vectorizer.fit_transform(string_df).toarray()\n",
    "    words_list = []\n",
    "    prefix = column[:4]\n",
    "    for key in vectorizer.vocabulary_.keys():\n",
    "            words_list.append(prefix + '_' + key)\n",
    "    words_df = pd.DataFrame(data=values, columns=words_list, index=df.index)\n",
    "    df.drop(column, axis=1, inplace=True)\n",
    "    df = pd.concat([df, words_df], axis=1)\n",
    "    return df\n",
    "\n",
    "\n",
    "# Compute the tf-idf weight for feature description\n",
    "items_df = add_tf_idf(items_df, 'product_name')\n",
    "items_df = add_tf_idf(items_df, 'description')"
   ],
   "metadata": {
    "pycharm": {
     "name": "#%%\n"
    },
    "id": "cJx50lIsSlvV",
    "executionInfo": {
     "status": "ok",
     "timestamp": 1641981100499,
     "user_tz": -60,
     "elapsed": 242,
     "user": {
      "displayName": "Benoît DELORME",
      "photoUrl": "https://lh3.googleusercontent.com/a/default-user=s64",
      "userId": "03178733258717085125"
     }
    }
   }
  },
  {
   "cell_type": "code",
   "execution_count": 181,
   "outputs": [
    {
     "output_type": "execute_result",
     "data": {
      "text/plain": [
       "(1050, 9709)"
      ]
     },
     "metadata": {},
     "execution_count": 181
    }
   ],
   "source": [
    "items_df.shape"
   ],
   "metadata": {
    "pycharm": {
     "name": "#%%\n"
    },
    "id": "EWjxCHZGSlvW",
    "executionInfo": {
     "status": "ok",
     "timestamp": 1641981100499,
     "user_tz": -60,
     "elapsed": 8,
     "user": {
      "displayName": "Benoît DELORME",
      "photoUrl": "https://lh3.googleusercontent.com/a/default-user=s64",
      "userId": "03178733258717085125"
     }
    },
    "colab": {
     "base_uri": "https://localhost:8080/"
    },
    "outputId": "259cf025-53a3-4d88-bc88-38328839681b"
   }
  },
  {
   "cell_type": "markdown",
   "source": [
    "### 5 Latent Dirichlet Allocation"
   ],
   "metadata": {
    "collapsed": false,
    "id": "eMkz8rN2SlvX"
   }
  },
  {
   "cell_type": "code",
   "execution_count": 182,
   "outputs": [],
   "source": [
    "n_topics = 4"
   ],
   "metadata": {
    "pycharm": {
     "name": "#%%\n"
    },
    "id": "XGLBd4duSlvX",
    "executionInfo": {
     "status": "ok",
     "timestamp": 1641981100499,
     "user_tz": -60,
     "elapsed": 6,
     "user": {
      "displayName": "Benoît DELORME",
      "photoUrl": "https://lh3.googleusercontent.com/a/default-user=s64",
      "userId": "03178733258717085125"
     }
    }
   }
  },
  {
   "cell_type": "code",
   "execution_count": 183,
   "outputs": [],
   "source": [
    "def LDA_that(data_, n_topics=n_topics, max_iter=10,\n",
    "             learning_offset=50., max_features=1000, my_language='english'):\n",
    "    '''Returns a grouping of words using LDA algorithm.'''\n",
    "    tf_vectorizer = CountVectorizer(max_df=0.95, min_df=2,\n",
    "                                    max_features=max_features, stop_words=my_language)\n",
    "    tf = tf_vectorizer.fit_transform(data_)\n",
    "    # \n",
    "    lda = LatentDirichletAllocation(n_components=n_topics, max_iter=max_iter, \n",
    "                                    learning_method='online', learning_offset=learning_offset,\n",
    "                                    random_state=0)\n",
    "    lda.fit(tf)\n",
    "    return lda, tf_vectorizer"
   ],
   "metadata": {
    "pycharm": {
     "name": "#%%\n"
    },
    "id": "cPiVhlj8SlvX",
    "executionInfo": {
     "status": "ok",
     "timestamp": 1641981100500,
     "user_tz": -60,
     "elapsed": 6,
     "user": {
      "displayName": "Benoît DELORME",
      "photoUrl": "https://lh3.googleusercontent.com/a/default-user=s64",
      "userId": "03178733258717085125"
     }
    }
   }
  },
  {
   "cell_type": "code",
   "execution_count": 184,
   "outputs": [],
   "source": [
    "# Display the groups\n",
    "def display_topics(model, columns, no_top_words=8):\n",
    "    '''Returns a vizualisation of words groups'''\n",
    "    topics_df = pd.DataFrame()\n",
    "    for topic_idx, topic in enumerate(model.components_):\n",
    "        temp_list = [columns[i] for i in topic.argsort()[:-no_top_words - 1:-1]]\n",
    "        topics_df['topic_{}'.format(topic_idx)] = temp_list\n",
    "    return topics_df"
   ],
   "metadata": {
    "pycharm": {
     "name": "#%%\n"
    },
    "id": "Kq_s1Dy1SlvY",
    "executionInfo": {
     "status": "ok",
     "timestamp": 1641981100500,
     "user_tz": -60,
     "elapsed": 6,
     "user": {
      "displayName": "Benoît DELORME",
      "photoUrl": "https://lh3.googleusercontent.com/a/default-user=s64",
      "userId": "03178733258717085125"
     }
    }
   }
  },
  {
   "cell_type": "code",
   "execution_count": 185,
   "outputs": [],
   "source": [
    "if False:\n",
    "    lda, tf_vectorizer = LDA_that(data_=data, n_topics=n_topics,\n",
    "                                max_iter=10, learning_offset=50.,\n",
    "                                max_features=2000,)\n",
    "    my_df = display_topics(lda, tf_vectorizer.get_feature_names(),\n",
    "                           no_top_words=8)\n",
    "    my_df.iloc[:, :4]"
   ],
   "metadata": {
    "pycharm": {
     "name": "#%%\n"
    },
    "id": "24kvqkQoSlvY",
    "executionInfo": {
     "status": "ok",
     "timestamp": 1641981100501,
     "user_tz": -60,
     "elapsed": 6,
     "user": {
      "displayName": "Benoît DELORME",
      "photoUrl": "https://lh3.googleusercontent.com/a/default-user=s64",
      "userId": "03178733258717085125"
     }
    }
   }
  },
  {
   "cell_type": "markdown",
   "source": [
    "**Représentation**"
   ],
   "metadata": {
    "collapsed": false,
    "id": "MPZUQGyeSlvY"
   }
  },
  {
   "cell_type": "code",
   "execution_count": 186,
   "outputs": [],
   "source": [
    "if False:\n",
    "    # Fitter sur les données\n",
    "    tf_vectorizer = CountVectorizer(max_df=0.95, min_df=2,\n",
    "                                    max_features=1000, stop_words='english')\n",
    "    tf = tf_vectorizer.fit_transform(data)\n",
    "    feature_names = np.array(tf_vectorizer.get_feature_names())\n",
    "    # Créer le modèle LDA\n",
    "    lda = LatentDirichletAllocation(n_components=n_topics, max_iter=10, \n",
    "                                    learning_method='online', learning_offset=50,\n",
    "                                    random_state=0)\n",
    "    document_topics = lda.fit_transform(tf)\n",
    "    sorting = np.argsort(lda.components_, axis=1)[:, ::-1]\n",
    "    # Inspiré du livre \"Le Machine Learning avec Python\"\n",
    "    fig, ax = plt.subplots(figsize=((10, 5)))\n",
    "    topic_names = ['{:>2} '.format(i) + ' '.join(words) for i, words in enumerate(feature_names[sorting[:, :2]])]\n",
    "    start = 0\n",
    "    end = document_topics.shape[1]\n",
    "    ax.barh(np.arange(document_topics.shape[1]),\n",
    "            np.sum(document_topics, axis=0)[start:end])\n",
    "    ax.set_yticks(np.arange(document_topics.shape[1]))\n",
    "    ax.set_yticklabels(topic_names[start:end],\n",
    "                    ha='left', va='top')\n",
    "    ax.invert_yaxis()\n",
    "    ax.set_xlim(0, max(np.sum(document_topics, axis=0))*1.1)\n",
    "    yax = ax.get_yaxis()\n",
    "    yax.set_tick_params(pad=130)\n",
    "    plt.tight_layout()"
   ],
   "metadata": {
    "pycharm": {
     "name": "#%%\n"
    },
    "id": "ZNczTm7_SlvY",
    "executionInfo": {
     "status": "ok",
     "timestamp": 1641981100501,
     "user_tz": -60,
     "elapsed": 5,
     "user": {
      "displayName": "Benoît DELORME",
      "photoUrl": "https://lh3.googleusercontent.com/a/default-user=s64",
      "userId": "03178733258717085125"
     }
    }
   }
  },
  {
   "cell_type": "code",
   "execution_count": 187,
   "outputs": [],
   "source": [
    "if False:\n",
    "    # Sum - invariant according the number of groups\n",
    "    sum(np.sum(document_topics, axis=0)[start:end])\n",
    "    # Mean\n",
    "    stat.mean(np.sum(document_topics, axis=0)[start:end])\n",
    "    # Standard deviation\n",
    "    stat.stdev(np.sum(document_topics, axis=0)[start:end])"
   ],
   "metadata": {
    "pycharm": {
     "name": "#%%\n"
    },
    "id": "-UlrM6WZSlvY",
    "executionInfo": {
     "status": "ok",
     "timestamp": 1641981100501,
     "user_tz": -60,
     "elapsed": 5,
     "user": {
      "displayName": "Benoît DELORME",
      "photoUrl": "https://lh3.googleusercontent.com/a/default-user=s64",
      "userId": "03178733258717085125"
     }
    }
   }
  },
  {
   "cell_type": "markdown",
   "source": [
    "## D. Pictures data"
   ],
   "metadata": {
    "collapsed": false,
    "id": "VBuUa1g0SlvY"
   }
  },
  {
   "cell_type": "markdown",
   "source": [
    "### 1 Discovery"
   ],
   "metadata": {
    "collapsed": false,
    "id": "rGtvoKT-SlvZ"
   }
  },
  {
   "cell_type": "markdown",
   "source": [
    "**Exploration**"
   ],
   "metadata": {
    "collapsed": false,
    "id": "Cz9mistPSlvZ"
   }
  },
  {
   "cell_type": "code",
   "execution_count": 188,
   "outputs": [],
   "source": [
    "items_df.sort_values(by='uniq_id', inplace=True)\n",
    "items_df = items_df[items_df['uniq_id']!='5518124b75d6c6dfee4c2e4c0cfa716a']"
   ],
   "metadata": {
    "pycharm": {
     "name": "#%%\n"
    },
    "id": "P8crvxxKSlvZ",
    "executionInfo": {
     "status": "ok",
     "timestamp": 1641981100727,
     "user_tz": -60,
     "elapsed": 231,
     "user": {
      "displayName": "Benoît DELORME",
      "photoUrl": "https://lh3.googleusercontent.com/a/default-user=s64",
      "userId": "03178733258717085125"
     }
    }
   }
  },
  {
   "cell_type": "code",
   "execution_count": 189,
   "outputs": [],
   "source": [
    "def shades_hist(img_, adapt_scale=True):\n",
    "    mat = np.array(img_)\n",
    "    mat_flatten = mat.flatten()\n",
    "    plt.xlim((0, 260))\n",
    "    if adapt_scale:\n",
    "        plt.ylim((0, mat_flatten.mean()*len(mat)))\n",
    "    else:\n",
    "        plt.ylim((0, 1000000))\n",
    "    n, bins, patches = plt.hist(mat_flatten, bins=range(256))\n",
    "    plt.show()"
   ],
   "metadata": {
    "pycharm": {
     "name": "#%%\n"
    },
    "id": "bptCyFfSSlvZ",
    "executionInfo": {
     "status": "ok",
     "timestamp": 1641981100727,
     "user_tz": -60,
     "elapsed": 7,
     "user": {
      "displayName": "Benoît DELORME",
      "photoUrl": "https://lh3.googleusercontent.com/a/default-user=s64",
      "userId": "03178733258717085125"
     }
    }
   }
  },
  {
   "cell_type": "code",
   "execution_count": 190,
   "outputs": [],
   "source": [
    "if False:\n",
    "    widths_list = []\n",
    "    heights_list = []\n",
    "    means_list = []\n",
    "    stddev_list = []\n",
    "    unique_values_list = []\n",
    "    length = len(items_df)\n",
    "    for i, element in enumerate(items_df['uniq_id']):\n",
    "        img = Image.open(PATH_PICTURE + element + '.jpg')"
   ],
   "metadata": {
    "pycharm": {
     "name": "#%%\n"
    },
    "id": "5vLMRLq3SlvZ",
    "executionInfo": {
     "status": "ok",
     "timestamp": 1641981100728,
     "user_tz": -60,
     "elapsed": 7,
     "user": {
      "displayName": "Benoît DELORME",
      "photoUrl": "https://lh3.googleusercontent.com/a/default-user=s64",
      "userId": "03178733258717085125"
     }
    }
   }
  },
  {
   "cell_type": "code",
   "execution_count": 191,
   "outputs": [],
   "source": [
    "if False:\n",
    "    plt.xlim((0, 260))\n",
    "    plt.ylim((0, 100))\n",
    "    plt.title('Shades of grey on the picture corpus (averages)')\n",
    "    sns.histplot(means_list,\n",
    "                 bins=52)"
   ],
   "metadata": {
    "pycharm": {
     "name": "#%%\n"
    },
    "id": "OFUHG_hNSlva",
    "executionInfo": {
     "status": "ok",
     "timestamp": 1641981100728,
     "user_tz": -60,
     "elapsed": 6,
     "user": {
      "displayName": "Benoît DELORME",
      "photoUrl": "https://lh3.googleusercontent.com/a/default-user=s64",
      "userId": "03178733258717085125"
     }
    }
   }
  },
  {
   "cell_type": "code",
   "execution_count": 192,
   "outputs": [],
   "source": [
    "if False:\n",
    "    plt.xlim((0, 260))\n",
    "    #plt.ylim((0, 950))\n",
    "    plt.title('Number of shades per image')\n",
    "    sns.histplot(unique_values_list,\n",
    "                 bins=104)"
   ],
   "metadata": {
    "pycharm": {
     "name": "#%%\n"
    },
    "id": "I-7e0GHzSlva",
    "executionInfo": {
     "status": "ok",
     "timestamp": 1641981100728,
     "user_tz": -60,
     "elapsed": 4,
     "user": {
      "displayName": "Benoît DELORME",
      "photoUrl": "https://lh3.googleusercontent.com/a/default-user=s64",
      "userId": "03178733258717085125"
     }
    }
   }
  },
  {
   "cell_type": "code",
   "execution_count": 193,
   "outputs": [],
   "source": [
    "if False:\n",
    "    sns.jointplot(widths_list,\n",
    "                  heights_list)"
   ],
   "metadata": {
    "pycharm": {
     "name": "#%%\n"
    },
    "id": "anNMxKPaSlva",
    "executionInfo": {
     "status": "ok",
     "timestamp": 1641981100728,
     "user_tz": -60,
     "elapsed": 4,
     "user": {
      "displayName": "Benoît DELORME",
      "photoUrl": "https://lh3.googleusercontent.com/a/default-user=s64",
      "userId": "03178733258717085125"
     }
    }
   }
  },
  {
   "cell_type": "code",
   "execution_count": 194,
   "outputs": [],
   "source": [
    "if False:\n",
    "    dimension_list = [w*h for w, h in zip(widths_list, heights_list)]\n",
    "    sns.histplot(dimension_list)"
   ],
   "metadata": {
    "pycharm": {
     "name": "#%%\n"
    },
    "id": "8AES0n5BSlva",
    "executionInfo": {
     "status": "ok",
     "timestamp": 1641981100729,
     "user_tz": -60,
     "elapsed": 4,
     "user": {
      "displayName": "Benoît DELORME",
      "photoUrl": "https://lh3.googleusercontent.com/a/default-user=s64",
      "userId": "03178733258717085125"
     }
    }
   }
  },
  {
   "cell_type": "code",
   "execution_count": 195,
   "outputs": [],
   "source": [
    "if False:\n",
    "    sns.jointplot(dimension_list,\n",
    "                  means_list)"
   ],
   "metadata": {
    "pycharm": {
     "name": "#%%\n"
    },
    "id": "jgU2DF5aSlva",
    "executionInfo": {
     "status": "ok",
     "timestamp": 1641981101097,
     "user_tz": -60,
     "elapsed": 9,
     "user": {
      "displayName": "Benoît DELORME",
      "photoUrl": "https://lh3.googleusercontent.com/a/default-user=s64",
      "userId": "03178733258717085125"
     }
    }
   }
  },
  {
   "cell_type": "markdown",
   "source": [
    "### 2 Equalization"
   ],
   "metadata": {
    "collapsed": false,
    "id": "qDRXEUWZSlvb"
   }
  },
  {
   "cell_type": "code",
   "execution_count": 196,
   "outputs": [],
   "source": [
    "img_id = '9438a0874e0486f46f3669cac6c2ac90'"
   ],
   "metadata": {
    "pycharm": {
     "name": "#%%\n"
    },
    "id": "bUWi7PR2Slvb",
    "executionInfo": {
     "status": "ok",
     "timestamp": 1641981101098,
     "user_tz": -60,
     "elapsed": 10,
     "user": {
      "displayName": "Benoît DELORME",
      "photoUrl": "https://lh3.googleusercontent.com/a/default-user=s64",
      "userId": "03178733258717085125"
     }
    }
   }
  },
  {
   "cell_type": "code",
   "execution_count": 197,
   "outputs": [],
   "source": [
    "def open_img(img_id):\n",
    "    '''Open image of the given unique identificator.\n",
    "    Return the equalized gray image.'''\n",
    "    img = Image.open(PATH_PICTURE + img_id + '.jpg', mode='r')\n",
    "    img = ImageOps.equalize(img)\n",
    "    img = img.convert('LA')\n",
    "    return img"
   ],
   "metadata": {
    "pycharm": {
     "name": "#%%\n"
    },
    "id": "k2fcoSr1Slvb",
    "executionInfo": {
     "status": "ok",
     "timestamp": 1641981101098,
     "user_tz": -60,
     "elapsed": 9,
     "user": {
      "displayName": "Benoît DELORME",
      "photoUrl": "https://lh3.googleusercontent.com/a/default-user=s64",
      "userId": "03178733258717085125"
     }
    }
   }
  },
  {
   "cell_type": "code",
   "execution_count": 198,
   "outputs": [],
   "source": [
    "def opencv_open_img(img_id):\n",
    "    '''Open image of the given unique identificator.\n",
    "    Return the equalized gray image.'''   \n",
    "    img = cv2.imread(PATH_PICTURE + str(img_id) + '.jpg')\n",
    "    img_arr = cv2.cvtColor(img, cv2.COLOR_BGR2GRAY)\n",
    "    img_arr = cv2.equalizeHist(img_arr)\n",
    "    img = Image.fromarray(img_arr, 'L')\n",
    "    return img"
   ],
   "metadata": {
    "pycharm": {
     "name": "#%%\n"
    },
    "id": "wmyq_HDmSlvb",
    "executionInfo": {
     "status": "ok",
     "timestamp": 1641981101098,
     "user_tz": -60,
     "elapsed": 9,
     "user": {
      "displayName": "Benoît DELORME",
      "photoUrl": "https://lh3.googleusercontent.com/a/default-user=s64",
      "userId": "03178733258717085125"
     }
    }
   }
  },
  {
   "cell_type": "markdown",
   "source": [
    "### 3 Filtering through average"
   ],
   "metadata": {
    "collapsed": false,
    "id": "52yNusyFSlvc"
   }
  },
  {
   "cell_type": "code",
   "execution_count": 199,
   "outputs": [],
   "source": [
    "if False:\n",
    "    img_mean = img.filter(ImageFilter.BoxBlur(radius=2))\n",
    "    shades_hist(img_mean)\n",
    "    img_mean"
   ],
   "metadata": {
    "pycharm": {
     "name": "#%%\n"
    },
    "id": "vr_jWi3XSlvc",
    "executionInfo": {
     "status": "ok",
     "timestamp": 1641981101098,
     "user_tz": -60,
     "elapsed": 8,
     "user": {
      "displayName": "Benoît DELORME",
      "photoUrl": "https://lh3.googleusercontent.com/a/default-user=s64",
      "userId": "03178733258717085125"
     }
    }
   }
  },
  {
   "cell_type": "markdown",
   "source": [
    "### 4 Filtering through median"
   ],
   "metadata": {
    "collapsed": false,
    "id": "2S-jevC7Slvc"
   }
  },
  {
   "cell_type": "code",
   "execution_count": 200,
   "outputs": [],
   "source": [
    "if False:\n",
    "    img_median = img.filter(ImageFilter.MedianFilter(size=3))\n",
    "    shades_hist(img_median)\n",
    "    img_median"
   ],
   "metadata": {
    "pycharm": {
     "name": "#%%\n"
    },
    "id": "ad5kk9w4Slvc",
    "executionInfo": {
     "status": "ok",
     "timestamp": 1641981101099,
     "user_tz": -60,
     "elapsed": 9,
     "user": {
      "displayName": "Benoît DELORME",
      "photoUrl": "https://lh3.googleusercontent.com/a/default-user=s64",
      "userId": "03178733258717085125"
     }
    }
   }
  },
  {
   "cell_type": "markdown",
   "source": [
    "### 5 Gaussian filtering"
   ],
   "metadata": {
    "collapsed": false,
    "id": "yQl13RCjSlvc"
   }
  },
  {
   "cell_type": "code",
   "execution_count": 201,
   "outputs": [],
   "source": [
    "def gaussian_filter(image):\n",
    "    img_arr = np.asarray(image)\n",
    "    nb_pixels = img_arr.shape[0] * img_arr.shape[1]\n",
    "    radius = int(math.log(nb_pixels)/2.5)\n",
    "    img_gauss = image.filter(ImageFilter.GaussianBlur(radius=radius))\n",
    "    return img_gauss\n",
    "\n",
    "\n",
    "def opencv_gaussian_filter(image):\n",
    "    img_arr = np.asarray(image)\n",
    "    nb_pixels = img_arr.shape[0] * img_arr.shape[1]\n",
    "    temp_radius = 5\n",
    "    img_gauss = cv2.GaussianBlur(img_arr, (temp_radius, temp_radius), cv2.BORDER_DEFAULT)\n",
    "    return img_gauss\n",
    "\n",
    "\n",
    "def diff_of_gaussians(my_image, radius_1, radius_2):\n",
    "    img_1 = gaussian_filter(my_image, radius_1)\n",
    "    img_2 = gaussian_filter(my_image, radius_2)\n",
    "    array_1 = np.asarray(img_1)\n",
    "    array_2 = np.asarray(img_2)\n",
    "    temp_diff = Image.fromarray(array_2 - array_1)\n",
    "    return temp_diff.convert('1')"
   ],
   "metadata": {
    "pycharm": {
     "name": "#%%\n"
    },
    "id": "7PXib9FRSlvc",
    "executionInfo": {
     "status": "ok",
     "timestamp": 1641981101099,
     "user_tz": -60,
     "elapsed": 8,
     "user": {
      "displayName": "Benoît DELORME",
      "photoUrl": "https://lh3.googleusercontent.com/a/default-user=s64",
      "userId": "03178733258717085125"
     }
    }
   }
  },
  {
   "cell_type": "markdown",
   "source": [
    "### 6 Gradient visualisation"
   ],
   "metadata": {
    "collapsed": false,
    "id": "Z6d8giQDSlvd"
   }
  },
  {
   "cell_type": "code",
   "execution_count": 202,
   "outputs": [],
   "source": [
    "def plot_gradient(my_image):\n",
    "    mat = np.array(my_image)[:, :, 0]\n",
    "    plt.gray()\n",
    "    plt.figure(figsize=(8, 8))\n",
    "    edges = filters.sobel(mat)\n",
    "    plt.imshow(edges)\n",
    "    plt.title('Gradient', size=20)\n",
    "    plt.show()"
   ],
   "metadata": {
    "pycharm": {
     "name": "#%%\n"
    },
    "id": "KFty-2joSlvd",
    "executionInfo": {
     "status": "ok",
     "timestamp": 1641981101099,
     "user_tz": -60,
     "elapsed": 8,
     "user": {
      "displayName": "Benoît DELORME",
      "photoUrl": "https://lh3.googleusercontent.com/a/default-user=s64",
      "userId": "03178733258717085125"
     }
    }
   }
  },
  {
   "cell_type": "markdown",
   "source": [
    "### 7 Canny filter"
   ],
   "metadata": {
    "collapsed": false,
    "id": "JBjK0fTISlvd"
   }
  },
  {
   "cell_type": "code",
   "execution_count": 203,
   "outputs": [],
   "source": [
    "def canny_filter(image, sigma=3):\n",
    "    if len(np.asarray(image).shape) == 3:\n",
    "        mat = np.asarray(image)[:, :, 0]\n",
    "    else:\n",
    "        mat = np.array(image)\n",
    "    edges = feature.canny(mat, sigma=sigma)\n",
    "    img = Image.fromarray(edges)\n",
    "    return img"
   ],
   "metadata": {
    "pycharm": {
     "name": "#%%\n"
    },
    "id": "CpjDnMx1Slvd",
    "executionInfo": {
     "status": "ok",
     "timestamp": 1641981101099,
     "user_tz": -60,
     "elapsed": 8,
     "user": {
      "displayName": "Benoît DELORME",
      "photoUrl": "https://lh3.googleusercontent.com/a/default-user=s64",
      "userId": "03178733258717085125"
     }
    }
   }
  },
  {
   "cell_type": "code",
   "execution_count": 204,
   "outputs": [],
   "source": [
    "def opencv_canny_filter(image, sigma=3):\n",
    "    if len(np.asarray(image).shape) == 3:\n",
    "        mat = np.array(image)[:, :, 0]\n",
    "    else:\n",
    "        mat = np.array(image)\n",
    "    img = cv2.Canny(mat, threshold1=100, threshold2=200,\n",
    "                    apertureSize=sigma, L2gradient = True)\n",
    "    #img = Image.fromarray(img)\n",
    "    return img"
   ],
   "metadata": {
    "pycharm": {
     "name": "#%%\n"
    },
    "id": "ZlXj-V7JSlvd",
    "executionInfo": {
     "status": "ok",
     "timestamp": 1641981101100,
     "user_tz": -60,
     "elapsed": 8,
     "user": {
      "displayName": "Benoît DELORME",
      "photoUrl": "https://lh3.googleusercontent.com/a/default-user=s64",
      "userId": "03178733258717085125"
     }
    }
   }
  },
  {
   "cell_type": "markdown",
   "source": [
    "### 8 Harris-Stephens filter"
   ],
   "metadata": {
    "collapsed": false,
    "id": "mO8DV2rcSlve"
   }
  },
  {
   "cell_type": "code",
   "execution_count": 205,
   "outputs": [],
   "source": [
    "if False:\n",
    "    img = cv2.imread(PATH_PICTURE + img_id + '.jpg')\n",
    "    gray = cv2.cvtColor(np.float32(img), cv2.COLOR_BGR2GRAY)\n",
    "    gray = np.float32(gray)\n",
    "    dst = cv2.cornerHarris(gray, 2, 3, 0.04)\n",
    "    #result is dilated for marking the corners, not important\n",
    "    dst = cv2.dilate(dst,None)\n",
    "    # Threshold for an optimal value, it may vary depending on the image.\n",
    "    img[dst>0.01*dst.max()] = [0, 0, 255]\n",
    "    cv2_imshow(img)\n",
    "    if cv2.waitKey(0) & 0xff == 27:\n",
    "        cv2.destroyAllWindows()"
   ],
   "metadata": {
    "pycharm": {
     "name": "#%%\n"
    },
    "id": "c_EbIWzqSlve",
    "executionInfo": {
     "status": "ok",
     "timestamp": 1641981101100,
     "user_tz": -60,
     "elapsed": 8,
     "user": {
      "displayName": "Benoît DELORME",
      "photoUrl": "https://lh3.googleusercontent.com/a/default-user=s64",
      "userId": "03178733258717085125"
     }
    }
   }
  },
  {
   "cell_type": "markdown",
   "source": [
    "### 9 SIFT"
   ],
   "metadata": {
    "collapsed": false,
    "id": "yQ9ZtZlXSlve"
   }
  },
  {
   "cell_type": "code",
   "execution_count": 206,
   "outputs": [],
   "source": [
    "# Useful link : https://www.analyticsvidhya.com/blog/2019/10/detailed-guide-powerful-sift-technique-image-matching-python/"
   ],
   "metadata": {
    "pycharm": {
     "name": "#%%\n"
    },
    "id": "dB5vv_97Slvf",
    "executionInfo": {
     "status": "ok",
     "timestamp": 1641981101100,
     "user_tz": -60,
     "elapsed": 8,
     "user": {
      "displayName": "Benoît DELORME",
      "photoUrl": "https://lh3.googleusercontent.com/a/default-user=s64",
      "userId": "03178733258717085125"
     }
    }
   }
  },
  {
   "cell_type": "code",
   "execution_count": 207,
   "outputs": [],
   "source": [
    "if False:\n",
    "    # 1. Constructing a scale space\n",
    "    img_width = img.size[0]\n",
    "    img_height = img.size[1]\n",
    "    # Octave 1 : 0.75 of the original\n",
    "    img_oct_1 = img.resize((int(img_width*0.75),\n",
    "                            int(img_height*0.75)))\n",
    "    # Octave 2 : 0.50 of the original\n",
    "    img_oct_2 = img.resize((int(img_width*0.50),\n",
    "                            int(img_height*0.50)))\n",
    "    # Octave 3 : 0.25 of the original\n",
    "    img_oct_3 = img.resize((int(img_width*0.25),\n",
    "                            int(img_height*0.25)))"
   ],
   "metadata": {
    "pycharm": {
     "name": "#%%\n"
    },
    "id": "mxrNqS0GSlvf",
    "executionInfo": {
     "status": "ok",
     "timestamp": 1641981101100,
     "user_tz": -60,
     "elapsed": 8,
     "user": {
      "displayName": "Benoît DELORME",
      "photoUrl": "https://lh3.googleusercontent.com/a/default-user=s64",
      "userId": "03178733258717085125"
     }
    }
   }
  },
  {
   "cell_type": "code",
   "execution_count": 208,
   "outputs": [],
   "source": [
    "if False:\n",
    "    img_gauss_dict = {}\n",
    "    array_gauss_dict = {}\n",
    "    for i in [2, 5, 10, 20, 50]:\n",
    "        img_gauss_dict[i] = img.filter(ImageFilter.GaussianBlur(radius=i))\n",
    "        array_gauss_dict[i] = np.asarray(img_gauss_dict[i])\n",
    "    img_gauss_dict[2]"
   ],
   "metadata": {
    "pycharm": {
     "name": "#%%\n"
    },
    "id": "h4or6xWOSlvf",
    "executionInfo": {
     "status": "ok",
     "timestamp": 1641981101101,
     "user_tz": -60,
     "elapsed": 8,
     "user": {
      "displayName": "Benoît DELORME",
      "photoUrl": "https://lh3.googleusercontent.com/a/default-user=s64",
      "userId": "03178733258717085125"
     }
    }
   }
  },
  {
   "cell_type": "code",
   "execution_count": 209,
   "outputs": [],
   "source": [
    "if False:\n",
    "    temp_diff = Image.fromarray(array_gauss_dict[50] - array_gauss_dict[20])\n",
    "    temp_diff.convert('1')"
   ],
   "metadata": {
    "pycharm": {
     "name": "#%%\n"
    },
    "id": "KLRR-CcCSlvf",
    "executionInfo": {
     "status": "ok",
     "timestamp": 1641981101362,
     "user_tz": -60,
     "elapsed": 268,
     "user": {
      "displayName": "Benoît DELORME",
      "photoUrl": "https://lh3.googleusercontent.com/a/default-user=s64",
      "userId": "03178733258717085125"
     }
    }
   }
  },
  {
   "cell_type": "code",
   "execution_count": 210,
   "outputs": [],
   "source": [
    "if False:\n",
    "    img = cv2.imread(PATH_PICTURE + img_id + '.jpg')\n",
    "    gray = cv2.cvtColor(img, cv2.COLOR_BGR2GRAY)\n",
    "    sift = cv2.xfeatures2d.SIFT_create()\n",
    "    kp = sift.detect(gray, None)\n",
    "    img = drawkeypoints(gray, kp, img)\n",
    "    cv.imwrite('sift_keypoints.jpg', img)"
   ],
   "metadata": {
    "pycharm": {
     "name": "#%%\n"
    },
    "id": "0qgbi5ziSlvf",
    "executionInfo": {
     "status": "ok",
     "timestamp": 1641981101363,
     "user_tz": -60,
     "elapsed": 3,
     "user": {
      "displayName": "Benoît DELORME",
      "photoUrl": "https://lh3.googleusercontent.com/a/default-user=s64",
      "userId": "03178733258717085125"
     }
    }
   }
  },
  {
   "cell_type": "markdown",
   "source": [
    "### 10 ORB"
   ],
   "metadata": {
    "collapsed": false,
    "id": "6DWnWFy_Slvf"
   }
  },
  {
   "cell_type": "code",
   "execution_count": 211,
   "outputs": [
    {
     "output_type": "display_data",
     "data": {
      "image/png": "[encoded data removed]",
      "text/plain": [
       "<Figure size 576x396 with 1 Axes>"
      ]
     },
     "metadata": {}
    }
   ],
   "source": [
    "def show_keypoints(img_id, n_descriptors):\n",
    "    # Loading image\n",
    "    image = opencv_open_img(img_id)\n",
    "    image = opencv_gaussian_filter(image)\n",
    "    image = opencv_canny_filter(image)\n",
    "    # Detector extraction\n",
    "    image = cv2.cvtColor(image, cv2.COLOR_BGR2RGB)\n",
    "    image = cv2.cvtColor(image, cv2.COLOR_BGR2GRAY)\n",
    "    orb = cv2.ORB_create(n_descriptors)\n",
    "    kp = orb.detect(image, None)\n",
    "    kp, des = orb.compute(image, kp)\n",
    "    imageimg= np.uint8(image)\n",
    "    img2 = cv2.drawKeypoints(image, kp, None, color=(0,255,0), flags=0)\n",
    "    plt.imshow(img2)\n",
    "    plt.show()\n",
    "\n",
    "show_keypoints('0a3b5fdf77a361c2d7d9b29c259b8c4e', 10)"
   ],
   "metadata": {
    "pycharm": {
     "name": "#%%\n"
    },
    "id": "2rMV_0QWSlvg",
    "executionInfo": {
     "status": "ok",
     "timestamp": 1641981101722,
     "user_tz": -60,
     "elapsed": 361,
     "user": {
      "displayName": "Benoît DELORME",
      "photoUrl": "https://lh3.googleusercontent.com/a/default-user=s64",
      "userId": "03178733258717085125"
     }
    },
    "colab": {
     "base_uri": "https://localhost:8080/",
     "height": 357
    },
    "outputId": "b39921da-1630-41ae-f605-34e125477c13"
   }
  },
  {
   "cell_type": "code",
   "source": [
    "def list_of_keypoints_coordinates(img_id, n_descriptors):\n",
    "    my_img = opencv_open_img(img_id)\n",
    "    my_img = opencv_gaussian_filter(my_img)\n",
    "    my_img = opencv_canny_filter(my_img)\n",
    "    # Detector extraction\n",
    "    my_img = cv2.cvtColor(my_img, cv2.COLOR_BGR2RGB)\n",
    "    my_img = cv2.cvtColor(my_img, cv2.COLOR_BGR2GRAY)\n",
    "    orb = cv2.ORB_create(n_descriptors)\n",
    "    kp = orb.detect(my_img, None)\n",
    "    coord, des = orb.compute(my_img, kp)\n",
    "    coord = cv2.KeyPoint_convert(coord)\n",
    "    return coord\n",
    "\n",
    "\n",
    "def detectors_coordinates_df(df, n_clust, n_descr):\n",
    "    detectors_df = pd.DataFrame(columns=['keypoints_x', 'keypoints_y', 'uniq_id', 'descriptor_id'])\n",
    "    for i, img_id in enumerate(df['uniq_id']):\n",
    "        detectors_list = list_of_keypoints_coordinates(img_id, n_descr)\n",
    "        img_index = df.index[df['uniq_id']==img_id].values\n",
    "        try:\n",
    "            for j, keypoint in enumerate(detectors_list):\n",
    "                keypoint = list(keypoint)\n",
    "                keypoint.append(int(img_index))\n",
    "                keypoint.append(j+1)\n",
    "                keypoint = pd.Series(keypoint, index=detectors_df.columns)\n",
    "                detectors_df.loc[detectors_df.shape[0]] = keypoint\n",
    "        except TypeError:\n",
    "            pass\n",
    "    detectors_df['uniq_id'] = [int(element) for element in detectors_df['uniq_id']]\n",
    "    return detectors_df\n",
    "\n",
    "\n",
    "def list_of_keypoints_descriptors(img_id, n_descriptors, output_type):\n",
    "    my_img = opencv_open_img(img_id)\n",
    "    my_img = opencv_gaussian_filter(my_img)\n",
    "    my_img = opencv_canny_filter(my_img)\n",
    "    # Detector extraction\n",
    "    my_img = cv2.cvtColor(my_img, cv2.COLOR_BGR2RGB)\n",
    "    my_img = cv2.cvtColor(my_img, cv2.COLOR_BGR2GRAY)\n",
    "    orb = cv2.ORB_create(n_descriptors)\n",
    "    kp = orb.detect(my_img, None)\n",
    "    coord, des = orb.compute(my_img, kp)\n",
    "    return des\n",
    "\n",
    "\n",
    "def detectors_descriptors_df(df, n_clust, n_descr):\n",
    "    detectors_df = pd.DataFrame(columns=list(range(0, 32)))\n",
    "    detectors_df['uniq_id'] = []\n",
    "    detectors_df['descriptor_id'] = [] \n",
    "    for i, img_id in enumerate(df['uniq_id']):\n",
    "        detectors_list = list_of_keypoints_descriptors(img_id, n_descr)\n",
    "        img_index = df.index[df['uniq_id']==img_id].values\n",
    "        try:\n",
    "            for j, descriptor in enumerate(detectors_list):\n",
    "                descriptor = list(descriptor)\n",
    "                descriptor.append(int(img_index))\n",
    "                descriptor.append(j+1)\n",
    "                descriptor = pd.Series(descriptor, index=detectors_df.columns)\n",
    "                detectors_df.loc[detectors_df.shape[0]] = descriptor \n",
    "        except TypeError:\n",
    "            pass\n",
    "    detectors_df['uniq_id'] = [int(element) for element in detectors_df['uniq_id']]\n",
    "    return detectors_df\n",
    "\n",
    "\n",
    "def kmean_detectors_clustering(detectors_df):\n",
    "    k_means = KMeans(n_clusters=n_clust)\n",
    "    kmeans_df = detectors_df.drop('uniq_id', axis=1).drop('descriptor_id', axis=1)\n",
    "    k_means.fit(kmeans_df)\n",
    "    detectors_df['labels'] = k_means.labels_\n",
    "    detectors_df = detectors_df[['uniq_id', 'labels']]\n",
    "    return detectors_df\n",
    "\n",
    "\n",
    "def get_descriptors_weights_df(detectors_df, n_clust):\n",
    "    # Creation of a dataframe to be concatened to the final dataframe and  used for clustering\n",
    "    my_keys = list(range(0, n_clust))\n",
    "    descriptors_weights_df = pd.DataFrame({'uniq_id':detectors_df['uniq_id'].unique()})\n",
    "    descriptors_weights_df[my_keys] = np.nan * len(detectors_df)\n",
    "    descriptors_weights_df.set_index('uniq_id', inplace=True)\n",
    "    for uniq_id in detectors_df['uniq_id'].unique():\n",
    "        temp_df = detectors_df[detectors_df['uniq_id']==uniq_id]\n",
    "        temp_dict = dict(Counter(temp_df['labels']))\n",
    "        temp_row = []\n",
    "        for i in range(0, n_clust):\n",
    "            keys_list = list(temp_dict.keys())\n",
    "            if i in keys_list:\n",
    "                temp_row.append(temp_dict[i])\n",
    "            else:\n",
    "                temp_row.append(0)\n",
    "        descriptors_weights_df.loc[uniq_id] = temp_row\n",
    "    return descriptors_weights_df\n",
    "\n",
    "\n",
    "def merge_detectors(n_clust, n_descr, mode, df):\n",
    "    descr_weights_df = create_detectors_df(n_clust, n_descr, mode)\n",
    "    df = pd.merge(df, descr_weights_df,\n",
    "                            left_index=True, right_index=True)\n",
    "    return df\n",
    "\n",
    "\n",
    "n_clust = 22\n",
    "n_descr = 10\n",
    "detectors_df = detectors_coordinates_df(items_df, n_clust, n_descr)\n",
    "detectors_df = kmean_detectors_clustering(detectors_df)\n",
    "detectors_df = get_descriptors_weights_df(detectors_df, n_clust)\n",
    "merge_df = merge_detectors(items_df, n_clust, n_descr)\n",
    "merge_df.set_index('uniq_id', inplace=True)\n",
    "merge_df.head(3)"
   ],
   "metadata": {
    "colab": {
     "base_uri": "https://localhost:8080/",
     "height": 382
    },
    "id": "DOZAlfaTkRNq",
    "executionInfo": {
     "status": "error",
     "timestamp": 1641981436693,
     "user_tz": -60,
     "elapsed": 139271,
     "user": {
      "displayName": "Benoît DELORME",
      "photoUrl": "https://lh3.googleusercontent.com/a/default-user=s64",
      "userId": "03178733258717085125"
     }
    },
    "outputId": "627c3654-becc-49d4-839f-90424eb43626"
   },
   "execution_count": 217,
   "outputs": [
    {
     "output_type": "error",
     "ename": "KeyboardInterrupt",
     "evalue": "ignored",
     "traceback": [
      "\u001B[0;31m---------------------------------------------------------------------------\u001B[0m",
      "\u001B[0;31mKeyboardInterrupt\u001B[0m                         Traceback (most recent call last)",
      "\u001B[0;32m<ipython-input-217-580da44a015c>\u001B[0m in \u001B[0;36m<module>\u001B[0;34m()\u001B[0m\n\u001B[1;32m    103\u001B[0m \u001B[0mn_clust\u001B[0m \u001B[0;34m=\u001B[0m \u001B[0;36m22\u001B[0m\u001B[0;34m\u001B[0m\u001B[0;34m\u001B[0m\u001B[0m\n\u001B[1;32m    104\u001B[0m \u001B[0mn_descr\u001B[0m \u001B[0;34m=\u001B[0m \u001B[0;36m10\u001B[0m\u001B[0;34m\u001B[0m\u001B[0;34m\u001B[0m\u001B[0m\n\u001B[0;32m--> 105\u001B[0;31m \u001B[0mdetectors_df\u001B[0m \u001B[0;34m=\u001B[0m \u001B[0mdetectors_coordinates_df\u001B[0m\u001B[0;34m(\u001B[0m\u001B[0mitems_df\u001B[0m\u001B[0;34m,\u001B[0m \u001B[0mn_clust\u001B[0m\u001B[0;34m,\u001B[0m \u001B[0mn_descr\u001B[0m\u001B[0;34m)\u001B[0m\u001B[0;34m\u001B[0m\u001B[0;34m\u001B[0m\u001B[0m\n\u001B[0m\u001B[1;32m    106\u001B[0m \u001B[0mdetectors_df\u001B[0m \u001B[0;34m=\u001B[0m \u001B[0mkmean_detectors_clustering\u001B[0m\u001B[0;34m(\u001B[0m\u001B[0mdetectors_df\u001B[0m\u001B[0;34m)\u001B[0m\u001B[0;34m\u001B[0m\u001B[0;34m\u001B[0m\u001B[0m\n\u001B[1;32m    107\u001B[0m \u001B[0mdetectors_df\u001B[0m \u001B[0;34m=\u001B[0m \u001B[0mget_descriptors_weights_df\u001B[0m\u001B[0;34m(\u001B[0m\u001B[0mdetectors_df\u001B[0m\u001B[0;34m,\u001B[0m \u001B[0mn_clust\u001B[0m\u001B[0;34m)\u001B[0m\u001B[0;34m\u001B[0m\u001B[0;34m\u001B[0m\u001B[0m\n",
      "\u001B[0;32m<ipython-input-217-580da44a015c>\u001B[0m in \u001B[0;36mdetectors_coordinates_df\u001B[0;34m(df, n_clust, n_descr)\u001B[0m\n\u001B[1;32m     16\u001B[0m     \u001B[0mdetectors_df\u001B[0m \u001B[0;34m=\u001B[0m \u001B[0mpd\u001B[0m\u001B[0;34m.\u001B[0m\u001B[0mDataFrame\u001B[0m\u001B[0;34m(\u001B[0m\u001B[0mcolumns\u001B[0m\u001B[0;34m=\u001B[0m\u001B[0;34m[\u001B[0m\u001B[0;34m'keypoints_x'\u001B[0m\u001B[0;34m,\u001B[0m \u001B[0;34m'keypoints_y'\u001B[0m\u001B[0;34m,\u001B[0m \u001B[0;34m'uniq_id'\u001B[0m\u001B[0;34m,\u001B[0m \u001B[0;34m'descriptor_id'\u001B[0m\u001B[0;34m]\u001B[0m\u001B[0;34m)\u001B[0m\u001B[0;34m\u001B[0m\u001B[0;34m\u001B[0m\u001B[0m\n\u001B[1;32m     17\u001B[0m     \u001B[0;32mfor\u001B[0m \u001B[0mi\u001B[0m\u001B[0;34m,\u001B[0m \u001B[0mimg_id\u001B[0m \u001B[0;32min\u001B[0m \u001B[0menumerate\u001B[0m\u001B[0;34m(\u001B[0m\u001B[0mdf\u001B[0m\u001B[0;34m[\u001B[0m\u001B[0;34m'uniq_id'\u001B[0m\u001B[0;34m]\u001B[0m\u001B[0;34m)\u001B[0m\u001B[0;34m:\u001B[0m\u001B[0;34m\u001B[0m\u001B[0;34m\u001B[0m\u001B[0m\n\u001B[0;32m---> 18\u001B[0;31m         \u001B[0mdetectors_list\u001B[0m \u001B[0;34m=\u001B[0m \u001B[0mlist_of_keypoints_coordinates\u001B[0m\u001B[0;34m(\u001B[0m\u001B[0mimg_id\u001B[0m\u001B[0;34m,\u001B[0m \u001B[0mn_descr\u001B[0m\u001B[0;34m)\u001B[0m\u001B[0;34m\u001B[0m\u001B[0;34m\u001B[0m\u001B[0m\n\u001B[0m\u001B[1;32m     19\u001B[0m         \u001B[0mimg_index\u001B[0m \u001B[0;34m=\u001B[0m \u001B[0mdf\u001B[0m\u001B[0;34m.\u001B[0m\u001B[0mindex\u001B[0m\u001B[0;34m[\u001B[0m\u001B[0mdf\u001B[0m\u001B[0;34m[\u001B[0m\u001B[0;34m'uniq_id'\u001B[0m\u001B[0;34m]\u001B[0m\u001B[0;34m==\u001B[0m\u001B[0mimg_id\u001B[0m\u001B[0;34m]\u001B[0m\u001B[0;34m.\u001B[0m\u001B[0mvalues\u001B[0m\u001B[0;34m\u001B[0m\u001B[0;34m\u001B[0m\u001B[0m\n\u001B[1;32m     20\u001B[0m         \u001B[0;32mtry\u001B[0m\u001B[0;34m:\u001B[0m\u001B[0;34m\u001B[0m\u001B[0;34m\u001B[0m\u001B[0m\n",
      "\u001B[0;32m<ipython-input-217-580da44a015c>\u001B[0m in \u001B[0;36mlist_of_keypoints_coordinates\u001B[0;34m(img_id, n_descriptors)\u001B[0m\n\u001B[1;32m      8\u001B[0m     \u001B[0morb\u001B[0m \u001B[0;34m=\u001B[0m \u001B[0mcv2\u001B[0m\u001B[0;34m.\u001B[0m\u001B[0mORB_create\u001B[0m\u001B[0;34m(\u001B[0m\u001B[0mn_descriptors\u001B[0m\u001B[0;34m)\u001B[0m\u001B[0;34m\u001B[0m\u001B[0;34m\u001B[0m\u001B[0m\n\u001B[1;32m      9\u001B[0m     \u001B[0mkp\u001B[0m \u001B[0;34m=\u001B[0m \u001B[0morb\u001B[0m\u001B[0;34m.\u001B[0m\u001B[0mdetect\u001B[0m\u001B[0;34m(\u001B[0m\u001B[0mmy_img\u001B[0m\u001B[0;34m,\u001B[0m \u001B[0;32mNone\u001B[0m\u001B[0;34m)\u001B[0m\u001B[0;34m\u001B[0m\u001B[0;34m\u001B[0m\u001B[0m\n\u001B[0;32m---> 10\u001B[0;31m     \u001B[0mcoord\u001B[0m\u001B[0;34m,\u001B[0m \u001B[0mdes\u001B[0m \u001B[0;34m=\u001B[0m \u001B[0morb\u001B[0m\u001B[0;34m.\u001B[0m\u001B[0mcompute\u001B[0m\u001B[0;34m(\u001B[0m\u001B[0mmy_img\u001B[0m\u001B[0;34m,\u001B[0m \u001B[0mkp\u001B[0m\u001B[0;34m)\u001B[0m\u001B[0;34m\u001B[0m\u001B[0;34m\u001B[0m\u001B[0m\n\u001B[0m\u001B[1;32m     11\u001B[0m     \u001B[0mcoord\u001B[0m \u001B[0;34m=\u001B[0m \u001B[0mcv2\u001B[0m\u001B[0;34m.\u001B[0m\u001B[0mKeyPoint_convert\u001B[0m\u001B[0;34m(\u001B[0m\u001B[0mcoord\u001B[0m\u001B[0;34m)\u001B[0m\u001B[0;34m\u001B[0m\u001B[0;34m\u001B[0m\u001B[0m\n\u001B[1;32m     12\u001B[0m     \u001B[0;32mreturn\u001B[0m \u001B[0mcoord\u001B[0m\u001B[0;34m\u001B[0m\u001B[0;34m\u001B[0m\u001B[0m\n",
      "\u001B[0;31mKeyboardInterrupt\u001B[0m: "
     ]
    }
   ]
  },
  {
   "cell_type": "code",
   "source": [
    "stop"
   ],
   "metadata": {
    "id": "kx-_YNZCsDYU",
    "executionInfo": {
     "status": "aborted",
     "timestamp": 1641981102031,
     "user_tz": -60,
     "elapsed": 312,
     "user": {
      "displayName": "Benoît DELORME",
      "photoUrl": "https://lh3.googleusercontent.com/a/default-user=s64",
      "userId": "03178733258717085125"
     }
    }
   },
   "execution_count": null,
   "outputs": []
  },
  {
   "cell_type": "code",
   "execution_count": null,
   "outputs": [],
   "source": [
    "# Constitution of dataframe\n",
    "col_list = list(merge_df.columns)[-22:]\n",
    "descriptors_df = merge_df[col_list]\n",
    "descriptors_df.index = merge_df.index\n",
    "descriptors_df.sort_values(by=3, ascending=False).head(5)"
   ],
   "metadata": {
    "pycharm": {
     "name": "#%%\n"
    },
    "id": "w4sXNRCQSlvg",
    "executionInfo": {
     "status": "aborted",
     "timestamp": 1641981102031,
     "user_tz": -60,
     "elapsed": 7,
     "user": {
      "displayName": "Benoît DELORME",
      "photoUrl": "https://lh3.googleusercontent.com/a/default-user=s64",
      "userId": "03178733258717085125"
     }
    }
   }
  },
  {
   "cell_type": "code",
   "execution_count": null,
   "outputs": [],
   "source": [
    "def compare_tsne_kmeans(df):\n",
    "    embedded_df = TSNE(n_components=2).fit_transform(df)\n",
    "    df_subset = pd.DataFrame(embedded_df[:, 0],\n",
    "                            embedded_df[:, 1])\n",
    "    kmeans = KMeans(n_clusters=22)\n",
    "    kmeans.fit(df)\n",
    "    df_subset['labels'] = list(kmeans.labels_)\n",
    "    sns.scatterplot(data=df_subset,\n",
    "                    x=list(df_subset.index),\n",
    "                    y=list(df_subset[0]),\n",
    "                    hue='labels', palette=sns.hls_palette(len(df_subset['labels'].unique())))\n",
    "\n",
    "compare_tsne_kmeans(descriptors_df)"
   ],
   "metadata": {
    "pycharm": {
     "name": "#%%\n"
    },
    "id": "SAPGH_hbSlvg",
    "executionInfo": {
     "status": "aborted",
     "timestamp": 1641981102031,
     "user_tz": -60,
     "elapsed": 7,
     "user": {
      "displayName": "Benoît DELORME",
      "photoUrl": "https://lh3.googleusercontent.com/a/default-user=s64",
      "userId": "03178733258717085125"
     }
    }
   }
  },
  {
   "cell_type": "code",
   "execution_count": null,
   "outputs": [],
   "source": [
    "# Comparison of k-means scores according to the number of detectors choosen\n",
    "n_clust = 22\n",
    "analysis_list = [2, 5, 10, 15, 20]\n",
    "if True:\n",
    "    inertia_dict = {}\n",
    "    calinski_harabasz_dict = {}\n",
    "    davies_bouldin_dict = {}\n",
    "    for n_descr in analysis_list:\n",
    "        print(n_descr)\n",
    "        temp_df = merge_detectors(n_clust=n_clust,\n",
    "                                  n_descr=n_descr,\n",
    "                                  mode='coord',\n",
    "                                  my_dataframe=items_df)\n",
    "        # Constitution of dataframe\n",
    "        col_list = list(temp_df.columns)[-n_clust:]\n",
    "        descriptors_df = temp_df[col_list]\n",
    "        # K-means instanciation and fitting\n",
    "        kmeans_model = KMeans(n_clusters=n_clust).fit(descriptors_df)\n",
    "        labels = kmeans_model.labels_\n",
    "        inertia_dict[n_descr] = kmeans_model.inertia_\n",
    "        ca_ha_dict[n_descr] = metrics.ca_ha_score(descriptors_df, labels)\n",
    "        da_bo_dict[n_descr] = metrics.da_bo_score(descriptors_df, labels)"
   ],
   "metadata": {
    "pycharm": {
     "name": "#%%\n"
    },
    "id": "h7my5uCMSlvh",
    "executionInfo": {
     "status": "aborted",
     "timestamp": 1641981102031,
     "user_tz": -60,
     "elapsed": 7,
     "user": {
      "displayName": "Benoît DELORME",
      "photoUrl": "https://lh3.googleusercontent.com/a/default-user=s64",
      "userId": "03178733258717085125"
     }
    }
   }
  },
  {
   "cell_type": "code",
   "execution_count": null,
   "outputs": [],
   "source": [
    "# Display performances according inertia metric\n",
    "if True:\n",
    "    plt.title('Inertia according number of detectors')\n",
    "    plt.xlabel('Number of detectors')\n",
    "    plt.ylabel('Inertia')\n",
    "    inertia_values = inertia_dict.values()\n",
    "    plt.ylim(0, max(inertia_dict.values())*1.1)\n",
    "    plt.plot(analysis_list,\n",
    "             list(inertia_values))"
   ],
   "metadata": {
    "pycharm": {
     "name": "#%%\n"
    },
    "id": "ucIgLogNSlvh",
    "executionInfo": {
     "status": "aborted",
     "timestamp": 1641981102031,
     "user_tz": -60,
     "elapsed": 7,
     "user": {
      "displayName": "Benoît DELORME",
      "photoUrl": "https://lh3.googleusercontent.com/a/default-user=s64",
      "userId": "03178733258717085125"
     }
    }
   }
  },
  {
   "cell_type": "code",
   "execution_count": null,
   "outputs": [],
   "source": [
    "# Display performances according Calinski-Harabasz metric\n",
    "if True:\n",
    "    plt.title('Performances according Calinski-Harabasz metrics')\n",
    "    plt.xlabel('Number of detectors')\n",
    "    plt.ylabel('Score')\n",
    "    calhar_values = calinski_harabasz_dict.values()\n",
    "    plt.ylim(0, max(calinski_harabasz_dict.values())*1.1)\n",
    "    plt.plot(analysis_list,\n",
    "             list(calhar_values))"
   ],
   "metadata": {
    "pycharm": {
     "name": "#%%\n"
    },
    "id": "sU7qy8pSSlvh",
    "executionInfo": {
     "status": "aborted",
     "timestamp": 1641981102031,
     "user_tz": -60,
     "elapsed": 7,
     "user": {
      "displayName": "Benoît DELORME",
      "photoUrl": "https://lh3.googleusercontent.com/a/default-user=s64",
      "userId": "03178733258717085125"
     }
    }
   }
  },
  {
   "cell_type": "code",
   "execution_count": null,
   "outputs": [],
   "source": [
    "# Display performances according Davies-Bouldin metric\n",
    "if True:\n",
    "    plt.title('Performances according Davies-Bouldin metrics')\n",
    "    plt.xlabel('Number of detectors')\n",
    "    plt.ylabel('Score')\n",
    "    davbol_values = davies_bouldin_dict.values()\n",
    "    plt.ylim(0, max(davies_bouldin_dict.values())*1.1)\n",
    "    plt.plot(analysis_list,\n",
    "             list(davbol_values))"
   ],
   "metadata": {
    "pycharm": {
     "name": "#%%\n"
    },
    "id": "3fDVJkgWSlvh",
    "executionInfo": {
     "status": "aborted",
     "timestamp": 1641981102032,
     "user_tz": -60,
     "elapsed": 8,
     "user": {
      "displayName": "Benoît DELORME",
      "photoUrl": "https://lh3.googleusercontent.com/a/default-user=s64",
      "userId": "03178733258717085125"
     }
    }
   }
  },
  {
   "cell_type": "code",
   "execution_count": null,
   "outputs": [],
   "source": [
    "# Check the relevance of the groups found by k-means\n",
    "merge_df.sort_values(by=0, ascending=False).head(5)"
   ],
   "metadata": {
    "pycharm": {
     "name": "#%%\n"
    },
    "id": "WuyRAZ47Slvh",
    "executionInfo": {
     "status": "aborted",
     "timestamp": 1641981102032,
     "user_tz": -60,
     "elapsed": 7,
     "user": {
      "displayName": "Benoît DELORME",
      "photoUrl": "https://lh3.googleusercontent.com/a/default-user=s64",
      "userId": "03178733258717085125"
     }
    }
   }
  },
  {
   "cell_type": "markdown",
   "source": [
    "### 12 CNN"
   ],
   "metadata": {
    "collapsed": false,
    "id": "N2WaooIhSlvi"
   }
  },
  {
   "cell_type": "code",
   "execution_count": null,
   "outputs": [],
   "source": [
    "if True:\n",
    "def VGG16_predictions(df, i)\n",
    "    img_id = df['uniq_id'].iloc[i]\n",
    "    model = VGG16()\n",
    "    img = load_img(PATH_PICTURE + img_id + '.jpg', target_size=(224, 224))\n",
    "    img_arr = img_to_array(img)\n",
    "    img_arr = img_arr.reshape((1,img_arr.shape[0],\n",
    "                                                 img_arr.shape[1],\n",
    "                                                 img_arr.shape[2]))\n",
    "    img_arr = preprocess_input(img_arr)\n",
    "    y = model.predict(img_arr)\n",
    "    # Extract the 3 most probable classes\n",
    "    predictions_dict = decode_predictions(y, top=3)[0]\n",
    "    prediction_names = [element[1] for element in temp_dict]\n",
    "    prediction_values = [round(element[2]*100, 1) for element in temp_dict]\n",
    "    plt.title('Image N. {}'.format(img_id))\n",
    "    plt.xlim((0, 100))\n",
    "    plt.barh(y=keys_list,\n",
    "            width=values_list)\n",
    "    \n",
    "VGG16_predictions(items_df, 7)"
   ],
   "metadata": {
    "pycharm": {
     "name": "#%%\n"
    },
    "id": "ZNjo3N2oSlvi",
    "executionInfo": {
     "status": "aborted",
     "timestamp": 1641981102032,
     "user_tz": -60,
     "elapsed": 7,
     "user": {
      "displayName": "Benoît DELORME",
      "photoUrl": "https://lh3.googleusercontent.com/a/default-user=s64",
      "userId": "03178733258717085125"
     }
    }
   }
  },
  {
   "cell_type": "markdown",
   "source": [
    "## E. Sauvegarde"
   ],
   "metadata": {
    "collapsed": false,
    "id": "kEejfYTqSlvi"
   }
  },
  {
   "cell_type": "code",
   "execution_count": null,
   "outputs": [],
   "source": [
    "merge_df.to_csv(PATH+'merge_df.csv')"
   ],
   "metadata": {
    "pycharm": {
     "name": "#%%\n"
    },
    "id": "ILQcfndaSlvi",
    "executionInfo": {
     "status": "aborted",
     "timestamp": 1641981102033,
     "user_tz": -60,
     "elapsed": 8,
     "user": {
      "displayName": "Benoît DELORME",
      "photoUrl": "https://lh3.googleusercontent.com/a/default-user=s64",
      "userId": "03178733258717085125"
     }
    }
   }
  },
  {
   "cell_type": "code",
   "execution_count": null,
   "outputs": [],
   "source": [
    "!cp merge_df.csv PATH"
   ],
   "metadata": {
    "pycharm": {
     "name": "#%%\n"
    },
    "id": "NWxcX8XTSlvi",
    "executionInfo": {
     "status": "aborted",
     "timestamp": 1641981102033,
     "user_tz": -60,
     "elapsed": 8,
     "user": {
      "displayName": "Benoît DELORME",
      "photoUrl": "https://lh3.googleusercontent.com/a/default-user=s64",
      "userId": "03178733258717085125"
     }
    }
   }
  }
 ],
 "metadata": {
  "kernelspec": {
   "display_name": "Python 3",
   "language": "python",
   "name": "python3"
  },
  "language_info": {
   "codemirror_mode": {
    "name": "ipython",
    "version": 2
   },
   "file_extension": ".py",
   "mimetype": "text/x-python",
   "name": "python",
   "nbconvert_exporter": "python",
   "pygments_lexer": "ipython2",
   "version": "2.7.6"
  },
  "colab": {
   "name": "P6_01_eda.ipynb",
   "provenance": [],
   "collapsed_sections": [
    "i6nyxG2kSluv",
    "ItElGfJySluw",
    "CoOjasG6Slux",
    "qTshm_7jSluy",
    "QTvcX6KASluz",
    "5-9z7HVhSlu0",
    "EJ9l11BaSlu3",
    "qvohxrHTSlu3",
    "W5Qd1XffSlu4",
    "FUswFvIvSlu4",
    "Be5humeASlu6",
    "iA8cNr6NSlu6",
    "TxL2dl8XSlu-",
    "iN7i08FHSlu-",
    "BTESCUQpSlu_",
    "-GzxrDbzSlu_",
    "A0uS1HidSlvA",
    "RJidyCfESlvB",
    "WfJGHMIxSlvF",
    "Qh10nqFcSlvG",
    "DLKRUl69SlvH",
    "3K4AKlXZSlvH",
    "s0_hFcdPSlvI",
    "X_1cTsCqSlvI",
    "F_bFTV_kSlvJ",
    "eHuAO5l3SlvK",
    "65sRDEnTSlvM",
    "qLPUgCvmSlvN",
    "jfT1xWf4SlvN",
    "4t3V0O5VSlvR",
    "fDHBxALCSlvR",
    "H94fJ5knSlvS",
    "f_u3tb2JSlvS",
    "CaKuHLbXSlvT",
    "Y-RMyKS2SlvU",
    "qe5wpjLuSlvU",
    "eMkz8rN2SlvX",
    "rGtvoKT-SlvZ",
    "qDRXEUWZSlvb",
    "52yNusyFSlvc",
    "2S-jevC7Slvc",
    "yQl13RCjSlvc",
    "Z6d8giQDSlvd",
    "JBjK0fTISlvd",
    "mO8DV2rcSlve",
    "yQ9ZtZlXSlve",
    "N2WaooIhSlvi",
    "kEejfYTqSlvi"
   ]
  }
 },
 "nbformat": 4,
 "nbformat_minor": 0
}